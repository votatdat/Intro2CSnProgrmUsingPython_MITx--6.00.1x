{
 "cells": [
  {
   "cell_type": "markdown",
   "metadata": {},
   "source": [
    "Máy tính làm hai việc và chỉ hai việc: tính toán va nhớ các kết quả từ sự tính toán này."
   ]
  },
  {
   "cell_type": "markdown",
   "metadata": {},
   "source": [
    "Tất cả kiến thức chia ra làm 2 dạng: declarative (khai báo) hoặc imperative (bắt buộc) (hơi khó dịch nên nghe hơi kỳ kỳ).\n",
    "<br/> _Kiến thức khai báo (declarative knowledge)_ bao gồm các phát biểu của thực tế. Ví dụ, \"căn bậc hai của x là một số y sao cho y$\\ast$y = x\".\n",
    "<br/> _Kiến thức bắt buộc (imperative knowledge)_ là cách thức làm thế nào hay công thức để suy luận ra thông tin."
   ]
  },
  {
   "cell_type": "markdown",
   "metadata": {},
   "source": [
    "Heron của xứ Alexandra là người đầu tiên đưa ra cách tính căn bậc 2 của một số, gọi số cần tính căn bậc 2 là x. Các tính như sau:\n",
    "1. Bắt đầu đoán một con số, chẳng hạn là g.\n",
    "2. Nếu g$\\ast$g gần với x, ngừng đoán và nói g là đáp số.\n",
    "3. Nếu không phải, ta đoán số mới có giá trị bằng trung bình của g và x/g tức là (g+x/g)/2.\n",
    "4. Với số mới, ta lặp lại từ bước 2."
   ]
  },
  {
   "cell_type": "markdown",
   "metadata": {},
   "source": [
    "<br/>Ví dụ tìm băn bậc 2 của 25:\n",
    "1. Đoán giá trị bất kỳ, ví dụ: g = 3\n",
    "2. Chúng ta thấy rằng 3x3 = 9 không gần 25\n",
    "3. Chúng ta chọn giá trị g mới, g = (3+25/3)/2 = 5.67 (kết quả làm tròn vì đây là ví dụ đơn giản).\n",
    "4. Chúng ta quyết định rằng 5.67x5.67 = 32.15, vẫn chưa gần với 25.\n",
    "5. Chúng ta chọn giá trị g mới, g = (5.67 + 25/5.67)/2 = 5.04\n",
    "6. Chúng ta thấy rằng 5.04x5.04 = 25.4 gần với 25 và chọn 5.04 xấp xỉ bằng căn bậc 2 của 25.\n",
    "\n",
    "<br/>Những điều chúng ta làm ở trên gọi là _giải thuật (algorithm)_. Đây là một ví dụ của _giải thuật đoán và kiểm tra (guess-and-check algorithm)_ vì nó dựa trên thực tế rằng nó dễ dàng kiểm tra xem dự có tốt hay không."
   ]
  },
  {
   "cell_type": "markdown",
   "metadata": {},
   "source": [
    "Trên thế giới có nhiều ngôn ngữ lập trình. Không có ngôn ngữ lập trình tốt nhất, mỗi ngôn ngữ sẽ tốt hơn hoặc tệ hơn tùy vào ứng dụng. MATLAB là ngôn ngữ tốt để xử lý vector và ma trận, C tốt cho việc viết hệ điều hành, PHP tốt để thiết kế Web.\n",
    "<br/>Mỗi ngôn ngữ lập trình có một tập hợp các cấu trúc nguyên thủy (**primitive constructs**), cú pháp (**syntax**), ngữ nghĩa tĩnh (**static semantics**) và ngữ nghĩa (**semantics**).\n",
    "1. Cấu trúc nguyên thủy (primitive constructs) của Python gồm **literal** (ví dụ số 3.2 hoặc là string 'abc') và **infix operators** (ví dụ + và /).\n",
    "2. Cú pháp (syntax): định nghĩa các ký tự và ký hiệu nào được tạo ra. Ví dụ chuỗi 3.2 + 3.2 có cú pháp tốt, 3.2 3.2 không có cú pháp tốt. \n",
    "3. Ngữ nghĩa tĩnh (static sematics): định nghĩa những ký tự mà có nghĩa. Trong Python 32/'abc' có cú pháp tốt ($<literal> <operator> <literal>$).\n",
    "4. Ngữ nghĩa (sematics): cái này giống như đôi khi code ra một dòng lệnh đúng nhưng không giải quyết đúng vấn đề."
   ]
  },
  {
   "cell_type": "markdown",
   "metadata": {},
   "source": [
    "Lỗi syntax là lỗi phổ biến nhất nhưng ít nguy hiểm nhất trong các loại lỗi.\n",
    "<br/>Khi chương trình có lỗi, thì có thể xảy ra các trường hợp sau:\n",
    "1. Nó sẽ xung đột (crash) như ngừng chạy hoặc hiện ra vài chỉ dẫn rõ ràng về việc nó đã làm.\n",
    "2. Có thể chương trình chạy mãi, không bao giờ dừng.\n",
    "3. Nó chạy hoàn tất nhưng cho kết quả có thể đúng hoặc không đúng."
   ]
  },
  {
   "cell_type": "markdown",
   "metadata": {},
   "source": [
    "Mỗi cái ở trên đều tệ, nhưng tệ nhất là cái cuối cùng. "
   ]
  }
 ],
 "metadata": {
  "kernelspec": {
   "display_name": "Python 3",
   "language": "python",
   "name": "python3"
  },
  "language_info": {
   "codemirror_mode": {
    "name": "ipython",
    "version": 3
   },
   "file_extension": ".py",
   "mimetype": "text/x-python",
   "name": "python",
   "nbconvert_exporter": "python",
   "pygments_lexer": "ipython3",
   "version": "3.7.4"
  }
 },
 "nbformat": 4,
 "nbformat_minor": 2
}
