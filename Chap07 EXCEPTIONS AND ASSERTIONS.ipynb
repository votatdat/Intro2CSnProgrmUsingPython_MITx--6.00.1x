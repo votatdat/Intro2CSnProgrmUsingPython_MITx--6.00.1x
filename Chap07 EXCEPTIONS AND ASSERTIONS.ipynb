{
 "cells": [
  {
   "cell_type": "markdown",
   "metadata": {},
   "source": [
    "Ngoại lệ **(exception)** thường được định nghĩa là \"một cái gì đó không phù hợp tiêu chuẩn\" và do đó hiếm khi xảy ra. Tuy nhiên, ngoại lệ thì không hiếm ở Python, nó ở khắp mọi nơi, mọi module trong thư viện chuẩn của Python đều sử dụng ngoại lệ. Hãy xem ví dụ ở dưới:"
   ]
  },
  {
   "cell_type": "code",
   "execution_count": 1,
   "metadata": {},
   "outputs": [
    {
     "ename": "IndexError",
     "evalue": "list index out of range",
     "output_type": "error",
     "traceback": [
      "\u001b[1;31m---------------------------------------------------------------------------\u001b[0m",
      "\u001b[1;31mIndexError\u001b[0m                                Traceback (most recent call last)",
      "\u001b[1;32m<ipython-input-1-3cb2d94ffc42>\u001b[0m in \u001b[0;36m<module>\u001b[1;34m()\u001b[0m\n\u001b[0;32m      1\u001b[0m \u001b[0mtest\u001b[0m \u001b[1;33m=\u001b[0m \u001b[1;33m[\u001b[0m\u001b[1;36m1\u001b[0m\u001b[1;33m,\u001b[0m\u001b[1;36m2\u001b[0m\u001b[1;33m,\u001b[0m\u001b[1;36m3\u001b[0m\u001b[1;33m]\u001b[0m\u001b[1;33m\u001b[0m\u001b[0m\n\u001b[1;32m----> 2\u001b[1;33m \u001b[0mtest\u001b[0m\u001b[1;33m[\u001b[0m\u001b[1;36m3\u001b[0m\u001b[1;33m]\u001b[0m\u001b[1;33m\u001b[0m\u001b[0m\n\u001b[0m",
      "\u001b[1;31mIndexError\u001b[0m: list index out of range"
     ]
    }
   ],
   "source": [
    "test = [1,2,3]\n",
    "test[3]"
   ]
  },
  {
   "cell_type": "markdown",
   "metadata": {},
   "source": [
    "_IndexError_ là một kiểu ngoại lệ mà Python nêu lên khi chương trình cố gắng truy xuất một phần tử ngoài đường biên của kiểu dữ liệu có chỉ số. Nó cung cấp thông tin cho chúng ta cái gì gây nên ngoại lệ.\n",
    "<br>Một vài kiểu ngoại lệ phổ biến là: **TypeError,  IndexError, NameError, and ValueError**."
   ]
  },
  {
   "cell_type": "markdown",
   "metadata": {},
   "source": [
    "# 7.1 Xử lí ngoại lệ (Handling Exceptions)"
   ]
  },
  {
   "cell_type": "markdown",
   "metadata": {},
   "source": [
    "Cho tới nay, chúng ta đối xử với ngoại lệ như là các sự kiện nghiêm trọng. Khi ngoại lệ xảy ra, chương trình bị dừng (chính xác là xung đột (crash)), chúng ta quay lại coi code và tìm xem bị sai chỗ nào. Khi một ngoại lệ xuất hiện và làm cho chương trình dừng thì chúng ta gọi đây là ngoại lệ không được xử lí **(unhandled exception))**.\n",
    "<br/><br/>Tuy nhiên, chúng ta nên xử lí ngoại lệ. Đôi khi ngoại lệ xuất hiện vì có bug trong chương trình, nhưng nếu xảy ra nhiều lần, ngoại lệ phải được xem xét như cái gì đó mà ta phải lường trước, ví dụ như chương trình cố gắng mở file mà không tồn tại, hoặc người dùng nhập dữ liệu không phù hợp. Chúng ta xem ví dụ sau:"
   ]
  },
  {
   "cell_type": "code",
   "execution_count": 7,
   "metadata": {},
   "outputs": [
    {
     "ename": "ZeroDivisionError",
     "evalue": "division by zero",
     "output_type": "error",
     "traceback": [
      "\u001b[1;31m---------------------------------------------------------------------------\u001b[0m",
      "\u001b[1;31mZeroDivisionError\u001b[0m                         Traceback (most recent call last)",
      "\u001b[1;32m<ipython-input-7-127882b26136>\u001b[0m in \u001b[0;36m<module>\u001b[1;34m()\u001b[0m\n\u001b[0;32m      2\u001b[0m \u001b[0mnumFailures\u001b[0m \u001b[1;33m=\u001b[0m \u001b[1;36m0\u001b[0m\u001b[1;33m\u001b[0m\u001b[0m\n\u001b[0;32m      3\u001b[0m \u001b[1;33m\u001b[0m\u001b[0m\n\u001b[1;32m----> 4\u001b[1;33m \u001b[0msuccessFailureRatio\u001b[0m \u001b[1;33m=\u001b[0m \u001b[0mnumSuccesses\u001b[0m\u001b[1;33m/\u001b[0m\u001b[0mnumFailures\u001b[0m\u001b[1;33m\u001b[0m\u001b[0m\n\u001b[0m\u001b[0;32m      5\u001b[0m \u001b[0mprint\u001b[0m\u001b[1;33m(\u001b[0m\u001b[1;34m'The success/failure ratio is'\u001b[0m\u001b[1;33m,\u001b[0m \u001b[0msuccessFailureRatio\u001b[0m\u001b[1;33m)\u001b[0m\u001b[1;33m\u001b[0m\u001b[0m\n\u001b[0;32m      6\u001b[0m \u001b[0mprint\u001b[0m\u001b[1;33m(\u001b[0m\u001b[1;34m'Now here'\u001b[0m\u001b[1;33m)\u001b[0m\u001b[1;33m\u001b[0m\u001b[0m\n",
      "\u001b[1;31mZeroDivisionError\u001b[0m: division by zero"
     ]
    }
   ],
   "source": [
    "numSuccesses = 1\n",
    "numFailures = 0\n",
    "\n",
    "successFailureRatio = numSuccesses/numFailures \n",
    "print('The success/failure ratio is', successFailureRatio) \n",
    "print('Now here')"
   ]
  },
  {
   "cell_type": "markdown",
   "metadata": {},
   "source": [
    "Đa số trường hợp thì đoạn code này chạy tốt, nó chỉ thất bại khi numFailures bằng 0. Cố gắng chia cho 0 sẽ làm cho Python báo lỗi ZeroDivisionError và lệnh print sẽ chẳng bao giờ chạy được.\n",
    "Ta nên ghi thêm vài dòng như đoạn code ở dưới:"
   ]
  },
  {
   "cell_type": "code",
   "execution_count": 4,
   "metadata": {},
   "outputs": [
    {
     "name": "stdout",
     "output_type": "stream",
     "text": [
      "No failures so the success/failure ratio is undefined.\n",
      "Now here\n"
     ]
    }
   ],
   "source": [
    "numSuccesses = 1\n",
    "numFailures = 0\n",
    "\n",
    "try: \n",
    "    successFailureRatio = numSuccesses/float(numFailures) \n",
    "    print ('The success/failure ratio is', successFailureRatio)\n",
    "except ZeroDivisionError: \n",
    "    print ('No failures, so the success/failure ratio is undefined.') \n",
    "print ('Now here')"
   ]
  },
  {
   "cell_type": "markdown",
   "metadata": {},
   "source": [
    "Ở sau khối try, biên dịch sẽ cố gắng thực hiện biểu thức numSuccesses/numFailures. Nếu thực hiện biểu thức thành công sẽ chạy tiếp lệnh print ở cuối khối try và sẽ thực hiện tiếp lệnh print ở cuối cùng. <br/>Tuy nhiên, nếu thực hiện biểu thức numSuccesses/numFailures gặp phải lỗi chia cho 0, thì ZeroDivisionError sẽ xuất hiện và chương trình sẽ nhảy vào khối except và lệnh print trong khối block được thực hiện, sau đó lệnh print cuối cùng được thực hiện.\n",
    "<br>Chúng ta hãy xem xét ví dụ sau:"
   ]
  },
  {
   "cell_type": "code",
   "execution_count": 2,
   "metadata": {},
   "outputs": [
    {
     "name": "stdout",
     "output_type": "stream",
     "text": [
      "Enter  an  integer:  abc\n"
     ]
    },
    {
     "ename": "ValueError",
     "evalue": "invalid literal for int() with base 10: 'abc'",
     "output_type": "error",
     "traceback": [
      "\u001b[1;31m---------------------------------------------------------------------------\u001b[0m",
      "\u001b[1;31mValueError\u001b[0m                                Traceback (most recent call last)",
      "\u001b[1;32m<ipython-input-2-823b0c6c2ca6>\u001b[0m in \u001b[0;36m<module>\u001b[1;34m\u001b[0m\n\u001b[1;32m----> 1\u001b[1;33m \u001b[0mval\u001b[0m  \u001b[1;33m=\u001b[0m  \u001b[0mint\u001b[0m\u001b[1;33m(\u001b[0m\u001b[0minput\u001b[0m\u001b[1;33m(\u001b[0m\u001b[1;34m'Enter  an  integer:  '\u001b[0m\u001b[1;33m)\u001b[0m\u001b[1;33m)\u001b[0m\u001b[1;33m\u001b[0m\u001b[1;33m\u001b[0m\u001b[0m\n\u001b[0m\u001b[0;32m      2\u001b[0m \u001b[0mprint\u001b[0m\u001b[1;33m(\u001b[0m\u001b[1;34m'The  square  of  the  number you entered is'\u001b[0m\u001b[1;33m,\u001b[0m \u001b[0mval\u001b[0m\u001b[1;33m**\u001b[0m\u001b[1;36m2\u001b[0m\u001b[1;33m)\u001b[0m\u001b[1;33m\u001b[0m\u001b[1;33m\u001b[0m\u001b[0m\n",
      "\u001b[1;31mValueError\u001b[0m: invalid literal for int() with base 10: 'abc'"
     ]
    }
   ],
   "source": [
    "val  =  int(input('Enter  an  integer:  '))  \n",
    "print('The  square  of  the  number you entered is', val**2)"
   ]
  },
  {
   "cell_type": "markdown",
   "metadata": {},
   "source": [
    "Khi input từ người dùng yêu cầu nhập số nguyên, nhưng người dùng nhập abc thì lỗi ValueError sẽ xảy ra.\n",
    "<br> Ta nên sửa lại đoạn code như sau:"
   ]
  },
  {
   "cell_type": "code",
   "execution_count": 4,
   "metadata": {},
   "outputs": [
    {
     "name": "stdout",
     "output_type": "stream",
     "text": [
      "Enter an integer: abc\n",
      "abc is not an integer\n",
      "Enter an integer: dfsfsdf\n",
      "dfsfsdf is not an integer\n",
      "Enter an integer: fsfd\n",
      "fsfd is not an integer\n",
      "Enter an integer: -4\n",
      "The square of the number you entered is 16\n"
     ]
    }
   ],
   "source": [
    "while True: \n",
    "    val = input('Enter an integer: ') \n",
    "    try: \n",
    "        val = int(val) #convert str to int before returning except ValueError:\n",
    "        print ('The square of the number you entered is', val**2)\n",
    "        break #to exit the while loop \n",
    "    except ValueError: \n",
    "        print (val, 'is not an integer')"
   ]
  },
  {
   "cell_type": "markdown",
   "metadata": {},
   "source": [
    "Đoạn code đã từ 2 dòng lên tới 8 dòng, nếu có nhiều chỗ mà người dùng phải nhập số integer thì ta nên giải quyết bằng hàm."
   ]
  },
  {
   "cell_type": "code",
   "execution_count": 16,
   "metadata": {},
   "outputs": [
    {
     "name": "stdout",
     "output_type": "stream",
     "text": [
      "Enter an integer: ytry\n",
      "ytry is not an integer\n",
      "Enter an integer: 7.6\n",
      "7.6 is not an integer\n",
      "Enter an integer: 65564\n"
     ]
    },
    {
     "data": {
      "text/plain": [
       "65564"
      ]
     },
     "execution_count": 16,
     "metadata": {},
     "output_type": "execute_result"
    }
   ],
   "source": [
    "def readInt():\n",
    "    while True:\n",
    "        val = input('Enter an integer: ')\n",
    "        try:\n",
    "            return(int(val)) #convert str to int before returning \n",
    "        except ValueError:\n",
    "            print(val, 'is not an integer')\n",
    "\n",
    "readInt()"
   ]
  },
  {
   "cell_type": "markdown",
   "metadata": {},
   "source": [
    "Tốt hơn nữa, hàm này nên được tổng quát hóa để yêu cầu bất kể loại input:"
   ]
  },
  {
   "cell_type": "code",
   "execution_count": 8,
   "metadata": {},
   "outputs": [
    {
     "name": "stdout",
     "output_type": "stream",
     "text": [
      "Enter an integer: 54gh\n",
      "54gh is not an integer\n",
      "Enter an integer: ghg65\n",
      "ghg65 is not an integer\n",
      "Enter an integer: 77.998\n",
      "77.998 is not an integer\n",
      "Enter an integer: 656\n"
     ]
    },
    {
     "data": {
      "text/plain": [
       "656"
      ]
     },
     "execution_count": 8,
     "metadata": {},
     "output_type": "execute_result"
    }
   ],
   "source": [
    "def readVal(valType, requestMsg, errorMsg):\n",
    "    while True:\n",
    "        val = input(requestMsg + ' ')\n",
    "        try:\n",
    "            return(valType(val)) #convert str to valType before returning \n",
    "        except ValueError:\n",
    "            print(val, errorMsg)\n",
    " \n",
    "readVal(int, 'Enter an integer:', 'is not an integer')"
   ]
  },
  {
   "cell_type": "markdown",
   "metadata": {},
   "source": [
    "Hàm readVal ở trên được gọi là đa hình **(polymorphic)**, nó có thể làm việc với đối số có kiểu khác nhau. Những hàm như vậy được viết dễ dàng ở Python vì kiểu là đối tượng first-class. Chúng ta có thể yêu cầu một số integer bằng đoạn code:\n",
    "<br/> val = readVal(int, 'Enter an integer:', 'is not an integer')\n",
    "<br><br> Tất nhiên, có khả nằng sẽ có nhiều lỗi xảy ra nên cần hơn 1 loại ngoại lệ, except có thể được gọi với nhiều loại lỗi: **except (ValueError, TypeError)**.\n",
    "<br> còn nếu chỉ ghi _except:_ thì ngoại lệ sẽ được với mọi kiểu ngoại lệ xảy ra ở khối try."
   ]
  },
  {
   "cell_type": "markdown",
   "metadata": {},
   "source": [
    "# 7.2 Ngoại lệ như là cơ chế điều khiển luồng (Exceptions as a Control Flow Mechanism)"
   ]
  },
  {
   "cell_type": "markdown",
   "metadata": {},
   "source": [
    "Python có **raise** để ép một ngoại lệ nào đó phải xảy ra. Cấu trúc của lệnh raise là **raise exceptionName(arguments)**.\n",
    "<br>exceptionName thường là ngoại lệ tạo sẵn như ValueError. Tuy nhiên thì người lập trình có thể định nghĩa ngoại lệ mới bằng việc sử dụng subclass (Chap08) với class tạo sẵn Exception. \n",
    "<br>Các kiểu ngoại lệ khác nhau sẽ có các đối số khác nhau nhưng đa phần các đối số là chuỗi đơn, được dùng để diễn tả vì sao ngoại lệ xảy ra.\n",
    "<br/> Chúng ta hãy xem ví dụ ở dưới:"
   ]
  },
  {
   "cell_type": "code",
   "execution_count": 20,
   "metadata": {},
   "outputs": [],
   "source": [
    "def getRatios(vect1, vect2): \n",
    "    \"\"\"Assumes: vect1 and vect2 are lists of equal length of numbers \n",
    "       Returns: a list containing the meaningful values of  \n",
    "             vect1[i]/vect2[i]\"\"\" \n",
    "    ratios = [] \n",
    "    for index in range(len(vect1)): \n",
    "        try: \n",
    "            ratios.append(vect1[index]/float(vect2[index])) \n",
    "        except ZeroDivisionError: \n",
    "            ratios.append(float('NaN')) #NaN = Not a Number \n",
    "        except: \n",
    "            raise ValueError('getRatios called with bad arguments')\n",
    "            #print('getRatios called with bad arguments') \n",
    "    return ratios "
   ]
  },
  {
   "cell_type": "markdown",
   "metadata": {},
   "source": [
    "Ở đoạn code trên chúng ta có 2 khối except đi cùng 1 khối try. Nếu khối try có lỗi, Python sẽ check lỗi ZeroDivisionError trước, nếu có lỗi này sẽ thêm kết quả NaN (Not a Number) vào list. Nếu không phải lỗi này mà lỗi bất kỳ khác thì đoạn code sẽ thực hiện lệnh trong block exept sau. Đoạn code dưới đây sẽ mô tả đoạn code ở trên hoạt động thế nào."
   ]
  },
  {
   "cell_type": "code",
   "execution_count": 21,
   "metadata": {},
   "outputs": [
    {
     "name": "stdout",
     "output_type": "stream",
     "text": [
      "[1.0, 1.0, nan, 2.0]\n",
      "[]\n",
      "getRatios called with bad arguments\n"
     ]
    }
   ],
   "source": [
    "try:\n",
    "    print(getRatios([1.0, 2.0, 7.0, 6.0], [1.0, 2.0, 0.0, 3.0]))\n",
    "    print(getRatios([], []))\n",
    "    print(getRatios([1.0, 2.0], [3.0]))\n",
    "except ValueError as msg:\n",
    "    print(msg)"
   ]
  },
  {
   "cell_type": "markdown",
   "metadata": {},
   "source": [
    "Khi chúng ta đưa vào 2 list, dù là list rỗng hay có số 0 thì vẫn in ra được list mới. Nhưng khi đưa vào 2 list không cùng chiều dài thì lỗi sẽ được in ra."
   ]
  },
  {
   "cell_type": "markdown",
   "metadata": {},
   "source": [
    "Để so sánh, đoạn code ở dưới có cùng chức năng, nhưng không dùng try-except."
   ]
  },
  {
   "cell_type": "code",
   "execution_count": 17,
   "metadata": {},
   "outputs": [
    {
     "name": "stdout",
     "output_type": "stream",
     "text": [
      "[1.0, 1.0, nan, 2.0]\n",
      "[]\n",
      "getRatios called with bad arguments\n"
     ]
    }
   ],
   "source": [
    "def getRatios(vect1, vect2):  \n",
    "    \"\"\"Assumes: vect1 and vect2 are lists of equal length of numbers \n",
    "       Returns: a list containing the meaningful values of  \n",
    "             vect1[i]/vect2[i]\"\"\" \n",
    "    ratios = [] \n",
    "    if len(vect1) != len(vect2): \n",
    "        raise ValueError('getRatios called with bad arguments') \n",
    "    for index in range(len(vect1)): \n",
    "        vect1Elem = vect1[index] \n",
    "        vect2Elem = vect2[index] \n",
    "        if (type(vect1Elem) not in (int, float))\\\n",
    "        or (type(vect2Elem) not in (int, float)): \n",
    "            raise ValueError('getRatios called with bad arguments') \n",
    "        if vect2Elem == 0.0: \n",
    "            ratios.append(float('NaN')) #NaN = Not a Number \n",
    "        else: \n",
    "            ratios.append(vect1Elem/vect2Elem) \n",
    "    return ratios\n",
    "\n",
    "try:\n",
    "    print(getRatios([1.0, 2.0, 7.0, 6.0], [1.0, 2.0, 0.0, 3.0]))\n",
    "    print(getRatios([], []))\n",
    "    print(getRatios([1.0, 2.0], [3.0]))\n",
    "except ValueError as msg:\n",
    "    print(msg)"
   ]
  },
  {
   "cell_type": "markdown",
   "metadata": {},
   "source": [
    "Chúng ta thấy đoạn code ở dưới này dài hơn và khó đọc hơn đoạn code ở trên và nó cũng kém hiệu quả hơn. Chúng ta xem thêm 1 ví dụ nữa:"
   ]
  },
  {
   "cell_type": "code",
   "execution_count": 22,
   "metadata": {},
   "outputs": [
    {
     "name": "stdout",
     "output_type": "stream",
     "text": [
      "Whoops. getGrades could not open quiz1grades.txt\n"
     ]
    }
   ],
   "source": [
    "def getGrades(fname): \n",
    "    try: \n",
    "        gradesFile = open(fname, 'r') #open file for reading \n",
    "    except IOError: \n",
    "        raise ValueError('getGrades could not open ' + fname) \n",
    "    grades = [] \n",
    "    for line in gradesFile: \n",
    "        try: \n",
    "            grades.append(float(line)) \n",
    "        except: \n",
    "            raise ValueError('Unable to convert line to float') \n",
    "    return grades \n",
    "    \n",
    "\n",
    "try: \n",
    "   grades = getGrades('quiz1grades.txt') \n",
    "   grades.sort() \n",
    "   median = grades[len(grades)//2] \n",
    "   print ('Median grade is', median) \n",
    "except ValueError as errorMsg: \n",
    "   print ('Whoops.', errorMsg) "
   ]
  },
  {
   "cell_type": "markdown",
   "metadata": {},
   "source": [
    "# 7.3 Assertions"
   ]
  },
  {
   "cell_type": "markdown",
   "metadata": {},
   "source": [
    "Python cung cấp *assert* cho lập trình viên một công cụ đơn giản để xác nhận lệnh tính toán như kỳ vòng. *Assert* có 2 dạng:\n",
    "```Python\n",
    "assert Boolean expression\n",
    "```\n",
    "or\n",
    "```Python\n",
    "assert Boolean expression, argument\n",
    "```"
   ]
  },
  {
   "cell_type": "markdown",
   "metadata": {},
   "source": [
    "Khi thêm assert thì một giá trị Boolean sẽ được trả về, True nếu chương trình chạy đúng, nếu False thì nó trả về ngoại lệ AssertionError."
   ]
  },
  {
   "cell_type": "code",
   "execution_count": 25,
   "metadata": {},
   "outputs": [
    {
     "name": "stdout",
     "output_type": "stream",
     "text": [
      "32.0\n",
      "451\n"
     ]
    },
    {
     "ename": "AssertionError",
     "evalue": "Lanh hon do khong tuyet doi!",
     "output_type": "error",
     "traceback": [
      "\u001b[1;31m---------------------------------------------------------------------------\u001b[0m",
      "\u001b[1;31mAssertionError\u001b[0m                            Traceback (most recent call last)",
      "\u001b[1;32m<ipython-input-25-ea862b412825>\u001b[0m in \u001b[0;36m<module>\u001b[1;34m\u001b[0m\n\u001b[0;32m      5\u001b[0m \u001b[0mprint\u001b[0m\u001b[1;33m(\u001b[0m\u001b[0mChuyenKF\u001b[0m\u001b[1;33m(\u001b[0m\u001b[1;36m273\u001b[0m\u001b[1;33m)\u001b[0m\u001b[1;33m)\u001b[0m\u001b[1;33m\u001b[0m\u001b[1;33m\u001b[0m\u001b[0m\n\u001b[0;32m      6\u001b[0m \u001b[0mprint\u001b[0m\u001b[1;33m(\u001b[0m\u001b[0mint\u001b[0m\u001b[1;33m(\u001b[0m\u001b[0mChuyenKF\u001b[0m\u001b[1;33m(\u001b[0m\u001b[1;36m505.78\u001b[0m\u001b[1;33m)\u001b[0m\u001b[1;33m)\u001b[0m\u001b[1;33m)\u001b[0m\u001b[1;33m\u001b[0m\u001b[1;33m\u001b[0m\u001b[0m\n\u001b[1;32m----> 7\u001b[1;33m \u001b[0mprint\u001b[0m\u001b[1;33m(\u001b[0m\u001b[0mChuyenKF\u001b[0m\u001b[1;33m(\u001b[0m\u001b[1;33m-\u001b[0m\u001b[1;36m5\u001b[0m\u001b[1;33m)\u001b[0m\u001b[1;33m)\u001b[0m\u001b[1;33m\u001b[0m\u001b[1;33m\u001b[0m\u001b[0m\n\u001b[0m",
      "\u001b[1;32m<ipython-input-25-ea862b412825>\u001b[0m in \u001b[0;36mChuyenKF\u001b[1;34m(Nhietdo)\u001b[0m\n\u001b[0;32m      1\u001b[0m \u001b[1;32mdef\u001b[0m \u001b[0mChuyenKF\u001b[0m\u001b[1;33m(\u001b[0m\u001b[0mNhietdo\u001b[0m\u001b[1;33m)\u001b[0m\u001b[1;33m:\u001b[0m\u001b[1;33m\u001b[0m\u001b[1;33m\u001b[0m\u001b[0m\n\u001b[1;32m----> 2\u001b[1;33m    \u001b[1;32massert\u001b[0m \u001b[1;33m(\u001b[0m\u001b[0mNhietdo\u001b[0m \u001b[1;33m>=\u001b[0m \u001b[1;36m0\u001b[0m\u001b[1;33m)\u001b[0m\u001b[1;33m,\u001b[0m \u001b[1;34m\"Lanh hon do khong tuyet doi!\"\u001b[0m\u001b[1;33m\u001b[0m\u001b[1;33m\u001b[0m\u001b[0m\n\u001b[0m\u001b[0;32m      3\u001b[0m    \u001b[1;32mreturn\u001b[0m \u001b[1;33m(\u001b[0m\u001b[1;33m(\u001b[0m\u001b[0mNhietdo\u001b[0m\u001b[1;33m-\u001b[0m\u001b[1;36m273\u001b[0m\u001b[1;33m)\u001b[0m\u001b[1;33m*\u001b[0m\u001b[1;36m1.8\u001b[0m\u001b[1;33m)\u001b[0m\u001b[1;33m+\u001b[0m\u001b[1;36m32\u001b[0m\u001b[1;33m\u001b[0m\u001b[1;33m\u001b[0m\u001b[0m\n\u001b[0;32m      4\u001b[0m \u001b[1;33m\u001b[0m\u001b[0m\n\u001b[0;32m      5\u001b[0m \u001b[0mprint\u001b[0m\u001b[1;33m(\u001b[0m\u001b[0mChuyenKF\u001b[0m\u001b[1;33m(\u001b[0m\u001b[1;36m273\u001b[0m\u001b[1;33m)\u001b[0m\u001b[1;33m)\u001b[0m\u001b[1;33m\u001b[0m\u001b[1;33m\u001b[0m\u001b[0m\n",
      "\u001b[1;31mAssertionError\u001b[0m: Lanh hon do khong tuyet doi!"
     ]
    }
   ],
   "source": [
    "def ChuyenKF(Nhietdo):\n",
    "   assert (Nhietdo >= 0), \"Lanh hon do khong tuyet doi!\"\n",
    "   return ((Nhietdo-273)*1.8)+32\n",
    "\n",
    "print(ChuyenKF(273))\n",
    "print(int(ChuyenKF(505.78)))\n",
    "print(ChuyenKF(-5))"
   ]
  },
  {
   "cell_type": "code",
   "execution_count": null,
   "metadata": {},
   "outputs": [],
   "source": []
  }
 ],
 "metadata": {
  "kernelspec": {
   "display_name": "Python 3",
   "language": "python",
   "name": "python3"
  },
  "language_info": {
   "codemirror_mode": {
    "name": "ipython",
    "version": 3
   },
   "file_extension": ".py",
   "mimetype": "text/x-python",
   "name": "python",
   "nbconvert_exporter": "python",
   "pygments_lexer": "ipython3",
   "version": "3.7.5"
  }
 },
 "nbformat": 4,
 "nbformat_minor": 2
}
