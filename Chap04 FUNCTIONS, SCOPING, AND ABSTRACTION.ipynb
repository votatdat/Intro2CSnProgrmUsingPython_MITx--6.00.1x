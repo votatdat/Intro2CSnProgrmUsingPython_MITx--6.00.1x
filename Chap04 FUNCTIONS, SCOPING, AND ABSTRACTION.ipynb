{
 "cells": [
  {
   "cell_type": "markdown",
   "metadata": {},
   "source": [
    "Chúng ta xem lại đoạn code ở chap trước."
   ]
  },
  {
   "cell_type": "code",
   "execution_count": 1,
   "metadata": {},
   "outputs": [
    {
     "name": "stdout",
     "output_type": "stream",
     "text": [
      "numGuesses = 13\n",
      "5.00030517578125 is close to square root of 25\n"
     ]
    }
   ],
   "source": [
    "x = 25\n",
    "epsilon = 0.01\n",
    "numGuesses = 0\n",
    "low = 0.0\n",
    "high = max(1.0, x)\n",
    "ans = (high + low)/2.0\n",
    "while abs(ans**2 - x) >= epsilon:\n",
    "    numGuesses += 1\n",
    "    if ans**2 < x:\n",
    "        low = ans\n",
    "    else:\n",
    "        high = ans\n",
    "    ans = (high + low)/2.0\n",
    "print('numGuesses =', numGuesses)\n",
    "print(ans, 'is close to square root of', x)"
   ]
  },
  {
   "cell_type": "markdown",
   "metadata": {},
   "source": [
    "Đây là một đoạn code tốt, nhưng thiếu nhiều tiện ích: nó chỉ làm việc với giá trị x và epsilon cho trước. Nếu chúng ta muốn sử dụng lại nó thì chúng ta phải copy đoạn code, thay đổi giá trị của biến và paste nó ở nơi nào cần. \n",
    "<br/> Hoặc hơn nữa, chúng ta muốn tính căn bậc 3 thay vì căn bậc 2, chúng ta phải sửa đổi đoạn code này rất nhiều. Python cung cấp cho chúng ta nhiều công cụ để có thể tổng quát hóa và sử dụng lại đoạn mã. Một trong những thứ quan trọng nhất đó là **Hàm (Function)**."
   ]
  },
  {
   "cell_type": "markdown",
   "metadata": {},
   "source": [
    "# 4.1 Hàm và phạm vi\n",
    "## 4.1.1 Định nghĩa hàm"
   ]
  },
  {
   "cell_type": "markdown",
   "metadata": {},
   "source": [
    "Trong Python, hàm được định nghĩa như sau:\n",
    "```Python\n",
    "def tên hàm (danh sách các đối số):\n",
    "    thân hàm\n",
    "```"
   ]
  },
  {
   "cell_type": "markdown",
   "metadata": {},
   "source": [
    "Ở ví dụ sau, hàm maxVal trả về giá trị lớn hơn của 2 giá trị đối số đưa vào."
   ]
  },
  {
   "cell_type": "code",
   "execution_count": 2,
   "metadata": {},
   "outputs": [],
   "source": [
    "def maxVal(x, y):\n",
    "    if x > y:\n",
    "        return x\n",
    "    else:\n",
    "        return y"
   ]
  },
  {
   "cell_type": "code",
   "execution_count": 3,
   "metadata": {
    "scrolled": true
   },
   "outputs": [
    {
     "data": {
      "text/plain": [
       "4"
      ]
     },
     "execution_count": 3,
     "metadata": {},
     "output_type": "execute_result"
    }
   ],
   "source": [
    "maxVal(3, 4)"
   ]
  },
  {
   "cell_type": "markdown",
   "metadata": {},
   "source": [
    "Ghi gọi hàm, thì 3 sẽ được gán vào x và 4 được gán vào y. Vì y = 4 > x = 3 nên giá trị trả về là 4. Ta cũng có thể nhân 2 hàm như ở dưới:"
   ]
  },
  {
   "cell_type": "code",
   "execution_count": 8,
   "metadata": {},
   "outputs": [
    {
     "data": {
      "text/plain": [
       "24"
      ]
     },
     "execution_count": 8,
     "metadata": {},
     "output_type": "execute_result"
    }
   ],
   "source": [
    "maxVal(3, 4) * maxVal(6, 4)"
   ]
  },
  {
   "cell_type": "markdown",
   "metadata": {},
   "source": [
    "## 4.1.2 Đối số và giá trị mặc định\n",
    "Chúng ta xe ví dụ sau:"
   ]
  },
  {
   "cell_type": "code",
   "execution_count": 5,
   "metadata": {},
   "outputs": [],
   "source": [
    "def printName(firstName, lastName, reverse):\n",
    "    if reverse:\n",
    "        print(lastName + ', ' + firstName)\n",
    "    else:\n",
    "        print(firstName, lastName)"
   ]
  },
  {
   "cell_type": "code",
   "execution_count": 7,
   "metadata": {},
   "outputs": [
    {
     "name": "stdout",
     "output_type": "stream",
     "text": [
      "Olga Puchmajerova\n",
      "Olga Puchmajerova\n",
      "Olga Puchmajerova\n",
      "Olga Puchmajerova\n"
     ]
    }
   ],
   "source": [
    "printName('Olga', 'Puchmajerova', False)\n",
    "printName('Olga', 'Puchmajerova', reverse = False)\n",
    "printName('Olga', lastName = 'Puchmajerova', reverse = False)\n",
    "printName(lastName = 'Puchmajerova', firstName = 'Olga', reverse = False)"
   ]
  },
  {
   "cell_type": "markdown",
   "metadata": {},
   "source": [
    "Ở lệnh trên cùng, theo mặc định thì 'Olga' sẽ được gán vào firstName, 'Puchmajerova' sẽ được gan vào lastName, và False sẽ được gán vào reverse, do reverse là False nên hàm sẽ in ở else : in ra thứ tự firstName, rồi lastName là Olga Puchmajerova.\n",
    "<br/> Các lần gọi hàm ở dưới, dù theo hoặc không theo thứ tự, nhưng phép gán tường mình (như lần gọi lệnh cuối cùng) thì hàm vẫn in ra như lần gọi lệnh đầu tiên. \n",
    "<br/> Ta sửa hàm lại một chút xíu:"
   ]
  },
  {
   "cell_type": "code",
   "execution_count": 10,
   "metadata": {},
   "outputs": [],
   "source": [
    "def printName(firstName, lastName, reverse = False):\n",
    "    if reverse:\n",
    "        print(lastName + ', ' + firstName)\n",
    "    else:\n",
    "        print(firstName, lastName)"
   ]
  },
  {
   "cell_type": "code",
   "execution_count": 11,
   "metadata": {},
   "outputs": [
    {
     "name": "stdout",
     "output_type": "stream",
     "text": [
      "Olga Puchmajerova\n",
      "Puchmajerova, Olga\n",
      "Puchmajerova, Olga\n"
     ]
    }
   ],
   "source": [
    "printName('Olga', 'Puchmajerova')\n",
    "printName('Olga', 'Puchmajerova', True)\n",
    "printName('Olga', 'Puchmajerova', reverse = True)"
   ]
  },
  {
   "cell_type": "markdown",
   "metadata": {},
   "source": [
    "Lần này, biến reverse được gán mặc định là False, nên nếu không truyền đối số vào thì hàm sẽ chạy lệnh nhánh else, khi truyền đối số là True thì hàm sẽ chạy lệnh bên nhánh if."
   ]
  },
  {
   "cell_type": "markdown",
   "metadata": {},
   "source": [
    "## 4.1.3 Phạm vi\n",
    "Chúng ta xem hàm phía dưới:"
   ]
  },
  {
   "cell_type": "code",
   "execution_count": 12,
   "metadata": {},
   "outputs": [
    {
     "name": "stdout",
     "output_type": "stream",
     "text": [
      "x = 4\n",
      "z = 4\n",
      "x = 3\n",
      "y = 2\n"
     ]
    }
   ],
   "source": [
    "def f(x): #name x used as formal parameter\n",
    "    y = 1\n",
    "    x = x + y\n",
    "    print('x =', x)\n",
    "    return x\n",
    "\n",
    "x = 3\n",
    "y = 2\n",
    "z = f(x) #value of x used as actual parameter\n",
    "print('z =', z)\n",
    "print('x =', x)\n",
    "print('y =', y)"
   ]
  },
  {
   "cell_type": "markdown",
   "metadata": {},
   "source": [
    "Khi gọi hàm f thì biến x trong hàm f được gán cục bộ bằng giá trị thực của biến thực x. Tuy hai biến này cùng tên, nhưng phạm vi của chúng khác nhau. Mỗi hàm định nghĩa một không gian các biến cục bộ cho hàm đó (không gian này gọi là **name space** hoặc **scope**). Các biến trong hàm f gọi là **biến cục bộ (local variable)**.\n",
    "<br/> Chúng ta giải thích hàm trên như sau:\n",
    "- Khi gán x = 3, chương trình sẽ tạo 1 không gian cho x. Chúng ta gọi là S1.\n",
    "- Tương tự, Khi gán y = 3, chương trình sẽ tạo 1 không gian cho y. Chúng ta gọi là S2.\n",
    "- Khi gán z = f(x) thì 2 không gian được tạo, S3 cho z và S4 cho f.\n",
    "- Trong không gian S4 này, x là được lấy từ lần gán trên cùng vào, tức là x = 3.\n",
    "- Tiếp theo, biến y được tạo ra nhưng không liên quan tới biến y bên ngoài, chúng ta tạm gọi y này là y_S4 (để phân biệt với y_S2 ở trên).\n",
    "- Tiếp theo, trong phép gán x = x + y thì y là y_S4, x này là x_S4 nhưng x_S4 bên phải lấy giá trị từ x_S1 = 3 đưa vào. Lúc này x_S4 = 1 + 3 = 4.\n",
    "- Lệnh print tiếp theo là in x_S4 nên sẽ in ra \"x = 4\", hàm trả về x lúc này cũng là trả về x_S4 = 4.\n",
    "- Sau khi trả về thì không gian S4 bị hủy nên x_S4 và y_S4 cũng bị hủy.\n",
    "- Lúc này z = f(x) = 4 (giá trị trả về của hàm) nên in ra \"z = 4\". Lúc này z ở không gian S3 và được gán giá trị trả về của hàm.\n",
    "- Lúc này ở bên ngoài x_S1 và y_S2 hoàn toàn không bị tác động gì nên vẫn giữa giá trị cũ nên sẽ in ra \"x = 3\" và \"y = 2\"."
   ]
  },
  {
   "cell_type": "markdown",
   "metadata": {},
   "source": [
    "Chúng ta xem tiếp ví dụ ở dưới:"
   ]
  },
  {
   "cell_type": "code",
   "execution_count": 8,
   "metadata": {},
   "outputs": [
    {
     "name": "stdout",
     "output_type": "stream",
     "text": [
      "x = 4\n",
      "z = 4\n",
      "x = abc\n",
      "x = 4\n",
      "x = 3\n",
      "z = <function f.<locals>.g at 0x000001D4D1B4FA68>\n",
      "x = abc\n"
     ]
    }
   ],
   "source": [
    "def f(x):\n",
    "    def g():\n",
    "        x = 'abc'\n",
    "        print('x =', x)\n",
    "    def h():\n",
    "        z = x\n",
    "        print('z =', z)\n",
    "    x = x + 1\n",
    "    print('x =', x)\n",
    "    h()\n",
    "    g()\n",
    "    print('x =', x)\n",
    "    return g\n",
    "\n",
    "x = 3\n",
    "z = f(x)\n",
    "print('x =', x)\n",
    "print('z =', z)\n",
    "z()"
   ]
  },
  {
   "cell_type": "markdown",
   "metadata": {},
   "source": [
    "<img src=\"4_1_3_01.png\">"
   ]
  },
  {
   "cell_type": "markdown",
   "metadata": {},
   "source": [
    "- Ở bước 1, khi gán x = 3 và gán z = f(x) thì không gian cho z, x, f được tạo ra. Để khỏi nhầm lẫn chúng ta gọi các không gian này là x_S, z_S và f_S.\n",
    "- Trong hàm f có hàm g, h và biến x nên trong không gian của hàm f lại tạo ra 3 không gian mới là h_f_S, g_f_S và x_f_S.\n",
    "- Câu lệnh z = f(x) sẽ đưa chúng ta đi vào hàm f, ở hàm f thì 2 hàm g và h được định nghĩa nhưng được gọi sau câu lệnh x = x + 1 nên không gian cho biến x này được tạo trước, biến x này có không gian x_f_S. \n",
    "- Trong câu lệnh x = x + 1 thì x này là x_f_S mới nói ở trên, và giá trị x bên phải lấy từ x_S = 3 từ ngoài hàm f. Lúc này câu lệnh tiếp theo sẽ in ra giá trị của x_f_S1 là 4: \"x = 4\".\n",
    "- Tiếp theo, hàm h được gọi, hàm h không có biến số đầu vào nên x này (gọi là x_h_f_S) lấy giá trị từ đối số đầu vào của x trong hàm f (là x_f_S) nên có giá trị là 4 ở trên, z_h_f_S lúc này cũng sẽ có giá trị 4. Lúc này hàm h có print z, lúc này sẽ in ra \"z = 4\". Khi xong hàm h thì biến z_h_f_S bị hủy.\n",
    "- Tiếp theo hàm g được gọi, hàm g không có biến số đầu vào nên x này (là x_g_f_S) có giá trị x_f_S nhưng lần này được gán giá trị mới là 'abc'. Nên lệnh print tiếp theo sẽ print ra \"x = abc\". Khi xong hàm g thì biến x_g_f_S bị hủy.\n",
    "- Dưới hàm g lại in x một lần nữa, x này là x_f_S nên có giá trị là 4. Lúc này in ra \"x = 4\". \n",
    "- Tới return g sẽ kết thúc hàm f nên x_f_S cũng bị hủy. Hàm f trả lại hàm g nên sẽ trả lại địa chỉ vị trí hàm g. Tất cả x_f_* sẽ bị hủy.\n",
    "- Lúc này ra ngoài hàm chính, lúc này x có giá trị của x_S nên sẽ in ra \"x = 3\".\n",
    "- Xuống dưới tương tự in ra z là địa chỉ vị trí của hàm g nên có giá trị kỳ quái kiểu \"x = \\<function f.\\<locals\\>.g at 0x000001D4D1B4F828\\>\"\n",
    "- Lệnh cuối cùng, vì z = f(x) mà f(x) trả về vị trí hàm g nên z() sẽ là hàm g nên sẽ in ra \"x = abc\".\n",
    "<br/>Để rõ hơn, chúng ta lại edit đoạn code một xíu như bên dưới."
   ]
  },
  {
   "cell_type": "code",
   "execution_count": 7,
   "metadata": {},
   "outputs": [
    {
     "name": "stdout",
     "output_type": "stream",
     "text": [
      "x_f_S = 4\n",
      "z_h_S = 4\n",
      "x_g_S = abc\n",
      "x_f_S_2 = 4\n",
      "x_S = 3\n",
      "z_S = <function f.<locals>.g at 0x000001D4D1B4FC18>\n",
      "x_g_S = abc\n"
     ]
    }
   ],
   "source": [
    "def f(x):\n",
    "    def g():\n",
    "        x = 'abc'\n",
    "        print('x_g_S =', x)\n",
    "    def h():\n",
    "        z = x\n",
    "        print('z_h_S =', z)\n",
    "    x = x + 1\n",
    "    print('x_f_S =', x)\n",
    "    h()\n",
    "    g()\n",
    "    print('x_f_S_2 =', x)\n",
    "    return g\n",
    "\n",
    "x = 3\n",
    "z = f(x)\n",
    "print('x_S =', x)\n",
    "print('z_S =', z)\n",
    "z()"
   ]
  },
  {
   "cell_type": "markdown",
   "metadata": {},
   "source": [
    "Một ví dụ khác:"
   ]
  },
  {
   "cell_type": "code",
   "execution_count": 10,
   "metadata": {},
   "outputs": [],
   "source": [
    "def f():\n",
    "    print(x)\n",
    "\n",
    "def g():\n",
    "    print(x)\n",
    "    x = 1"
   ]
  },
  {
   "cell_type": "code",
   "execution_count": 11,
   "metadata": {},
   "outputs": [
    {
     "name": "stdout",
     "output_type": "stream",
     "text": [
      "3\n"
     ]
    }
   ],
   "source": [
    "x = 3\n",
    "f()"
   ]
  },
  {
   "cell_type": "code",
   "execution_count": 12,
   "metadata": {},
   "outputs": [
    {
     "ename": "UnboundLocalError",
     "evalue": "local variable 'x' referenced before assignment",
     "output_type": "error",
     "traceback": [
      "\u001b[1;31m---------------------------------------------------------------------------\u001b[0m",
      "\u001b[1;31mUnboundLocalError\u001b[0m                         Traceback (most recent call last)",
      "\u001b[1;32m<ipython-input-12-60d74d208d47>\u001b[0m in \u001b[0;36m<module>\u001b[1;34m\u001b[0m\n\u001b[0;32m      1\u001b[0m \u001b[0mx\u001b[0m \u001b[1;33m=\u001b[0m \u001b[1;36m3\u001b[0m\u001b[1;33m\u001b[0m\u001b[1;33m\u001b[0m\u001b[0m\n\u001b[1;32m----> 2\u001b[1;33m \u001b[0mg\u001b[0m\u001b[1;33m(\u001b[0m\u001b[1;33m)\u001b[0m\u001b[1;33m\u001b[0m\u001b[1;33m\u001b[0m\u001b[0m\n\u001b[0m",
      "\u001b[1;32m<ipython-input-10-c0949a11061b>\u001b[0m in \u001b[0;36mg\u001b[1;34m()\u001b[0m\n\u001b[0;32m      3\u001b[0m \u001b[1;33m\u001b[0m\u001b[0m\n\u001b[0;32m      4\u001b[0m \u001b[1;32mdef\u001b[0m \u001b[0mg\u001b[0m\u001b[1;33m(\u001b[0m\u001b[1;33m)\u001b[0m\u001b[1;33m:\u001b[0m\u001b[1;33m\u001b[0m\u001b[1;33m\u001b[0m\u001b[0m\n\u001b[1;32m----> 5\u001b[1;33m     \u001b[0mprint\u001b[0m\u001b[1;33m(\u001b[0m\u001b[0mx\u001b[0m\u001b[1;33m)\u001b[0m\u001b[1;33m\u001b[0m\u001b[1;33m\u001b[0m\u001b[0m\n\u001b[0m\u001b[0;32m      6\u001b[0m     \u001b[0mx\u001b[0m \u001b[1;33m=\u001b[0m \u001b[1;36m1\u001b[0m\u001b[1;33m\u001b[0m\u001b[1;33m\u001b[0m\u001b[0m\n",
      "\u001b[1;31mUnboundLocalError\u001b[0m: local variable 'x' referenced before assignment"
     ]
    }
   ],
   "source": [
    "x = 3\n",
    "g()"
   ]
  },
  {
   "cell_type": "markdown",
   "metadata": {},
   "source": [
    "Gọi hàm g() sẽ gây ra lỗi \"UnboundLocalError: local variable 'x' referenced before assignment\".\n",
    "<br/> Ví bất cứ biến nào ở trong 1 hàm sẽ là biến cục bộ của hàm đó. Hàm g() không có đối số đưa vào nên lúc này biến x trong hàm g() là biến cục bộ trong hàm g() nhưng lại chưa được khai báo lần nào nên print ra sẽ báo lỗi."
   ]
  },
  {
   "cell_type": "markdown",
   "metadata": {},
   "source": [
    "# 4.2 Làm Specifications cho hàm"
   ]
  },
  {
   "cell_type": "markdown",
   "metadata": {},
   "source": [
    "Giả sử chúng ta có hàm findRoot và testFindRoot như ở dưới:"
   ]
  },
  {
   "cell_type": "code",
   "execution_count": 35,
   "metadata": {},
   "outputs": [
    {
     "name": "stdout",
     "output_type": "stream",
     "text": [
      "Testing x = 0.25 and power =  1\n",
      "  0.25 ~= 0.25\n",
      "Testing x = 0.25 and power =  2\n",
      "  0.25 ~= 0.25\n",
      "Testing x = 0.25 and power =  3\n",
      "  0.24990749079734087 ~= 0.25\n",
      "Testing x = -0.25 and power =  1\n",
      "  -0.25 ~= -0.25\n",
      "Testing x = -0.25 and power =  2\n",
      " No root\n",
      "Testing x = -0.25 and power =  3\n",
      "  -0.24990749079734087 ~= -0.25\n",
      "Testing x = 2 and power =  1\n",
      "  1.999908447265625 ~= 2\n",
      "Testing x = 2 and power =  2\n",
      "  2.0000906325876713 ~= 2\n",
      "Testing x = 2 and power =  3\n",
      "  2.000059155646067 ~= 2\n",
      "Testing x = -2 and power =  1\n",
      "  -1.999908447265625 ~= -2\n",
      "Testing x = -2 and power =  2\n",
      " No root\n",
      "Testing x = -2 and power =  3\n",
      "  -2.000059155646067 ~= -2\n",
      "Testing x = 8 and power =  1\n",
      "  7.999931335449219 ~= 8\n",
      "Testing x = 8 and power =  2\n",
      "  7.99999568007479 ~= 8\n",
      "Testing x = 8 and power =  3\n",
      "  8.000068664747232 ~= 8\n",
      "Testing x = -8 and power =  1\n",
      "  -7.999931335449219 ~= -8\n",
      "Testing x = -8 and power =  2\n",
      " No root\n",
      "Testing x = -8 and power =  3\n",
      "  -8.000068664747232 ~= -8\n"
     ]
    }
   ],
   "source": [
    "def findRoot(x, power, epsilon):\n",
    "    \"\"\"Assumes x and epsilon int or float, power an int,\n",
    "        epsilon > 0 & power >= 1\n",
    "    Returns float y such that y**power is within epsilon of x.\n",
    "        If such a float does not exist, it returns None\"\"\"\n",
    "    \n",
    "    if x < 0 and power%2 == 0: #Negative number has no even-powered\n",
    "#roots\n",
    "        return None\n",
    "\n",
    "    low = min(-1.0, x)\n",
    "    high = max(1.0, x)\n",
    "    ans = (high + low)/2.0\n",
    "    \n",
    "    while abs(ans**power - x) >= epsilon:\n",
    "        if ans**power < x:\n",
    "            low = ans\n",
    "        else:\n",
    "            high = ans\n",
    "        ans = (high + low)/2.0\n",
    "    return ans\n",
    "\n",
    "def testFindRoot():\n",
    "    epsilon = 0.0001\n",
    "    for x in [0.25, -0.25, 2, -2, 8, -8]:\n",
    "        for power in range(1, 4):\n",
    "            print('Testing x =', str(x), 'and power = ', power)\n",
    "            result = findRoot(x, power, epsilon)\n",
    "            if result == None:\n",
    "                print(' No root')\n",
    "            else:\n",
    "                print(' ', result**power, '~=', x)\n",
    "                \n",
    "testFindRoot()"
   ]
  },
  {
   "cell_type": "markdown",
   "metadata": {},
   "source": [
    "Ta thấy hàm kiểm tra testFindRoot dài không kém hàm findRoot. Đối với lập trình viên ít kinh nghiệm thì việc viết hàm kiểm tra là mất thời gian nhưng thực tế nó rất quan trọng.\n",
    "<br/>Đoạn text nằm giữa 3 dấu nháy đơn (\"\"\") gọi là **docstring** trong Python. Docstring này có thể được truy cập dùng hàm xây dựng sẵn **help**. Ví dụ:"
   ]
  },
  {
   "cell_type": "code",
   "execution_count": 23,
   "metadata": {},
   "outputs": [
    {
     "name": "stdout",
     "output_type": "stream",
     "text": [
      "Help on built-in function abs in module builtins:\n",
      "\n",
      "abs(x, /)\n",
      "    Return the absolute value of the argument.\n",
      "\n"
     ]
    }
   ],
   "source": [
    "help(abs)"
   ]
  },
  {
   "cell_type": "code",
   "execution_count": 24,
   "metadata": {},
   "outputs": [
    {
     "name": "stdout",
     "output_type": "stream",
     "text": [
      "Help on function findRoot in module __main__:\n",
      "\n",
      "findRoot(x, power, epsilon)\n",
      "    Assumes x and epsilon int or float, power an int,\n",
      "        epsilon > 0 & power >= 1\n",
      "    Returns float y such that y**power is within epsilon of x.\n",
      "        If such a float does not exist, it returns None\n",
      "\n"
     ]
    }
   ],
   "source": [
    "help(findRoot)"
   ]
  },
  {
   "cell_type": "markdown",
   "metadata": {},
   "source": [
    "**Chi tiết kỹ thuật (Specification)** của một hàm được định nghĩa như một hợp đồng giữa người viết hàm và người sử dụng hàm đó. Spec này gồm 2 phần: \n",
    "- Giả thiết (Assumption): giống điều kiện đầu vào.\n",
    "- Đảm bảo (Guarantee): đảm bảo đầu ra."
   ]
  },
  {
   "cell_type": "markdown",
   "metadata": {},
   "source": [
    "# 4.3 Hồi qui (Recursion)"
   ]
  },
  {
   "cell_type": "markdown",
   "metadata": {},
   "source": [
    "Về cơ bản, hồi qui gồm 2 phần:\n",
    "- **Trường hợp cơ bản (base case)**: ít nhất một trường hợp đặc biệt.\n",
    "- **Trường hợp hồi qui (recursive case)**: ít nhất phải hồi qui một lần."
   ]
  },
  {
   "cell_type": "markdown",
   "metadata": {},
   "source": [
    "Ví dụ cơ bản của qui nạp:\n",
    "$$1! = 1$$\n",
    "$$(n + 1)! = (n + 1)*n!$$"
   ]
  },
  {
   "cell_type": "markdown",
   "metadata": {},
   "source": [
    "2 đoạn code ở dưới, một dùng vòng lặp (factI) và một dùng hồi qui (factR). Vì là ví dụ đơn giản nên không có sự khác nhau lớn, tuy nhiên chúng ta vẫn thấy dùng hồi qui nhìn rõ ràng hơn)."
   ]
  },
  {
   "cell_type": "code",
   "execution_count": 32,
   "metadata": {},
   "outputs": [],
   "source": [
    "def factI(n): \n",
    "    \"\"\"Assumes n an int > 0 \n",
    "       Returns n!\"\"\" \n",
    "    result = 1 \n",
    "    while n > 1: \n",
    "        result = result * n \n",
    "        n -= 1 \n",
    "    return result"
   ]
  },
  {
   "cell_type": "code",
   "execution_count": 33,
   "metadata": {},
   "outputs": [],
   "source": [
    "def factR(n):\n",
    "    \"\"\"Assumes n an int > 0\n",
    "       Returns n!\"\"\"\n",
    "    if n == 1:\n",
    "        return n\n",
    "    else:\n",
    "        return n*factR(n - 1)"
   ]
  },
  {
   "cell_type": "code",
   "execution_count": 30,
   "metadata": {},
   "outputs": [
    {
     "data": {
      "text/plain": [
       "3628800"
      ]
     },
     "execution_count": 30,
     "metadata": {},
     "output_type": "execute_result"
    }
   ],
   "source": [
    "factI(10)"
   ]
  },
  {
   "cell_type": "code",
   "execution_count": 31,
   "metadata": {},
   "outputs": [
    {
     "data": {
      "text/plain": [
       "3628800"
      ]
     },
     "execution_count": 31,
     "metadata": {},
     "output_type": "execute_result"
    }
   ],
   "source": [
    "factR(10)"
   ]
  },
  {
   "cell_type": "markdown",
   "metadata": {},
   "source": [
    "## 4.3.1 Số Fibonacci"
   ]
  },
  {
   "cell_type": "markdown",
   "metadata": {},
   "source": [
    "Dãy này khá quen thuộc nên không giải thích nhiều. Code như ở dưới:"
   ]
  },
  {
   "cell_type": "code",
   "execution_count": 38,
   "metadata": {},
   "outputs": [
    {
     "name": "stdout",
     "output_type": "stream",
     "text": [
      "fib of 0 = 1\n",
      "fib of 1 = 1\n",
      "fib of 2 = 2\n",
      "fib of 3 = 3\n",
      "fib of 4 = 5\n",
      "fib of 5 = 8\n",
      "fib of 6 = 13\n",
      "fib of 7 = 21\n",
      "fib of 8 = 34\n",
      "fib of 9 = 55\n",
      "fib of 10 = 89\n"
     ]
    }
   ],
   "source": [
    "def fib(n):\n",
    "    \"\"\"Assumes n int >= 0\n",
    "        Returns Fibonacci of n\"\"\"\n",
    "    if n == 0 or n == 1:\n",
    "        return 1\n",
    "    else:\n",
    "        return fib(n-1) + fib(n-2)\n",
    "\n",
    "def testFib(n):\n",
    "    for i in range(n+1):\n",
    "        print('fib of', i, '=', fib(i))\n",
    "        \n",
    "testFib(10)"
   ]
  },
  {
   "cell_type": "code",
   "execution_count": 4,
   "metadata": {},
   "outputs": [
    {
     "ename": "ModuleNotFoundError",
     "evalue": "No module named 'circle'",
     "output_type": "error",
     "traceback": [
      "\u001b[1;31m----------------------------------------------------------------------\u001b[0m",
      "\u001b[1;31mModuleNotFoundError\u001b[0m                  Traceback (most recent call last)",
      "\u001b[1;32m<ipython-input-4-120862a6dc73>\u001b[0m in \u001b[0;36m<module>\u001b[1;34m\u001b[0m\n\u001b[1;32m----> 1\u001b[1;33m \u001b[1;32mfrom\u001b[0m  \u001b[0mcircle\u001b[0m \u001b[1;32mimport\u001b[0m \u001b[1;33m*\u001b[0m\u001b[1;33m\u001b[0m\u001b[1;33m\u001b[0m\u001b[0m\n\u001b[0m",
      "\u001b[1;31mModuleNotFoundError\u001b[0m: No module named 'circle'"
     ]
    }
   ],
   "source": [
    "from  circle import *"
   ]
  },
  {
   "cell_type": "code",
   "execution_count": null,
   "metadata": {},
   "outputs": [],
   "source": []
  },
  {
   "cell_type": "code",
   "execution_count": null,
   "metadata": {},
   "outputs": [],
   "source": []
  },
  {
   "cell_type": "code",
   "execution_count": null,
   "metadata": {},
   "outputs": [],
   "source": []
  },
  {
   "cell_type": "code",
   "execution_count": null,
   "metadata": {},
   "outputs": [],
   "source": []
  },
  {
   "cell_type": "code",
   "execution_count": null,
   "metadata": {},
   "outputs": [],
   "source": []
  },
  {
   "cell_type": "code",
   "execution_count": null,
   "metadata": {},
   "outputs": [],
   "source": []
  },
  {
   "cell_type": "code",
   "execution_count": null,
   "metadata": {},
   "outputs": [],
   "source": []
  },
  {
   "cell_type": "code",
   "execution_count": null,
   "metadata": {},
   "outputs": [],
   "source": []
  },
  {
   "cell_type": "code",
   "execution_count": null,
   "metadata": {},
   "outputs": [],
   "source": []
  },
  {
   "cell_type": "code",
   "execution_count": null,
   "metadata": {},
   "outputs": [],
   "source": []
  },
  {
   "cell_type": "code",
   "execution_count": null,
   "metadata": {},
   "outputs": [],
   "source": []
  },
  {
   "cell_type": "code",
   "execution_count": null,
   "metadata": {},
   "outputs": [],
   "source": []
  },
  {
   "cell_type": "code",
   "execution_count": null,
   "metadata": {},
   "outputs": [],
   "source": []
  },
  {
   "cell_type": "code",
   "execution_count": null,
   "metadata": {},
   "outputs": [],
   "source": []
  },
  {
   "cell_type": "code",
   "execution_count": null,
   "metadata": {},
   "outputs": [],
   "source": []
  },
  {
   "cell_type": "code",
   "execution_count": null,
   "metadata": {},
   "outputs": [],
   "source": []
  },
  {
   "cell_type": "code",
   "execution_count": null,
   "metadata": {},
   "outputs": [],
   "source": []
  },
  {
   "cell_type": "code",
   "execution_count": null,
   "metadata": {},
   "outputs": [],
   "source": []
  },
  {
   "cell_type": "code",
   "execution_count": null,
   "metadata": {},
   "outputs": [],
   "source": []
  },
  {
   "cell_type": "code",
   "execution_count": null,
   "metadata": {},
   "outputs": [],
   "source": []
  },
  {
   "cell_type": "code",
   "execution_count": null,
   "metadata": {},
   "outputs": [],
   "source": []
  },
  {
   "cell_type": "code",
   "execution_count": null,
   "metadata": {},
   "outputs": [],
   "source": []
  },
  {
   "cell_type": "code",
   "execution_count": null,
   "metadata": {},
   "outputs": [],
   "source": []
  },
  {
   "cell_type": "code",
   "execution_count": null,
   "metadata": {},
   "outputs": [],
   "source": []
  },
  {
   "cell_type": "code",
   "execution_count": null,
   "metadata": {},
   "outputs": [],
   "source": []
  },
  {
   "cell_type": "code",
   "execution_count": null,
   "metadata": {},
   "outputs": [],
   "source": []
  },
  {
   "cell_type": "code",
   "execution_count": null,
   "metadata": {},
   "outputs": [],
   "source": []
  },
  {
   "cell_type": "code",
   "execution_count": null,
   "metadata": {},
   "outputs": [],
   "source": []
  },
  {
   "cell_type": "code",
   "execution_count": null,
   "metadata": {},
   "outputs": [],
   "source": []
  },
  {
   "cell_type": "code",
   "execution_count": null,
   "metadata": {},
   "outputs": [],
   "source": []
  },
  {
   "cell_type": "code",
   "execution_count": null,
   "metadata": {},
   "outputs": [],
   "source": []
  },
  {
   "cell_type": "code",
   "execution_count": null,
   "metadata": {},
   "outputs": [],
   "source": []
  },
  {
   "cell_type": "code",
   "execution_count": null,
   "metadata": {},
   "outputs": [],
   "source": []
  },
  {
   "cell_type": "code",
   "execution_count": null,
   "metadata": {},
   "outputs": [],
   "source": []
  },
  {
   "cell_type": "code",
   "execution_count": null,
   "metadata": {},
   "outputs": [],
   "source": []
  },
  {
   "cell_type": "code",
   "execution_count": null,
   "metadata": {},
   "outputs": [],
   "source": []
  },
  {
   "cell_type": "code",
   "execution_count": null,
   "metadata": {},
   "outputs": [],
   "source": []
  },
  {
   "cell_type": "code",
   "execution_count": null,
   "metadata": {},
   "outputs": [],
   "source": []
  },
  {
   "cell_type": "code",
   "execution_count": null,
   "metadata": {},
   "outputs": [],
   "source": []
  },
  {
   "cell_type": "code",
   "execution_count": null,
   "metadata": {},
   "outputs": [],
   "source": []
  },
  {
   "cell_type": "code",
   "execution_count": null,
   "metadata": {},
   "outputs": [],
   "source": []
  },
  {
   "cell_type": "code",
   "execution_count": null,
   "metadata": {},
   "outputs": [],
   "source": []
  },
  {
   "cell_type": "code",
   "execution_count": null,
   "metadata": {},
   "outputs": [],
   "source": []
  },
  {
   "cell_type": "code",
   "execution_count": null,
   "metadata": {},
   "outputs": [],
   "source": []
  },
  {
   "cell_type": "code",
   "execution_count": null,
   "metadata": {},
   "outputs": [],
   "source": []
  },
  {
   "cell_type": "code",
   "execution_count": null,
   "metadata": {},
   "outputs": [],
   "source": []
  },
  {
   "cell_type": "code",
   "execution_count": null,
   "metadata": {},
   "outputs": [],
   "source": []
  },
  {
   "cell_type": "code",
   "execution_count": null,
   "metadata": {},
   "outputs": [],
   "source": []
  },
  {
   "cell_type": "code",
   "execution_count": null,
   "metadata": {},
   "outputs": [],
   "source": []
  },
  {
   "cell_type": "code",
   "execution_count": null,
   "metadata": {},
   "outputs": [],
   "source": []
  },
  {
   "cell_type": "code",
   "execution_count": null,
   "metadata": {},
   "outputs": [],
   "source": []
  },
  {
   "cell_type": "code",
   "execution_count": null,
   "metadata": {},
   "outputs": [],
   "source": []
  },
  {
   "cell_type": "code",
   "execution_count": null,
   "metadata": {},
   "outputs": [],
   "source": []
  },
  {
   "cell_type": "code",
   "execution_count": null,
   "metadata": {},
   "outputs": [],
   "source": []
  },
  {
   "cell_type": "code",
   "execution_count": null,
   "metadata": {},
   "outputs": [],
   "source": []
  },
  {
   "cell_type": "code",
   "execution_count": null,
   "metadata": {},
   "outputs": [],
   "source": []
  },
  {
   "cell_type": "code",
   "execution_count": null,
   "metadata": {},
   "outputs": [],
   "source": []
  },
  {
   "cell_type": "code",
   "execution_count": null,
   "metadata": {},
   "outputs": [],
   "source": []
  },
  {
   "cell_type": "code",
   "execution_count": null,
   "metadata": {},
   "outputs": [],
   "source": []
  },
  {
   "cell_type": "code",
   "execution_count": null,
   "metadata": {},
   "outputs": [],
   "source": []
  },
  {
   "cell_type": "code",
   "execution_count": null,
   "metadata": {},
   "outputs": [],
   "source": []
  },
  {
   "cell_type": "code",
   "execution_count": null,
   "metadata": {},
   "outputs": [],
   "source": []
  },
  {
   "cell_type": "code",
   "execution_count": null,
   "metadata": {},
   "outputs": [],
   "source": []
  },
  {
   "cell_type": "code",
   "execution_count": null,
   "metadata": {},
   "outputs": [],
   "source": []
  },
  {
   "cell_type": "code",
   "execution_count": null,
   "metadata": {},
   "outputs": [],
   "source": []
  },
  {
   "cell_type": "code",
   "execution_count": null,
   "metadata": {},
   "outputs": [],
   "source": []
  },
  {
   "cell_type": "code",
   "execution_count": null,
   "metadata": {},
   "outputs": [],
   "source": []
  },
  {
   "cell_type": "code",
   "execution_count": null,
   "metadata": {},
   "outputs": [],
   "source": []
  },
  {
   "cell_type": "code",
   "execution_count": null,
   "metadata": {},
   "outputs": [],
   "source": []
  },
  {
   "cell_type": "code",
   "execution_count": null,
   "metadata": {},
   "outputs": [],
   "source": []
  },
  {
   "cell_type": "code",
   "execution_count": null,
   "metadata": {},
   "outputs": [],
   "source": []
  },
  {
   "cell_type": "code",
   "execution_count": null,
   "metadata": {},
   "outputs": [],
   "source": []
  },
  {
   "cell_type": "code",
   "execution_count": null,
   "metadata": {},
   "outputs": [],
   "source": []
  }
 ],
 "metadata": {
  "kernelspec": {
   "display_name": "Python 3",
   "language": "python",
   "name": "python3"
  },
  "language_info": {
   "codemirror_mode": {
    "name": "ipython",
    "version": 3
   },
   "file_extension": ".py",
   "mimetype": "text/x-python",
   "name": "python",
   "nbconvert_exporter": "python",
   "pygments_lexer": "ipython3",
   "version": "3.7.4"
  }
 },
 "nbformat": 4,
 "nbformat_minor": 2
}
