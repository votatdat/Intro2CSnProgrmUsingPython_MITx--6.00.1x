{
 "cells": [
  {
   "cell_type": "markdown",
   "metadata": {},
   "source": [
    "# 9.1 Thinking About Computational Complexity"
   ]
  },
  {
   "cell_type": "markdown",
   "metadata": {},
   "source": [
    "How should one go about answering the question “How long will the following function take to run?”\n",
    "```python\n",
    "def f(i): \n",
    "    \"\"\"Assumes i is an int and i >= 0\"\"\"\n",
    "    answer = 1\n",
    "    while i >= 1: \n",
    "        answer *= i \n",
    "        i -= 1\n",
    "    return answer\n",
    "```\n",
    "The result would depend upon:\n",
    "1.  the speed of the computer on which it is run, \n",
    "2.  the efficiency of the Python implementation on that machine, and \n",
    "3.  the value of the input. "
   ]
  },
  {
   "cell_type": "markdown",
   "metadata": {},
   "source": [
    "Linear Search\n",
    "```python\n",
    "def linearSearch(L, x): \n",
    "   for e in L: \n",
    "      if e == x: \n",
    "         return True \n",
    "   return False\n",
    "```\n",
    "x at the first of L $\\to$ 1 step\n",
    "<br>no x in L $\\to$ len(L) steps"
   ]
  },
  {
   "cell_type": "markdown",
   "metadata": {},
   "source": [
    "Factorial function\n",
    "```python\n",
    "def fact(n): \n",
    "   \"\"\"Assumes n is a natural number \n",
    "      Returns n!\"\"\" \n",
    "   answer = 1        # 1 step\n",
    "   while n > 1:      # 1 step\n",
    "      answer *=  n   # 2 step\n",
    "      n -= 1         # 2 step\n",
    "   return answer     # 1 step\n",
    "```\n",
    "Total: 5n+2 steps."
   ]
  },
  {
   "cell_type": "code",
   "execution_count": null,
   "metadata": {},
   "outputs": [],
   "source": [
    "def squareRootExhaustive(x, epsilon): \n",
    "    \"\"\"Assumes x and epsilon are positive floats & epsilon < 1 \n",
    "      Returns a y such that y*y is within epsilon of x\"\"\" \n",
    "    step = epsilon**2 \n",
    "    ans = 0.0 \n",
    "    count = 0\n",
    "    while abs(ans**2 - x) >= epsilon and ans*ans <= x: \n",
    "        ans += step\n",
    "        count += 1\n",
    "    if ans*ans > x: \n",
    "        raise ValueError\n",
    "    return count, ans \n",
    "\n",
    "print(squareRootExhaustive(100, 0.0001))"
   ]
  },
  {
   "cell_type": "code",
   "execution_count": 2,
   "metadata": {},
   "outputs": [
    {
     "name": "stdout",
     "output_type": "stream",
     "text": [
      "(22, 10.000002384185791)\n"
     ]
    }
   ],
   "source": [
    "def squareRootBi(x, epsilon): \n",
    "    \"\"\"Assumes x and epsilon are positive floats & epsilon < 1 \n",
    "      Returns a y such that y*y is within epsilon of x\"\"\" \n",
    "    low = 0.0\n",
    "    high = max(1.0, x) \n",
    "    ans = (high + low)/2.0\n",
    "    count = 0\n",
    "    while abs(ans**2 - x) >= epsilon: \n",
    "        count += 1\n",
    "        if ans**2 < x: \n",
    "            low = ans \n",
    "        else: \n",
    "            high = ans \n",
    "        ans = (high + low)/2.0 \n",
    "    return count, ans \n",
    "print(squareRootBi(100, 0.0001))"
   ]
  },
  {
   "cell_type": "markdown",
   "metadata": {},
   "source": [
    "For example, evaluating squareRootExhaustive(100, 0.0001) requires roughly **one billion** iterations of the loop. \n",
    "<br>In contrast, evaluating squareRootBi(100, 0.0001) takes roughly **twenty iterations** of a slightly more complex while loop."
   ]
  },
  {
   "cell_type": "markdown",
   "metadata": {},
   "source": [
    "# 9.2  Asymptotic Notation"
   ]
  },
  {
   "cell_type": "code",
   "execution_count": 5,
   "metadata": {},
   "outputs": [],
   "source": [
    "def f(x): \n",
    "    \"\"\"Assume x is an int > 0\"\"\" \n",
    "    ans = 0 \n",
    "    #Loop that takes constant time \n",
    "    for i in range(1000): \n",
    "        ans += 1 \n",
    "    print('Number of additions so far', ans)\n",
    "    #Loop that takes time x \n",
    "    for i in range(x): \n",
    "        ans += 1 \n",
    "    print('Number of additions so far', ans)\n",
    "    #Nested loops take time x**2 \n",
    "    for i in range(x): \n",
    "        for j in range(x): \n",
    "            ans += 1 \n",
    "            ans += 1 \n",
    "    print('Number of additions so far', ans)\n",
    "    return ans "
   ]
  },
  {
   "cell_type": "markdown",
   "metadata": {},
   "source": [
    "If one assumes that each line of code takes one unit of time to execute, the running time of this function can be described as $1000 + x + 2x^{2}$."
   ]
  },
  {
   "cell_type": "code",
   "execution_count": 6,
   "metadata": {},
   "outputs": [
    {
     "name": "stdout",
     "output_type": "stream",
     "text": [
      "Number of additions so far 1000\n",
      "Number of additions so far 1010\n",
      "Number of additions so far 1210\n"
     ]
    },
    {
     "data": {
      "text/plain": [
       "1210"
      ]
     },
     "execution_count": 6,
     "metadata": {},
     "output_type": "execute_result"
    }
   ],
   "source": [
    "f(10)"
   ]
  },
  {
   "cell_type": "markdown",
   "metadata": {},
   "source": [
    "The most commonly used asymptotic notation is called **“Big O”** notation. Big O notation is used to give an **upper bound** on the asymptotic growth (often called the **order of growth**) of a function.\n",
    "<br>When we say that f(x) is O($x^2$), we are implying that $x^2$  is both an upper and a **lower bound** on the asymptotic worst-case running time.  This is called a **tight bound**."
   ]
  },
  {
   "cell_type": "markdown",
   "metadata": {},
   "source": [
    "# 9.3  Some Important Complexity Classes"
   ]
  },
  {
   "cell_type": "markdown",
   "metadata": {},
   "source": [
    "* $O(1)$ denotes **constant** running time.   \n",
    "* $O(logn)$ denotes **logarithmic** running time.  \n",
    "* $O(n)$ denotes **linear** running time.   \n",
    "* $O(nlogn)$ denotes **log-linear** running time. \n",
    "* $O(n^k)$ denotes **polynomial** running time.  Notice that *k is a constant*. \n",
    "* $O(c^n)$ denotes **exponential** running time.  Here a constant is being raised to a power based on the size of the input. "
   ]
  },
  {
   "cell_type": "markdown",
   "metadata": {},
   "source": [
    "## 9.3.1  Constant Complexity\n",
    "This indicates that the asymptotic complexity is **independent of the inputs**.  "
   ]
  },
  {
   "cell_type": "markdown",
   "metadata": {},
   "source": [
    "## 9.3.2  Logarithmic Complexity \n",
    "Such functions have a complexity that **grows as the log of at least one of the inputs**. \n",
    "<br> Binary search, for example, is logarithmic in the length of the list being searched:  $O(log_2(x)) = O(log_2(10)*log_{10}(x))$"
   ]
  },
  {
   "cell_type": "code",
   "execution_count": 9,
   "metadata": {},
   "outputs": [
    {
     "data": {
      "text/plain": [
       "'44'"
      ]
     },
     "execution_count": 9,
     "metadata": {},
     "output_type": "execute_result"
    }
   ],
   "source": [
    "def intToStr(i): \n",
    "    \"\"\"Assumes i is a nonnegative int \n",
    "      Returns a decimal string representation of i\"\"\" \n",
    "    digits = '0123456789' \n",
    "    if i == 0: \n",
    "        return '0' \n",
    "    result = '' \n",
    "    while i > 0: \n",
    "        result = digits[i%10] + result \n",
    "        i = i//10 \n",
    "    return result \n",
    "intToStr(44)"
   ]
  },
  {
   "cell_type": "markdown",
   "metadata": {},
   "source": [
    "There is only one loop, so the only thing that we need to do is characterize the number of iterations.\n",
    "<br>That boils down to the number of times one can divide i by 10.\n",
    "<br>So, the complexity of intToStr is O(log(i)). "
   ]
  },
  {
   "cell_type": "code",
   "execution_count": 12,
   "metadata": {},
   "outputs": [
    {
     "data": {
      "text/plain": [
       "13"
      ]
     },
     "execution_count": 12,
     "metadata": {},
     "output_type": "execute_result"
    }
   ],
   "source": [
    "def addDigits(n): \n",
    "    '''Assumes n is a nonnegative int \n",
    "      Returns the sum of the digits in n'''\n",
    "    stringRep = intToStr(n) \n",
    "    val = 0 \n",
    "    for c in stringRep: \n",
    "        val += int(c) \n",
    "    return val\n",
    "\n",
    "addDigits(7123)"
   ]
  },
  {
   "cell_type": "markdown",
   "metadata": {},
   "source": [
    "The complexity of converting n to a string is $O(log(n))$ and intToStr returns a string of length $O(log(n))$.\n",
    "The for loop will be executed $O(len(stringRep))$ times, i.e., $O(log(n))$ times.\n",
    "Putting it all together, and assuming that a character representing a digit can be converted to an integer in constant time, the program will run in time proportional to $O(log(n)) + O(log(n))$, which makes it $O(log(n))$. "
   ]
  },
  {
   "cell_type": "markdown",
   "metadata": {},
   "source": [
    "## 9.3.3  Linear Complexity\n",
    "Many algorithms that **deal with lists or other kinds of sequences are linear** because they touch each element of the sequence a constant (greater than 0) number of times. "
   ]
  },
  {
   "cell_type": "code",
   "execution_count": 14,
   "metadata": {},
   "outputs": [
    {
     "data": {
      "text/plain": [
       "13"
      ]
     },
     "execution_count": 14,
     "metadata": {},
     "output_type": "execute_result"
    }
   ],
   "source": [
    "def addDigits(s): \n",
    "    \"\"\"Assumes s is a str each character of which is a decimal digit. \n",
    "      Returns an int that is the sum of the digits in s\"\"\" \n",
    "    val = 0 \n",
    "    for c in s: \n",
    "        val += int(c) \n",
    "    return val\n",
    "\n",
    "addDigits('7123')"
   ]
  },
  {
   "cell_type": "markdown",
   "metadata": {},
   "source": [
    "This function is linear in the length of s, i.e., O(len(s))—again assuming that a character representing a digit can be converted to an integer in constant time. "
   ]
  },
  {
   "cell_type": "code",
   "execution_count": 15,
   "metadata": {},
   "outputs": [
    {
     "data": {
      "text/plain": [
       "40320"
      ]
     },
     "execution_count": 15,
     "metadata": {},
     "output_type": "execute_result"
    }
   ],
   "source": [
    "def factorial(x): \n",
    "    \"\"\"Assumes that x is a positive int \n",
    "    Returns x!\"\"\" \n",
    "    if x == 1: \n",
    "        return 1 \n",
    "    else: \n",
    "        return x*factorial(x-1) \n",
    "    \n",
    "factorial(8)"
   ]
  },
  {
   "cell_type": "markdown",
   "metadata": {},
   "source": [
    "The series of calls is simply factorial(x), factorial(x-1), factorial(x-2), ... , factorial(1).\n",
    "<br>The length of this series, and thus the complexity of the function, is O(x). "
   ]
  },
  {
   "cell_type": "markdown",
   "metadata": {},
   "source": [
    "## 9.3.4  Log-Linear Complexity\n",
    "Merge sort."
   ]
  },
  {
   "cell_type": "markdown",
   "metadata": {},
   "source": [
    "## 9.3.5  Polynomial Complexity\n",
    "The most commonly used polynomial algorithms are **quadratic**, i.e., their complexity grows as the square of the size of their input. "
   ]
  },
  {
   "cell_type": "code",
   "execution_count": 19,
   "metadata": {},
   "outputs": [
    {
     "data": {
      "text/plain": [
       "False"
      ]
     },
     "execution_count": 19,
     "metadata": {},
     "output_type": "execute_result"
    }
   ],
   "source": [
    "def isSubset(L1, L2): \n",
    "    \"\"\"Assumes L1 and L2 are lists. \n",
    "      Returns True if each element in L1 is also in L2 and False otherwise.\"\"\"\n",
    "    for e1 in L1: \n",
    "        matched = False \n",
    "        for e2 in L2: \n",
    "            if e1 == e2: \n",
    "                matched = True \n",
    "                break          \n",
    "        if not matched:\n",
    "            return False \n",
    "    return True \n",
    "\n",
    "L1 = list('abc')\n",
    "L2 = list('afdgfdgdc')\n",
    "isSubset(L1, L2)"
   ]
  },
  {
   "cell_type": "markdown",
   "metadata": {},
   "source": [
    "Each time the inner loop is reached it is executed $O(len(L2)$ times.  The function will execute the outer loop $O(len(L1))$ times, so the inner loop will be reached $O(len(L1))$ times.  Therefore, the complexity of isSubset is $O(len(L1)*len(L2))$."
   ]
  },
  {
   "cell_type": "code",
   "execution_count": 20,
   "metadata": {},
   "outputs": [
    {
     "data": {
      "text/plain": [
       "['a', 'c']"
      ]
     },
     "execution_count": 20,
     "metadata": {},
     "output_type": "execute_result"
    }
   ],
   "source": [
    "def intersect(L1, L2):\n",
    "    \"\"\"Assumes: L1 and L2 are lists \n",
    "      Returns a list that is the intersection of L1 and L2\"\"\"\n",
    "    #Build a list containing common elements\n",
    "    tmp = [] \n",
    "    for e1 in L1: \n",
    "        for e2 in L2: \n",
    "            if e1 == e2: \n",
    "                tmp.append(e1) \n",
    "    #Build a list without duplicates\n",
    "    result = [] \n",
    "    for e in tmp: \n",
    "        if e not in result: \n",
    "            result.append(e) \n",
    "    return result \n",
    "\n",
    "L1 = list('abc')\n",
    "L2 = list('afdgfdgdc')\n",
    "intersect(L1, L2)"
   ]
  },
  {
   "cell_type": "markdown",
   "metadata": {},
   "source": [
    "## 9.3.6  Exponential Complexity "
   ]
  },
  {
   "cell_type": "code",
   "execution_count": 28,
   "metadata": {},
   "outputs": [
    {
     "data": {
      "text/plain": [
       "[[], ['c'], ['b'], ['b', 'c'], ['a'], ['a', 'c'], ['a', 'b'], ['a', 'b', 'c']]"
      ]
     },
     "execution_count": 28,
     "metadata": {},
     "output_type": "execute_result"
    }
   ],
   "source": [
    "def getBinaryRep(n, numDigits): \n",
    "    \"\"\"Assumes n and numDigits are non-negative ints \n",
    "    Returns a numDigits str that is a binary representation of n\"\"\"\n",
    "    result = '' \n",
    "    while n > 0: \n",
    "        result = str(n%2) + result \n",
    "        n = n//2 \n",
    "    if len(result) > numDigits:\n",
    "        raise ValueError('not enough digits')\n",
    "    for i in range(numDigits - len(result)):\n",
    "        result = '0' + result \n",
    "    return result \n",
    " \n",
    "def genPowerset(L):\n",
    "    \"\"\"Assumes L is a list\n",
    "    Returns a list of lists that contains all possible combinations of the elements of L.  \n",
    "    E.g., if L is [1, 2] it will return a list with elements [], [1], [2], and [1,2].\"\"\"\n",
    "    powerset = [] \n",
    "    for i in range(0, 2**len(L)): \n",
    "        binStr = getBinaryRep(i, len(L))\n",
    "        subset = [] \n",
    "        for j in range(len(L)):\n",
    "            if binStr[j] == '1':\n",
    "                subset.append(L[j])\n",
    "        powerset.append(subset)\n",
    "    return powerset \n",
    "\n",
    "L2 = sorted(list('abc'))\n",
    "genPowerset(L2)"
   ]
  },
  {
   "cell_type": "markdown",
   "metadata": {},
   "source": [
    "## 9.3.7  Comparisons of Complexity Classes "
   ]
  },
  {
   "cell_type": "code",
   "execution_count": null,
   "metadata": {},
   "outputs": [],
   "source": []
  }
 ],
 "metadata": {
  "kernelspec": {
   "display_name": "Python 3",
   "language": "python",
   "name": "python3"
  },
  "language_info": {
   "codemirror_mode": {
    "name": "ipython",
    "version": 3
   },
   "file_extension": ".py",
   "mimetype": "text/x-python",
   "name": "python",
   "nbconvert_exporter": "python",
   "pygments_lexer": "ipython3",
   "version": "3.7.4"
  }
 },
 "nbformat": 4,
 "nbformat_minor": 2
}
