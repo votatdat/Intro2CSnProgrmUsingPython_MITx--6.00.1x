{
 "cells": [
  {
   "cell_type": "markdown",
   "metadata": {},
   "source": [
    "Ở 2 chương trước, chúng ta đã biết vài cấu trúc Python cơ bản, đây là lúc chúng ta kết hợp những cấu trúc này để tạo ra những chương trình cơ bản. Và chúng ta sẽ đưa lên thêm vài cấu trúc và giải thuật."
   ]
  },
  {
   "cell_type": "markdown",
   "metadata": {},
   "source": [
    "# 3.1 Liệt kê kiệt sức (Exhaustive Enumeration)"
   ]
  },
  {
   "cell_type": "markdown",
   "metadata": {},
   "source": [
    "Đoạn code ở dưới dùng để tính căn bậc 3 (nếu tồn tại) của một số nguyên. Nếu không tồn tại nó sẽ in ra rằng số đưa vào không phải là bậc 3 của một số nguyên _(not a perfect cube)_. "
   ]
  },
  {
   "cell_type": "code",
   "execution_count": 8,
   "metadata": {},
   "outputs": [
    {
     "name": "stdout",
     "output_type": "stream",
     "text": [
      "Enter a integer:7406961012236344616\n",
      "Cube root of 7406961012236344616 is 1949306\n"
     ]
    }
   ],
   "source": [
    "#Find the cube root of a perfect cube\n",
    "x = int(input('Enter a integer:'))\n",
    "# For example: 7406961012236344616\n",
    "ans = 0\n",
    "while ans**3 <abs(x):\n",
    "    ans = ans + 1\n",
    "if ans**3 != abs(x):\n",
    "    print(x, ' is not a perfect cube')\n",
    "else:\n",
    "    if x < 0:\n",
    "        ans = -ans\n",
    "    print('Cube root of',x , 'is', ans)"
   ]
  },
  {
   "cell_type": "markdown",
   "metadata": {},
   "source": [
    "Với giá trị nào của x thì chương trình dừng lại? Câu trả lời là \"với bất kỳ số nào\". Lý do rất đơn giản:\n",
    "- Giá trị của ans\\*\\*3 bắt đầu bằng 0, và trở nên lớn hơn sau các vòng lặp.\n",
    "- Khi nó vượt quá abs(x), vòng lặp dừng lại.\n",
    "- Vì abs(x) là giá trị tuyệt đối của x, nó luôn dương nên chỉ có một số lần lặp hữu hạn trước khi vòng lặp phải kết thúc."
   ]
  },
  {
   "cell_type": "markdown",
   "metadata": {},
   "source": [
    "Khi viết vòng lặp, phải nghĩ về **hàm giảm (decremeting function)**. Hàm này phải có tính chất:\n",
    "- Nó ánh xạ một tập hợp các biến chương trình thành một số nguyên.\n",
    "- Khi vào vòng lặp, giá trị của nó là không âm.\n",
    "- Khi giá trị của nó là $\\leq$ 0, vòng lặp chấm dứt.\n",
    "- Giá trị của nó bị giảm mỗi lần qua vòng lặp."
   ]
  },
  {
   "cell_type": "markdown",
   "metadata": {},
   "source": [
    "Hàm giảm của chương trình trên là gì? đó là: **abs(x) - ans\\*\\*3**"
   ]
  },
  {
   "cell_type": "markdown",
   "metadata": {},
   "source": [
    "Giải thuật ở trên là một biến thể của **đoán và kiểm tra (guess and check)** được gọi là **exhaustive enumeration**. Chúng ta liệt kê tất cả các khả năng cho đến khi chúng ta có được câu trả lời. Khi mới nhìn, chúng ta thấy nó thật là ngu ngốc nhưng đây là giải thuật thực tiễn nhất để giải quyết một vấn đề. Và trong nhiều trường hợp, nó vẫn đủ nhanh cho các mục đích thực tiễn, dù cho 1 triệu lần đoán dược yêu cầu, cũng không gây ra vấn đề gì."
   ]
  },
  {
   "cell_type": "code",
   "execution_count": 11,
   "metadata": {},
   "outputs": [
    {
     "name": "stdout",
     "output_type": "stream",
     "text": [
      "Enter a postive integer: 8\n",
      "1\n",
      "2\n",
      "3\n",
      "4\n",
      "5\n",
      "6\n",
      "7\n",
      "8\n"
     ]
    }
   ],
   "source": [
    "#just for fun\n",
    "maxVal = int(input('Enter a postive integer: '))\n",
    "i = 0\n",
    "while i < maxVal:\n",
    "    i = i + 1\n",
    "    print(i)"
   ]
  },
  {
   "cell_type": "markdown",
   "metadata": {},
   "source": [
    "# 3.2 Vòng lặp for (for loop)"
   ]
  },
  {
   "cell_type": "markdown",
   "metadata": {},
   "source": [
    "Vòng lặp for có cấu trúc như ở dưới:\n",
    "```python\n",
    "for variable in sequence:\n",
    "    code block\n",
    "```"
   ]
  },
  {
   "cell_type": "markdown",
   "metadata": {},
   "source": [
    "Chuỗi các giá trị được cột với biến được tạo phổ biến nhất bằng cách sử dụng **hàm range**, trả về một chuỗi các số nguyên.  Hàm range sẽ bắt đầu bằng start, **start + step, start + 2\\*step... start + i\\*step, stop**. Step có thể âm hoặc dương. Xem ví dụ ở dưới: start = 0, stop = x, step = 1"
   ]
  },
  {
   "cell_type": "code",
   "execution_count": 13,
   "metadata": {},
   "outputs": [
    {
     "name": "stdout",
     "output_type": "stream",
     "text": [
      "0\n",
      "1\n",
      "2\n",
      "3\n"
     ]
    }
   ],
   "source": [
    "x = 4\n",
    "for i in range(0, x):\n",
    "    print(i)"
   ]
  },
  {
   "cell_type": "markdown",
   "metadata": {},
   "source": [
    "Chúng ta thử nghĩ về đoạn code này: "
   ]
  },
  {
   "cell_type": "code",
   "execution_count": 14,
   "metadata": {},
   "outputs": [
    {
     "name": "stdout",
     "output_type": "stream",
     "text": [
      "0\n",
      "1\n",
      "2\n",
      "3\n"
     ]
    }
   ],
   "source": [
    "x = 4\n",
    "for i in range(0, x):\n",
    "    print(i)\n",
    "    x = 5"
   ]
  },
  {
   "cell_type": "markdown",
   "metadata": {},
   "source": [
    "Khi gán lại giá trị cho x trong vòng lặp for liệu nó có ảnh hưởng tới iterator? Câu trả lời là không. Chúng ta xem thêm 2 đoạn code dưới: "
   ]
  },
  {
   "cell_type": "code",
   "execution_count": 16,
   "metadata": {},
   "outputs": [
    {
     "name": "stdout",
     "output_type": "stream",
     "text": [
      "0\n",
      "1\n",
      "2\n",
      "3\n",
      "0\n",
      "1\n",
      "2\n",
      "3\n",
      "0\n",
      "1\n",
      "2\n",
      "3\n",
      "0\n",
      "1\n",
      "2\n",
      "3\n"
     ]
    }
   ],
   "source": [
    "x = 4\n",
    "for j in range(x):\n",
    "    for i in range(x):\n",
    "        print(i)\n",
    "        #x = 2 #không gán lại x"
   ]
  },
  {
   "cell_type": "code",
   "execution_count": 18,
   "metadata": {},
   "outputs": [
    {
     "name": "stdout",
     "output_type": "stream",
     "text": [
      "0\n",
      "1\n",
      "2\n",
      "3\n",
      "0\n",
      "1\n",
      "0\n",
      "1\n",
      "0\n",
      "1\n"
     ]
    }
   ],
   "source": [
    "x = 4\n",
    "for j in range(x):\n",
    "    for i in range(x):\n",
    "        print(i)\n",
    "        x = 2 #gán lại x"
   ]
  },
  {
   "cell_type": "markdown",
   "metadata": {},
   "source": [
    "Vì hàm range ở vòng lặp ngoài chỉ được gán một lần, còn hàm range ở vòng lặp trong sẽ được gán mỗi lẫn vòng for ở trong chạy."
   ]
  },
  {
   "cell_type": "markdown",
   "metadata": {},
   "source": [
    "Đoạn code ở dưới được viết lại dùng vòng lặp for và break để tìm căn bậc 3: "
   ]
  },
  {
   "cell_type": "code",
   "execution_count": 20,
   "metadata": {},
   "outputs": [
    {
     "name": "stdout",
     "output_type": "stream",
     "text": [
      "Enter an integer: 65\n",
      "65 is not a perfect cube\n"
     ]
    }
   ],
   "source": [
    "#Find the cube root of a perfect cube\n",
    "x = int(input('Enter an integer: '))\n",
    "for ans in range(0, abs(x)+1):\n",
    "    if ans**3 >= abs(x):\n",
    "        break\n",
    "if ans**3 != abs(x):\n",
    "    print(x, 'is not a perfect cube')\n",
    "else:\n",
    "    if x < 0:\n",
    "        ans = -ans\n",
    "    print('Cube root of', x,'is', ans)"
   ]
  },
  {
   "cell_type": "markdown",
   "metadata": {},
   "source": [
    "Vòng lặp for có thể được dùng để kết hợp với toán tử **in**, chúng ta xem ví dụ ở dưới:"
   ]
  },
  {
   "cell_type": "code",
   "execution_count": 22,
   "metadata": {},
   "outputs": [
    {
     "name": "stdout",
     "output_type": "stream",
     "text": [
      "1\n",
      "2\n",
      "3\n",
      "4\n",
      "5\n",
      "6\n",
      "7\n",
      "8\n",
      "36\n"
     ]
    }
   ],
   "source": [
    "total = 0\n",
    "for c in '12345678':\n",
    "    print(c)\n",
    "    total = total + int(c)\n",
    "print(total)"
   ]
  },
  {
   "cell_type": "markdown",
   "metadata": {},
   "source": [
    "# 3.3 Phương pháp xấp xỉ và phương pháp chia đôi"
   ]
  },
  {
   "cell_type": "markdown",
   "metadata": {},
   "source": [
    "Giả sử ai đó yêu cầu bạn viết chương trình tính căn bậc 2 của một số không âm, giả sử cân bậc 2 của 2 chẳng hạn. Chúng ta biết căn 2 không phải là số hữu tỉ, nên không thể tính được giá trị chính xác của số này. \n",
    "<br/> Yêu cầu đúng phải là viết chương trình tìm **xấp xỉ (approximation)** của căn bậc 2 của 2. "
   ]
  },
  {
   "cell_type": "markdown",
   "metadata": {},
   "source": [
    "Đoạn code ở dưới dùng một giải thuật đơn giản để tìm một xấp xỉ của căn bậc 2. \n",
    "<br/> Lưu ý: *toán tử += là cách viết rút gọn, ans = ans + step có thể được viết rút gọn là ans += step.*"
   ]
  },
  {
   "cell_type": "code",
   "execution_count": 3,
   "metadata": {},
   "outputs": [
    {
     "name": "stdout",
     "output_type": "stream",
     "text": [
      "numGuess = 49990\n",
      "4.999000000001688 is close to square root of 25\n"
     ]
    }
   ],
   "source": [
    "x = 25\n",
    "epsilon = 0.01\n",
    "step = epsilon**2\n",
    "numGuess = 0\n",
    "ans = 0.0\n",
    "\n",
    "while abs(ans**2 - x) >= epsilon and ans <= x:\n",
    "    ans += step\n",
    "    numGuess += 1    \n",
    "print ('numGuess =', numGuess)\n",
    "\n",
    "if abs(ans**2 - x) >= epsilon:\n",
    "    print('Failed on square root of', x)\n",
    "else:\n",
    "    print(ans, 'is close to square root of', x)"
   ]
  },
  {
   "cell_type": "markdown",
   "metadata": {},
   "source": [
    "Một lần nữa, chúng ta đã sử dụng _exhaustive enumeration_.\n",
    "<br/>Với x = 25, chúng ta có kết quả:\n",
    "<br/>numGuesses = 49990\n",
    "<br/>4.999000000001688 is close to square root of 25"
   ]
  },
  {
   "cell_type": "code",
   "execution_count": 9,
   "metadata": {},
   "outputs": [
    {
     "name": "stdout",
     "output_type": "stream",
     "text": [
      "numGuess = 2501\n",
      "Failed on square root of 0.25\n"
     ]
    }
   ],
   "source": [
    "x = 0.25 #thử lại giá trị x mới là 0.25\n",
    "epsilon = 0.01\n",
    "step = epsilon**2\n",
    "numGuess = 0\n",
    "ans = 0.0\n",
    "\n",
    "while abs(ans**2 - x) >= epsilon and ans <= x:\n",
    "    ans += step\n",
    "    numGuess += 1    \n",
    "print ('numGuess =', numGuess)\n",
    "\n",
    "if abs(ans**2 - x) >= epsilon:\n",
    "    print('Failed on square root of', x)\n",
    "else:\n",
    "    print(ans, 'is close to square root of', x)"
   ]
  },
  {
   "cell_type": "markdown",
   "metadata": {},
   "source": [
    "Khi thử lại với x = 0.25, chúng ta có:\n",
    "<br/>numGuesses = 2501\n",
    "<br/>Failed on square root of 0.25"
   ]
  },
  {
   "cell_type": "markdown",
   "metadata": {},
   "source": [
    "Với code ở trên chúng ta liệt kê từ 0 đến x, nhưng khi x từ 0 tới 1, thì **căn bậc 2 của x lại lớn hơn x** nên không nằm trên đoạn \\[0,1\\]này. \n",
    "<br/> Một cách để sửa lại sai sót này là sửa điều kiện vòng lặp while lại thành:  \n",
    "<br/>while abs(ans\\*\\*2 - x) >= epsilon and **ans\\*ans <= x**:"
   ]
  },
  {
   "cell_type": "code",
   "execution_count": 11,
   "metadata": {},
   "outputs": [
    {
     "name": "stdout",
     "output_type": "stream",
     "text": [
      "numGuess = 4899\n",
      "0.48989999999996237 is close to square root of 0.25\n"
     ]
    }
   ],
   "source": [
    "x = 0.25\n",
    "epsilon = 0.01\n",
    "step = epsilon**2\n",
    "numGuess = 0\n",
    "ans = 0.0\n",
    "\n",
    "while abs(ans**2 - x) >= epsilon and ans*ans <= x: #update điều kiện chỗ này\n",
    "    ans += step\n",
    "    numGuess += 1    \n",
    "print ('numGuess =', numGuess)\n",
    "\n",
    "if abs(ans**2 - x) >= epsilon:\n",
    "    print('Failed on square root of', x)\n",
    "else:\n",
    "    print(ans, 'is close to square root of', x)"
   ]
  },
  {
   "cell_type": "markdown",
   "metadata": {},
   "source": [
    "Chúng ta lại thử lại với x = 123456"
   ]
  },
  {
   "cell_type": "code",
   "execution_count": 10,
   "metadata": {},
   "outputs": [
    {
     "name": "stdout",
     "output_type": "stream",
     "text": [
      "numGuess = 3513631\n",
      "Failed on square root of 123456\n"
     ]
    }
   ],
   "source": [
    "x = 123456 #thử lại giá trị x mới 123456\n",
    "epsilon = 0.01\n",
    "step = epsilon**2\n",
    "numGuess = 0\n",
    "ans = 0.0\n",
    "\n",
    "while abs(ans**2 - x) >= epsilon and ans*ans <= x: \n",
    "    ans += step\n",
    "    numGuess += 1    \n",
    "print ('numGuess =', numGuess)\n",
    "\n",
    "if abs(ans**2 - x) >= epsilon:\n",
    "    print('Failed on square root of', x)\n",
    "else:\n",
    "    print(ans, 'is close to square root of', x)"
   ]
  },
  {
   "cell_type": "markdown",
   "metadata": {},
   "source": [
    "Chương trình chạy hơi lâu và chúng ta có kết quả là:\n",
    "<br/> numGuess = 3513631\n",
    "<br/> Failed on square root of 123456\n",
    "<br/>Chuyện gì đã xảy ra, rõ ràng tồn tại một số xấp xỉ căn của 123456 với sai số 0.01. Tại sao chương trình không tính ra?\n",
    "<br/> Đó là do chúng ta chọn step quá lớn, chương trình sẽ bỏ quả các kết quả hợp lí. Chúng ta thử lại với **step = epsilon\\*\\*3**:"
   ]
  },
  {
   "cell_type": "code",
   "execution_count": 14,
   "metadata": {},
   "outputs": [
    {
     "name": "stdout",
     "output_type": "stream",
     "text": [
      "numGuess = 351363047\n",
      "351.36304620491023 is close to square root of 123456\n"
     ]
    }
   ],
   "source": [
    "x = 123456\n",
    "epsilon = 0.01\n",
    "step = epsilon**3 #update step chỗ này\n",
    "numGuess = 0\n",
    "ans = 0.0\n",
    "\n",
    "while abs(ans**2 - x) >= epsilon and ans*ans <= x:\n",
    "    ans += step\n",
    "    numGuess += 1    \n",
    "print ('numGuess =', numGuess)\n",
    "\n",
    "if abs(ans**2 - x) >= epsilon:\n",
    "    print('Failed on square root of', x)\n",
    "else:\n",
    "    print(ans, 'is close to square root of', x)"
   ]
  },
  {
   "cell_type": "markdown",
   "metadata": {},
   "source": [
    "Tuy cuối cùng cũng ra kết quả, nhưng chúng ta phải chờ rất lâu, chương trình cần **hơn 351 TRIỆU** lần đoán để ra kết quả.\n",
    "<br/> Rõ ràng tới đây chúng ta cần cách khác để giải quyết vấn đề, chúng ta cần giải thuật tốt hơn là tinh chỉnh step.\n",
    "<br/> Chúng ta cần tiếp cận vấn đề theo một cách khác. Giả sử chúng ta biết rằng, xấp xỉ căn bậc 2 nằm đâu đó ở đoạn 0 - max, chúng ta bắt đầu đoán ở giữa đoạn này, nếu đây không phải là câu trả lời đúng thì liệu rằng nó quá lớn hay quá nhỏ. Nếu quá nhỏ, chúng ta biết kết quả nằm ở nửa bên phải và ngược lại. Chúng ta chọn nửa đoạn đó thành đoạn mới và chọn tiếp một giá trị ở giữa. Rồi chúng ta tiếp tục cho tới khi tới kết quả.\n",
    "<br/> Ở dưới là đoạn code mô tả giải thuật này:"
   ]
  },
  {
   "cell_type": "code",
   "execution_count": 15,
   "metadata": {},
   "outputs": [
    {
     "name": "stdout",
     "output_type": "stream",
     "text": [
      "low = 0.0 high = 25 ans = 12.5\n",
      "low = 0.0 high = 12.5 ans = 6.25\n",
      "low = 0.0 high = 6.25 ans = 3.125\n",
      "low = 3.125 high = 6.25 ans = 4.6875\n",
      "low = 4.6875 high = 6.25 ans = 5.46875\n",
      "low = 4.6875 high = 5.46875 ans = 5.078125\n",
      "low = 4.6875 high = 5.078125 ans = 4.8828125\n",
      "low = 4.8828125 high = 5.078125 ans = 4.98046875\n",
      "low = 4.98046875 high = 5.078125 ans = 5.029296875\n",
      "low = 4.98046875 high = 5.029296875 ans = 5.0048828125\n",
      "low = 4.98046875 high = 5.0048828125 ans = 4.99267578125\n",
      "low = 4.99267578125 high = 5.0048828125 ans = 4.998779296875\n",
      "low = 4.998779296875 high = 5.0048828125 ans = 5.0018310546875\n",
      "numGuesses = 13\n",
      "5.00030517578125 is close to square root of 25\n"
     ]
    }
   ],
   "source": [
    "x = 25\n",
    "epsilon = 0.01\n",
    "numGuesses = 0\n",
    "low = 0.0\n",
    "high = max(1.0, x)\n",
    "ans = (high + low)/2.0\n",
    "\n",
    "while abs(ans**2 - x) >= epsilon:\n",
    "    print('low =', low, 'high =', high, 'ans =', ans)\n",
    "    numGuesses += 1\n",
    "    if ans**2 < x:\n",
    "        low = ans\n",
    "    else:\n",
    "        high = ans\n",
    "    ans = (high + low)/2.0\n",
    "print('numGuesses =', numGuesses)\n",
    "print(ans, 'is close to square root of', x)"
   ]
  },
  {
   "cell_type": "code",
   "execution_count": 2,
   "metadata": {},
   "outputs": [
    {
     "name": "stdout",
     "output_type": "stream",
     "text": [
      "low = 0.0 high = 123456 ans = 61728.0\n",
      "low = 0.0 high = 61728.0 ans = 30864.0\n",
      "low = 0.0 high = 30864.0 ans = 15432.0\n",
      "low = 0.0 high = 15432.0 ans = 7716.0\n",
      "low = 0.0 high = 7716.0 ans = 3858.0\n",
      "low = 0.0 high = 3858.0 ans = 1929.0\n",
      "low = 0.0 high = 1929.0 ans = 964.5\n",
      "low = 0.0 high = 964.5 ans = 482.25\n",
      "low = 0.0 high = 482.25 ans = 241.125\n",
      "low = 241.125 high = 482.25 ans = 361.6875\n",
      "low = 241.125 high = 361.6875 ans = 301.40625\n",
      "low = 301.40625 high = 361.6875 ans = 331.546875\n",
      "low = 331.546875 high = 361.6875 ans = 346.6171875\n",
      "low = 346.6171875 high = 361.6875 ans = 354.15234375\n",
      "low = 346.6171875 high = 354.15234375 ans = 350.384765625\n",
      "low = 350.384765625 high = 354.15234375 ans = 352.2685546875\n",
      "low = 350.384765625 high = 352.2685546875 ans = 351.32666015625\n",
      "low = 351.32666015625 high = 352.2685546875 ans = 351.797607421875\n",
      "low = 351.32666015625 high = 351.797607421875 ans = 351.5621337890625\n",
      "low = 351.32666015625 high = 351.5621337890625 ans = 351.44439697265625\n",
      "low = 351.32666015625 high = 351.44439697265625 ans = 351.3855285644531\n",
      "low = 351.32666015625 high = 351.3855285644531 ans = 351.35609436035156\n",
      "low = 351.35609436035156 high = 351.3855285644531 ans = 351.37081146240234\n",
      "low = 351.35609436035156 high = 351.37081146240234 ans = 351.36345291137695\n",
      "low = 351.35609436035156 high = 351.36345291137695 ans = 351.35977363586426\n",
      "low = 351.35977363586426 high = 351.36345291137695 ans = 351.3616132736206\n",
      "low = 351.3616132736206 high = 351.36345291137695 ans = 351.3625330924988\n",
      "low = 351.3625330924988 high = 351.36345291137695 ans = 351.36299300193787\n",
      "low = 351.36299300193787 high = 351.36345291137695 ans = 351.3632229566574\n",
      "low = 351.36299300193787 high = 351.3632229566574 ans = 351.36310797929764\n",
      "numGuesses = 30\n",
      "351.36305049061775 is close to square root of 123456\n"
     ]
    }
   ],
   "source": [
    "x = 123456 #thử lại với 123456\n",
    "epsilon = 0.01\n",
    "numGuesses = 0\n",
    "low = 0.0\n",
    "high = max(1.0, x)\n",
    "ans = (high + low)/2.0\n",
    "\n",
    "while abs(ans**2 - x) >= epsilon:\n",
    "    print('low =', low, 'high =', high, 'ans =', ans)\n",
    "    numGuesses += 1\n",
    "    if ans**2 < x:\n",
    "        low = ans\n",
    "    else:\n",
    "        high = ans\n",
    "    ans = (high + low)/2.0\n",
    "print('numGuesses =', numGuesses)\n",
    "print(ans, 'is close to square root of', x)"
   ]
  },
  {
   "cell_type": "markdown",
   "metadata": {},
   "source": [
    "Phương pháp này gọi là **tìm kiếm chia đôi (bisection search)**, giải thuật này tốt hơn hẳn giải thuật trước.\n",
    "<br/> Tuy nhiên, nếu thay 25 bằng -25, nó sẽ tạo ra vòng lặp vô hạn."
   ]
  },
  {
   "cell_type": "markdown",
   "metadata": {},
   "source": [
    "# 3.4 Vài lời bàn về kiểu float"
   ]
  },
  {
   "cell_type": "markdown",
   "metadata": {},
   "source": [
    "Hầu hết mọi lúc, các số kiểu float cung cấp xấp xỉ hợp lý so với số thực. Nhưng \"hầu hết\" không có nghĩa là \"luôn luôn\". Chúng ta xem ví dụ dưới:"
   ]
  },
  {
   "cell_type": "code",
   "execution_count": 3,
   "metadata": {},
   "outputs": [
    {
     "name": "stdout",
     "output_type": "stream",
     "text": [
      "0.9999999999999999 is not 1.0\n"
     ]
    }
   ],
   "source": [
    "x = 0.0\n",
    "for i in range(10):\n",
    "    x = x + 0.1\n",
    "if x == 1.0:\n",
    "    print(x, '= 1.0')\n",
    "else:\n",
    "    print(x, 'is not 1.0')"
   ]
  },
  {
   "cell_type": "markdown",
   "metadata": {},
   "source": [
    "Để hiểu vấn đề này, chúng ta phải hiểu *số có dấu chấm động (floating point number)* được lưu trữ như thế nào trong máy tính trong suốt quá trình tính toán, và để hiểu điều này chúng ta phải hiểu *số nhị phân (binary number)*.\n",
    "<br/> Số nhị phân là những số có cơ số 2, chỉ biểu diễn 0 hoặc 1 gọi là *bit*. Ví dụ: 101 ở cơ số 2 sẽ là 5 ở cơ số 10."
   ]
  },
  {
   "cell_type": "markdown",
   "metadata": {},
   "source": [
    "Trong hầu hết ngôn ngữ lập trình, số không nguyên (non-integer) sẽ được biểu diễn dưới dạng **dấu chấm động (floating point)**. Chúng gồm 1 cặp số nguyên: **phần trọng số (significant digit)** và **phần mũ (exponenet)**. \n",
    "<br/>Ví dụ: 1.949 sẽ được lưu thành 1 cặp (1949, -3), tức là $1949*10^{-3}$.\n",
    "<br/> Phần trọng số sẽ quyết định sự chính xác (precision) của số được lưu. Trường hợp trọng số chỉ được lưu bởi 2 số thì 1.949 sẽ trở thành 1.9, sự xấp xỉ này được gọi là **làm tròn (rounded value)**"
   ]
  },
  {
   "cell_type": "markdown",
   "metadata": {},
   "source": [
    "Máy tính hiện đại sử dụng số nhị phân, không phải thập phân như ở trên. \n",
    "<br/> Ví dụ số 0.625 (5/8) sẽ được biểu diễn bởi cặp (101,-11) vì  101 ở nhị phân  là 5 ở thập phân và -11 ở nhị phân là -3 ở thập phân, do đó cặp (101, -11) sẽ biểu diễn cho $5*2^{-3} = 5/8 = 0.625$"
   ]
  },
  {
   "cell_type": "markdown",
   "metadata": {},
   "source": [
    "Nếu biểu diễn bằng 4 số nhị phân, thì kết quả tốt nhất chúng ta có là (0011, -101), cặp này có giá trị $3*2^{-5} = 3/32 = 0.09375$\n",
    "<br/> Nếu biểu diễn bằng 5 số nhị phân, thì kết quả tốt nhất chúng ta có là (11001, -1000), cặp này có giá trị $25*2^{-8} = 25/256 = 0.09765625$\n",
    "<br/> Nói tóm lại, chúng sẽ được biểu diễn bằng một cặp (sig, exp) có giá trị $sig*2^{exp}$ nhưng tiếc thay không tồn tại cặp nào có giá trị đúng bằng 0.1\n",
    "<br/> Trong Python, sẽ có 53 bit để lưu phần trọng số, và với số thập phân 0.1 thì phần trọng số được lưu là:\n",
    "<br/>11001100110011001100110011001100110011001100110011001\n",
    "và có giá trị tương đương số thập phân là:\n",
    "<br/>0.1000000000000000055511151231257827021181583404541015625\n",
    "rất gần 0.1 nhưng không phải là 0.1"
   ]
  },
  {
   "cell_type": "markdown",
   "metadata": {},
   "source": [
    "Tiện thể thì có hàm **round(x, numDigits)** để làm tròn số có dấu chấm động. "
   ]
  },
  {
   "cell_type": "code",
   "execution_count": 4,
   "metadata": {},
   "outputs": [
    {
     "name": "stdout",
     "output_type": "stream",
     "text": [
      "1.414\n",
      "1.41421\n",
      "1.4142135624\n"
     ]
    }
   ],
   "source": [
    "print(round(2**0.5, 3))\n",
    "print(round(2**0.5, 5))\n",
    "print(round(2**0.5, 10))"
   ]
  },
  {
   "cell_type": "markdown",
   "metadata": {},
   "source": [
    "Vậy việc này có gây ảnh hưởng gì không? \n",
    "<br/> Đa phần thì không, nhưng nhiều khi có nhiều lỗi bất ngờ xảy ra.\n",
    "<br/> Viết code **abs(x-y) /< 0.0001** thì tốt hơn là **x == y**"
   ]
  },
  {
   "cell_type": "markdown",
   "metadata": {},
   "source": [
    "# 3.5 Giải thuật Newton-Raphson"
   ]
  },
  {
   "cell_type": "markdown",
   "metadata": {},
   "source": [
    "Newton (và Raphson) đã chứng mình một định lý rằng, một giá trị guess xấp xỉ với *nghiệm (root)* của *đa thức p(x) (polynomial)* thì giá trị \n",
    "<br/>guess – $\\frac{p(guess)} {p’(guess)}$ sẽ có một giá trị xấp xỉ tốt hơn với p' là đạo hàm của p."
   ]
  },
  {
   "cell_type": "markdown",
   "metadata": {},
   "source": [
    "Ở phía trên chúng ta muốn tính căn bậc 2 của một số, thì rõ ràng đa thức này có dạng $x^2-k = 0$, với k không âm và đạo hàm của đa thức này là $2x$. \n",
    "<br/>Giả sử *giá trị đoán hiện tại (current guess)* là y, thì *giá trị đoán kế tiếp (next guess)* là $y-(y^2-k)/2y$, điều này gọi là **xấp xỉ liên tiếp (successive approximation)**."
   ]
  },
  {
   "cell_type": "code",
   "execution_count": 13,
   "metadata": {
    "scrolled": true
   },
   "outputs": [
    {
     "name": "stdout",
     "output_type": "stream",
     "text": [
      "numGuesses = 11\n",
      "Square root of 123456 is about 351.3630601485824\n"
     ]
    }
   ],
   "source": [
    "#Newton-Raphson for square root\n",
    "#Find x such that x**2 - 24 is within epsilon of 0.01\n",
    "epsilon = 0.01\n",
    "k = 123456\n",
    "step = 0\n",
    "guess = k/2.0\n",
    "while abs(guess*guess - k) >= epsilon:\n",
    "    guess = guess - (((guess**2) - k)/(2*guess))\n",
    "    step += 1\n",
    "    \n",
    "print('numGuesses =',step)    \n",
    "print('Square root of', k, 'is about', guess)"
   ]
  }
 ],
 "metadata": {
  "kernelspec": {
   "display_name": "Python 3",
   "language": "python",
   "name": "python3"
  },
  "language_info": {
   "codemirror_mode": {
    "name": "ipython",
    "version": 3
   },
   "file_extension": ".py",
   "mimetype": "text/x-python",
   "name": "python",
   "nbconvert_exporter": "python",
   "pygments_lexer": "ipython3",
   "version": "3.7.4"
  }
 },
 "nbformat": 4,
 "nbformat_minor": 2
}
