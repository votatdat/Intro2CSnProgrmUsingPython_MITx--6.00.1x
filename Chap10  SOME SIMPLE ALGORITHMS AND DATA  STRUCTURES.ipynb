{
 "cells": [
  {
   "cell_type": "markdown",
   "metadata": {},
   "source": [
    "* Develop an understanding of the inherent complexity of the problem with which we are faced.\n",
    "* Think about how to break that problem up into subproblems.\n",
    "* Relate those subproblems to other problems for which efficient algorithms already exist. "
   ]
  },
  {
   "cell_type": "markdown",
   "metadata": {},
   "source": [
    "# 10.1  Search Algorithms"
   ]
  },
  {
   "cell_type": "markdown",
   "metadata": {},
   "source": [
    "In this section, we will examine two algorithms for **searching a list**. Each meets the specification:\n",
    "```python\n",
    "def search(L, e): \n",
    "    \"\"\"Assumes L is a list. \n",
    "       Returns True if e is in L and False otherwise\"\"\"\n",
    "```"
   ]
  },
  {
   "cell_type": "markdown",
   "metadata": {},
   "source": [
    "## 10.1.1  Linear Search and Using Indirection to Access Elements"
   ]
  },
  {
   "cell_type": "code",
   "execution_count": 1,
   "metadata": {},
   "outputs": [],
   "source": [
    "def search(L, e):\n",
    "    for i in range(len(L)):\n",
    "        if L[i] == e:\n",
    "            return True \n",
    "    return False "
   ]
  },
  {
   "cell_type": "markdown",
   "metadata": {},
   "source": [
    "## 10.1.2  Binary Search and Exploiting Assumptions"
   ]
  },
  {
   "cell_type": "code",
   "execution_count": 2,
   "metadata": {},
   "outputs": [],
   "source": [
    "def search(L, e): \n",
    "    \"\"\"Assumes L is a list, the elements of which are in ascending order. \n",
    "       Returns True if e is in L and False otherwise\"\"\" \n",
    "    for i in range(len(L)): \n",
    "        if L[i] == e: \n",
    "            return True \n",
    "        if L[i] > e:  \n",
    "            return False \n",
    "    return False "
   ]
  },
  {
   "cell_type": "markdown",
   "metadata": {},
   "source": [
    "The complexity is at **best linear** in the length of L. "
   ]
  },
  {
   "cell_type": "code",
   "execution_count": 3,
   "metadata": {},
   "outputs": [],
   "source": [
    "def search(L, e): \n",
    "    \"\"\"Assumes L is a list, the elements of which are in ascending order. \n",
    "       Returns True if e is in L and False otherwise\"\"\" \n",
    "     \n",
    "    def bSearch(L, e, low, high): \n",
    "        #Decrements high - low \n",
    "        if high == low: \n",
    "            return L[low] == e \n",
    "        mid = (low + high)//2 \n",
    "        if L[mid] == e: \n",
    "            return True \n",
    "        elif L[mid] > e: \n",
    "            if low == mid: #nothing left to search \n",
    "                return False \n",
    "            else: \n",
    "                return bSearch(L, e, low, mid - 1) \n",
    "        else: \n",
    "            return bSearch(L, e, mid + 1, high) \n",
    "         \n",
    "    if len(L) == 0: \n",
    "        return False \n",
    "    else: \n",
    "        return bSearch(L, e, 0, len(L) - 1) "
   ]
  },
  {
   "cell_type": "markdown",
   "metadata": {},
   "source": [
    "The complexity of search is $O(log(len(L)))$."
   ]
  },
  {
   "cell_type": "markdown",
   "metadata": {},
   "source": [
    "# 10.2  Sorting Algorithms"
   ]
  },
  {
   "cell_type": "markdown",
   "metadata": {},
   "source": [
    "We begin with a simple but inefficient algorithm, **selection sort**.  Selection sort, works by maintaining the loop invariant that, given a partitioning of the list into a **prefix (L\\[0:i\\])** and a **suffix (L\\[i+1:len(L)\\])**, the prefix is sorted and no element in the prefix is larger than the smallest element in the suffix. \n",
    "We use induction to reason about loop invariants. \n",
    "* Base case: At the start of the first iteration, the prefix is empty, i.e., the suffix is the entire list.  The invariant is (trivially) true. \n",
    "* Induction step: At each step of the algorithm, we move one element from the suffix to the prefix.  We do this by appending a minimum element of the suffix to the end of the prefix.  Because the invariant held before we moved the element, we know that after we append the element the prefix is still sorted.  We also know that since we removed the smallest element in the suffix, no element in the prefix is larger than the smallest element in the suffix. \n",
    "* When the loop is exited, the prefix includes the entire list, and the suffix is empty.  Therefore, the entire list is now sorted in ascending order. "
   ]
  },
  {
   "cell_type": "code",
   "execution_count": 4,
   "metadata": {},
   "outputs": [],
   "source": [
    "def selSort(L): \n",
    "    \"\"\"Assumes that L is a list of elements that can be compared using >. \n",
    "       Sorts L in ascending order\"\"\" \n",
    "    suffixStart = 0 \n",
    "    while suffixStart != len(L): \n",
    "        #look at each element in suffix \n",
    "        for i in range(suffixStart, len(L)):\n",
    "            #print(L) #xem lai L sau moi vong lap\n",
    "            if L[i] < L[suffixStart]: \n",
    "                #swap position of elements \n",
    "                L[suffixStart], L[i] = L[i], L[suffixStart] \n",
    "                #print(L)\n",
    "        suffixStart += 1 \n",
    "    return L   \n",
    "        \n",
    "#L = [10,7,4,6,-4,-44]\n",
    "#selSort(L)"
   ]
  },
  {
   "cell_type": "markdown",
   "metadata": {},
   "source": [
    "The complexity of the entire function is $O(len(L)^2)$.  I.e., it is quadratic in the length of L. "
   ]
  },
  {
   "cell_type": "markdown",
   "metadata": {},
   "source": [
    "## 10.2.1  Merge Sort"
   ]
  },
  {
   "cell_type": "markdown",
   "metadata": {},
   "source": [
    "**Merge sort** is a prototypical **divide-and-conquer** algorithm.  It was invented in 1945, by John von Neumann, and is still widely used.  Like many divide-and-conquer algorithms it is most easily described recursively. \n",
    "1.  If the list is of length 0 or 1, it is already sorted. \n",
    "2.  If the list has more than one element, split the list into two lists, and use merge sort to sort each of them. \n",
    "3.  Merge the results."
   ]
  },
  {
   "cell_type": "markdown",
   "metadata": {},
   "source": [
    "Consider, for example, merging the two lists \\[1,5,12,18,19,20\\] and \\[2,3,4,17\\]: \n"
   ]
  },
  {
   "cell_type": "markdown",
   "metadata": {},
   "source": [
    "|Left in list 1|        Left in list 2 |   Result|\n",
    "|:-:|:-:|:-:|\n",
    "|\\[1,5,12,18,19,20\\] |  \\[2,3,4,17\\] |   \\[\\] |\n",
    "|\\[5,12,18,19,20\\]|    \\[2,3,4,17\\]|    \\[1\\] |\n",
    "|\\[5,12,18,19,20\\]|    \\[3,4,17\\]|    \\[1,2\\] |\n",
    "|\\[5,12,18,19,20\\]|    \\[4,17\\] |     \\[1,2,3\\]|\n",
    "|\\[5,12,18,19,20\\]|    \\[17\\] |     \\[1,2,3,4\\] |\n",
    "|\\[12,18,19,20\\]|     \\[17\\] |     \\[1,2,3,4,5\\]| \n",
    "|\\[18,19,20\\] |     \\[17\\] |     \\[1,2,3,4,5,12\\]  |\n",
    "|\\[18,19,20\\]|      \\[\\]   |     \\[1,2,3,4,5,12,17\\] |\n",
    "|\\[\\] |         \\[\\] |         \\[1,2,3,4,5,12,17,18,19,20\\] |"
   ]
  },
  {
   "cell_type": "code",
   "execution_count": 5,
   "metadata": {},
   "outputs": [],
   "source": [
    "def merge(left, right, compare): \n",
    "    \"\"\"Assumes left and right are sorted lists and compare defines an ordering on the elements. \n",
    "       Returns a new sorted (by compare) list containing the same elements as (left + right) would contain.\"\"\" \n",
    "     \n",
    "    result = [] \n",
    "    i,j = 0, 0 \n",
    "    while i < len(left) and j < len(right): \n",
    "        if compare(left[i], right[j]): \n",
    "            result.append(left[i]) \n",
    "            i += 1 \n",
    "        else: \n",
    "            result.append(right[j]) \n",
    "            j += 1 \n",
    "    while (i < len(left)): \n",
    "        result.append(left[i]) \n",
    "        i += 1 \n",
    "    while (j < len(right)): \n",
    "        result.append(right[j]) \n",
    "        j += 1 \n",
    "    return result \n",
    " \n",
    "import operator \n",
    " \n",
    "def mergeSort(L, compare = operator.lt): \n",
    "    \"\"\"Assumes L is a list, compare defines an ordering on elements of L \n",
    "       Returns a new sorted list containing the same elements as L\"\"\" \n",
    "    #print(L)\n",
    "    if len(L) < 2: \n",
    "        return L[:] \n",
    "    else: \n",
    "        middle = len(L)//2 \n",
    "        left = mergeSort(L[:middle], compare) \n",
    "        right = mergeSort(L[middle:], compare)\n",
    "        return merge(left, right, compare) \n",
    "    \n",
    "#L = [10,7,4,6,-4,-44]\n",
    "#mergeSort(L)"
   ]
  },
  {
   "cell_type": "markdown",
   "metadata": {},
   "source": [
    "## 10.2.2  Exploiting Functions as Parameters"
   ]
  },
  {
   "cell_type": "code",
   "execution_count": 6,
   "metadata": {},
   "outputs": [
    {
     "ename": "AttributeError",
     "evalue": "module 'string' has no attribute 'split'",
     "output_type": "error",
     "traceback": [
      "\u001b[1;31m---------------------------------------------------------------------------\u001b[0m",
      "\u001b[1;31mAttributeError\u001b[0m                            Traceback (most recent call last)",
      "\u001b[1;32m<ipython-input-6-3b3392bf4820>\u001b[0m in \u001b[0;36m<module>\u001b[1;34m\u001b[0m\n\u001b[0;32m     18\u001b[0m \u001b[1;33m\u001b[0m\u001b[0m\n\u001b[0;32m     19\u001b[0m \u001b[0mL\u001b[0m \u001b[1;33m=\u001b[0m \u001b[1;33m[\u001b[0m\u001b[1;34m'Chris Terman'\u001b[0m\u001b[1;33m,\u001b[0m \u001b[1;34m'Tom Brady'\u001b[0m\u001b[1;33m,\u001b[0m \u001b[1;34m'Eric Grimson'\u001b[0m\u001b[1;33m,\u001b[0m \u001b[1;34m'Gisele Bundchen'\u001b[0m\u001b[1;33m]\u001b[0m\u001b[1;33m\u001b[0m\u001b[1;33m\u001b[0m\u001b[0m\n\u001b[1;32m---> 20\u001b[1;33m \u001b[0mnewL\u001b[0m \u001b[1;33m=\u001b[0m \u001b[0mmergeSort\u001b[0m\u001b[1;33m(\u001b[0m\u001b[0mL\u001b[0m\u001b[1;33m,\u001b[0m \u001b[0mlastNameFirstName\u001b[0m\u001b[1;33m)\u001b[0m\u001b[1;33m\u001b[0m\u001b[1;33m\u001b[0m\u001b[0m\n\u001b[0m\u001b[0;32m     21\u001b[0m \u001b[0mprint\u001b[0m\u001b[1;33m(\u001b[0m\u001b[1;34m'Sorted by last name ='\u001b[0m\u001b[1;33m,\u001b[0m \u001b[0mnewL\u001b[0m\u001b[1;33m)\u001b[0m\u001b[1;33m\u001b[0m\u001b[1;33m\u001b[0m\u001b[0m\n\u001b[0;32m     22\u001b[0m \u001b[0mnewL\u001b[0m \u001b[1;33m=\u001b[0m \u001b[0mmergeSort\u001b[0m\u001b[1;33m(\u001b[0m\u001b[0mL\u001b[0m\u001b[1;33m,\u001b[0m \u001b[0mfirstNameLastName\u001b[0m\u001b[1;33m)\u001b[0m\u001b[1;33m\u001b[0m\u001b[1;33m\u001b[0m\u001b[0m\n",
      "\u001b[1;32m<ipython-input-5-6ea2e46f3d90>\u001b[0m in \u001b[0;36mmergeSort\u001b[1;34m(L, compare)\u001b[0m\n\u001b[0;32m     30\u001b[0m     \u001b[1;32melse\u001b[0m\u001b[1;33m:\u001b[0m\u001b[1;33m\u001b[0m\u001b[1;33m\u001b[0m\u001b[0m\n\u001b[0;32m     31\u001b[0m         \u001b[0mmiddle\u001b[0m \u001b[1;33m=\u001b[0m \u001b[0mlen\u001b[0m\u001b[1;33m(\u001b[0m\u001b[0mL\u001b[0m\u001b[1;33m)\u001b[0m\u001b[1;33m//\u001b[0m\u001b[1;36m2\u001b[0m\u001b[1;33m\u001b[0m\u001b[1;33m\u001b[0m\u001b[0m\n\u001b[1;32m---> 32\u001b[1;33m         \u001b[0mleft\u001b[0m \u001b[1;33m=\u001b[0m \u001b[0mmergeSort\u001b[0m\u001b[1;33m(\u001b[0m\u001b[0mL\u001b[0m\u001b[1;33m[\u001b[0m\u001b[1;33m:\u001b[0m\u001b[0mmiddle\u001b[0m\u001b[1;33m]\u001b[0m\u001b[1;33m,\u001b[0m \u001b[0mcompare\u001b[0m\u001b[1;33m)\u001b[0m\u001b[1;33m\u001b[0m\u001b[1;33m\u001b[0m\u001b[0m\n\u001b[0m\u001b[0;32m     33\u001b[0m         \u001b[0mright\u001b[0m \u001b[1;33m=\u001b[0m \u001b[0mmergeSort\u001b[0m\u001b[1;33m(\u001b[0m\u001b[0mL\u001b[0m\u001b[1;33m[\u001b[0m\u001b[0mmiddle\u001b[0m\u001b[1;33m:\u001b[0m\u001b[1;33m]\u001b[0m\u001b[1;33m,\u001b[0m \u001b[0mcompare\u001b[0m\u001b[1;33m)\u001b[0m\u001b[1;33m\u001b[0m\u001b[1;33m\u001b[0m\u001b[0m\n\u001b[0;32m     34\u001b[0m         \u001b[1;32mreturn\u001b[0m \u001b[0mmerge\u001b[0m\u001b[1;33m(\u001b[0m\u001b[0mleft\u001b[0m\u001b[1;33m,\u001b[0m \u001b[0mright\u001b[0m\u001b[1;33m,\u001b[0m \u001b[0mcompare\u001b[0m\u001b[1;33m)\u001b[0m\u001b[1;33m\u001b[0m\u001b[1;33m\u001b[0m\u001b[0m\n",
      "\u001b[1;32m<ipython-input-5-6ea2e46f3d90>\u001b[0m in \u001b[0;36mmergeSort\u001b[1;34m(L, compare)\u001b[0m\n\u001b[0;32m     32\u001b[0m         \u001b[0mleft\u001b[0m \u001b[1;33m=\u001b[0m \u001b[0mmergeSort\u001b[0m\u001b[1;33m(\u001b[0m\u001b[0mL\u001b[0m\u001b[1;33m[\u001b[0m\u001b[1;33m:\u001b[0m\u001b[0mmiddle\u001b[0m\u001b[1;33m]\u001b[0m\u001b[1;33m,\u001b[0m \u001b[0mcompare\u001b[0m\u001b[1;33m)\u001b[0m\u001b[1;33m\u001b[0m\u001b[1;33m\u001b[0m\u001b[0m\n\u001b[0;32m     33\u001b[0m         \u001b[0mright\u001b[0m \u001b[1;33m=\u001b[0m \u001b[0mmergeSort\u001b[0m\u001b[1;33m(\u001b[0m\u001b[0mL\u001b[0m\u001b[1;33m[\u001b[0m\u001b[0mmiddle\u001b[0m\u001b[1;33m:\u001b[0m\u001b[1;33m]\u001b[0m\u001b[1;33m,\u001b[0m \u001b[0mcompare\u001b[0m\u001b[1;33m)\u001b[0m\u001b[1;33m\u001b[0m\u001b[1;33m\u001b[0m\u001b[0m\n\u001b[1;32m---> 34\u001b[1;33m         \u001b[1;32mreturn\u001b[0m \u001b[0mmerge\u001b[0m\u001b[1;33m(\u001b[0m\u001b[0mleft\u001b[0m\u001b[1;33m,\u001b[0m \u001b[0mright\u001b[0m\u001b[1;33m,\u001b[0m \u001b[0mcompare\u001b[0m\u001b[1;33m)\u001b[0m\u001b[1;33m\u001b[0m\u001b[1;33m\u001b[0m\u001b[0m\n\u001b[0m\u001b[0;32m     35\u001b[0m \u001b[1;33m\u001b[0m\u001b[0m\n\u001b[0;32m     36\u001b[0m \u001b[1;31m#L = [10,7,4,6,-4,-44]\u001b[0m\u001b[1;33m\u001b[0m\u001b[1;33m\u001b[0m\u001b[1;33m\u001b[0m\u001b[0m\n",
      "\u001b[1;32m<ipython-input-5-6ea2e46f3d90>\u001b[0m in \u001b[0;36mmerge\u001b[1;34m(left, right, compare)\u001b[0m\n\u001b[0;32m      6\u001b[0m     \u001b[0mi\u001b[0m\u001b[1;33m,\u001b[0m\u001b[0mj\u001b[0m \u001b[1;33m=\u001b[0m \u001b[1;36m0\u001b[0m\u001b[1;33m,\u001b[0m \u001b[1;36m0\u001b[0m\u001b[1;33m\u001b[0m\u001b[1;33m\u001b[0m\u001b[0m\n\u001b[0;32m      7\u001b[0m     \u001b[1;32mwhile\u001b[0m \u001b[0mi\u001b[0m \u001b[1;33m<\u001b[0m \u001b[0mlen\u001b[0m\u001b[1;33m(\u001b[0m\u001b[0mleft\u001b[0m\u001b[1;33m)\u001b[0m \u001b[1;32mand\u001b[0m \u001b[0mj\u001b[0m \u001b[1;33m<\u001b[0m \u001b[0mlen\u001b[0m\u001b[1;33m(\u001b[0m\u001b[0mright\u001b[0m\u001b[1;33m)\u001b[0m\u001b[1;33m:\u001b[0m\u001b[1;33m\u001b[0m\u001b[1;33m\u001b[0m\u001b[0m\n\u001b[1;32m----> 8\u001b[1;33m         \u001b[1;32mif\u001b[0m \u001b[0mcompare\u001b[0m\u001b[1;33m(\u001b[0m\u001b[0mleft\u001b[0m\u001b[1;33m[\u001b[0m\u001b[0mi\u001b[0m\u001b[1;33m]\u001b[0m\u001b[1;33m,\u001b[0m \u001b[0mright\u001b[0m\u001b[1;33m[\u001b[0m\u001b[0mj\u001b[0m\u001b[1;33m]\u001b[0m\u001b[1;33m)\u001b[0m\u001b[1;33m:\u001b[0m\u001b[1;33m\u001b[0m\u001b[1;33m\u001b[0m\u001b[0m\n\u001b[0m\u001b[0;32m      9\u001b[0m             \u001b[0mresult\u001b[0m\u001b[1;33m.\u001b[0m\u001b[0mappend\u001b[0m\u001b[1;33m(\u001b[0m\u001b[0mleft\u001b[0m\u001b[1;33m[\u001b[0m\u001b[0mi\u001b[0m\u001b[1;33m]\u001b[0m\u001b[1;33m)\u001b[0m\u001b[1;33m\u001b[0m\u001b[1;33m\u001b[0m\u001b[0m\n\u001b[0;32m     10\u001b[0m             \u001b[0mi\u001b[0m \u001b[1;33m+=\u001b[0m \u001b[1;36m1\u001b[0m\u001b[1;33m\u001b[0m\u001b[1;33m\u001b[0m\u001b[0m\n",
      "\u001b[1;32m<ipython-input-6-3b3392bf4820>\u001b[0m in \u001b[0;36mlastNameFirstName\u001b[1;34m(name1, name2)\u001b[0m\n\u001b[0;32m      1\u001b[0m \u001b[1;32mdef\u001b[0m \u001b[0mlastNameFirstName\u001b[0m\u001b[1;33m(\u001b[0m\u001b[0mname1\u001b[0m\u001b[1;33m,\u001b[0m \u001b[0mname2\u001b[0m\u001b[1;33m)\u001b[0m\u001b[1;33m:\u001b[0m\u001b[1;33m\u001b[0m\u001b[1;33m\u001b[0m\u001b[0m\n\u001b[0;32m      2\u001b[0m     \u001b[1;32mimport\u001b[0m \u001b[0mstring\u001b[0m\u001b[1;33m\u001b[0m\u001b[1;33m\u001b[0m\u001b[0m\n\u001b[1;32m----> 3\u001b[1;33m     \u001b[0mname1\u001b[0m \u001b[1;33m=\u001b[0m \u001b[0mstring\u001b[0m\u001b[1;33m.\u001b[0m\u001b[0msplit\u001b[0m\u001b[1;33m(\u001b[0m\u001b[0mname1\u001b[0m\u001b[1;33m,\u001b[0m \u001b[1;34m' '\u001b[0m\u001b[1;33m)\u001b[0m\u001b[1;33m\u001b[0m\u001b[1;33m\u001b[0m\u001b[0m\n\u001b[0m\u001b[0;32m      4\u001b[0m     \u001b[0mname2\u001b[0m \u001b[1;33m=\u001b[0m \u001b[0mstring\u001b[0m\u001b[1;33m.\u001b[0m\u001b[0msplit\u001b[0m\u001b[1;33m(\u001b[0m\u001b[0mname2\u001b[0m\u001b[1;33m,\u001b[0m \u001b[1;34m' '\u001b[0m\u001b[1;33m)\u001b[0m\u001b[1;33m\u001b[0m\u001b[1;33m\u001b[0m\u001b[0m\n\u001b[0;32m      5\u001b[0m     \u001b[1;32mif\u001b[0m \u001b[0mname1\u001b[0m\u001b[1;33m[\u001b[0m\u001b[1;36m1\u001b[0m\u001b[1;33m]\u001b[0m \u001b[1;33m!=\u001b[0m \u001b[0mname2\u001b[0m\u001b[1;33m[\u001b[0m\u001b[1;36m1\u001b[0m\u001b[1;33m]\u001b[0m\u001b[1;33m:\u001b[0m\u001b[1;33m\u001b[0m\u001b[1;33m\u001b[0m\u001b[0m\n",
      "\u001b[1;31mAttributeError\u001b[0m: module 'string' has no attribute 'split'"
     ]
    }
   ],
   "source": [
    "def lastNameFirstName(name1, name2):\n",
    "    import string\n",
    "    name1 = string.split(name1, ' ')\n",
    "    name2 = string.split(name2, ' ')\n",
    "    if name1[1] != name2[1]:\n",
    "        return name1[1] < name2[1]\n",
    "    else: #last names the same, sort by first name\n",
    "        return name1[0] < name2[0]\n",
    "\n",
    "def firstNameLastName(name1, name2):\n",
    "    import string\n",
    "    name1 = string.split(name1, ' ')\n",
    "    name2 = string.split(name2, ' ')\n",
    "    if name1[0] != name2[0]:\n",
    "        return name1[0] < name2[0]\n",
    "    else: #first names the same, sort by last name\n",
    "        return name1[1] < name2[1]\n",
    "\n",
    "L = ['Chris Terman', 'Tom Brady', 'Eric Grimson', 'Gisele Bundchen']\n",
    "newL = mergeSort(L, lastNameFirstName)\n",
    "print('Sorted by last name =', newL)\n",
    "newL = mergeSort(L, firstNameLastName)\n",
    "print('Sorted by first name =', newL)"
   ]
  },
  {
   "cell_type": "markdown",
   "metadata": {},
   "source": [
    "## 10.2.3  Sorting in Python\n",
    "The sorting algorithm used in most Python implementations is called **timsort**. The key idea is to take advantage of the fact that in a lot of data sets the data is already partially sorted. Timsort’s worst-case performance is the same as merge sort’s, but on average it performs considerably better."
   ]
  },
  {
   "cell_type": "markdown",
   "metadata": {},
   "source": [
    "The Python method _list.sort_ takes a list as its first argument and modifies that list.\n",
    "<br>In contrast, the Python function sorted takes an iterable object (e.g., a list or a dictionary) as its first argument and returns a new sorted list. "
   ]
  },
  {
   "cell_type": "code",
   "execution_count": null,
   "metadata": {},
   "outputs": [],
   "source": [
    "L = [3,5,2] \n",
    "D = {'a':12, 'c':5, 'b':'dog'} \n",
    "print(sorted(L))\n",
    "print(L)\n",
    "L.sort() \n",
    "print(L)\n",
    "print(sorted(D) )\n",
    "D.sort() "
   ]
  },
  {
   "cell_type": "markdown",
   "metadata": {},
   "source": [
    "Both the list.sort method and the sorted function can have **two additional parameters**."
   ]
  },
  {
   "cell_type": "code",
   "execution_count": null,
   "metadata": {},
   "outputs": [],
   "source": [
    "L = [[1,2,3], (3,2,1,0), 'abc'] \n",
    "print(sorted(L, key = len, reverse = True))"
   ]
  },
  {
   "cell_type": "markdown",
   "metadata": {},
   "source": [
    "Both the list.sort method and the sorted function provide **stable sorts**. This means that if two elements are equal with respect to the comparison used in the sort, their relative ordering in the original list (or other iterable object) is preserved in the final list. "
   ]
  },
  {
   "cell_type": "markdown",
   "metadata": {},
   "source": [
    "# 10.3 Hash Tables"
   ]
  },
  {
   "cell_type": "code",
   "execution_count": null,
   "metadata": {},
   "outputs": [],
   "source": [
    "class intDict(object): \n",
    "    \"\"\"A dictionary with integer keys\"\"\" \n",
    "     \n",
    "    def __init__(self, numBuckets): \n",
    "        \"\"\"Create an empty dictionary\"\"\" \n",
    "        self.buckets = [] \n",
    "        self.numBuckets = numBuckets \n",
    "        for i in range(numBuckets): \n",
    "            self.buckets.append([]) \n",
    "             \n",
    "    def addEntry(self, dictKey, dictVal): \n",
    "        \"\"\"Assumes dictKey an int.  Adds an entry.\"\"\" \n",
    "        hashBucket = self.buckets[dictKey%self.numBuckets] \n",
    "        for i in range(len(hashBucket)): \n",
    "            if hashBucket[i][0] == dictKey: \n",
    "                hashBucket[i] = (dictKey, dictVal) \n",
    "                return \n",
    "        hashBucket.append((dictKey, dictVal)) \n",
    "         \n",
    "    def getValue(self, dictKey): \n",
    "        \"\"\"Assumes dictKey an int.  Returns entry associated \n",
    "           with the key dictKey\"\"\" \n",
    "        hashBucket = self.buckets[dictKey%self.numBuckets] \n",
    "        for e in hashBucket: \n",
    "            if e[0] == dictKey: \n",
    "                return e[1] \n",
    "        return None \n",
    "     \n",
    "    def __str__(self): \n",
    "        result = '{' \n",
    "        for b in self.buckets: \n",
    "            for e in b: \n",
    "                result = result + str(e[0]) + ':' + str(e[1]) + ',' \n",
    "        return result[:-1] + '}' #result[:-1] omits the last comma "
   ]
  },
  {
   "cell_type": "code",
   "execution_count": null,
   "metadata": {},
   "outputs": [],
   "source": []
  },
  {
   "cell_type": "code",
   "execution_count": null,
   "metadata": {},
   "outputs": [],
   "source": []
  },
  {
   "cell_type": "code",
   "execution_count": null,
   "metadata": {},
   "outputs": [],
   "source": []
  },
  {
   "cell_type": "code",
   "execution_count": null,
   "metadata": {},
   "outputs": [],
   "source": []
  },
  {
   "cell_type": "code",
   "execution_count": null,
   "metadata": {},
   "outputs": [],
   "source": []
  },
  {
   "cell_type": "code",
   "execution_count": null,
   "metadata": {},
   "outputs": [],
   "source": []
  },
  {
   "cell_type": "code",
   "execution_count": null,
   "metadata": {},
   "outputs": [],
   "source": []
  },
  {
   "cell_type": "code",
   "execution_count": null,
   "metadata": {},
   "outputs": [],
   "source": []
  },
  {
   "cell_type": "code",
   "execution_count": null,
   "metadata": {},
   "outputs": [],
   "source": []
  },
  {
   "cell_type": "code",
   "execution_count": null,
   "metadata": {},
   "outputs": [],
   "source": []
  },
  {
   "cell_type": "code",
   "execution_count": null,
   "metadata": {},
   "outputs": [],
   "source": []
  },
  {
   "cell_type": "code",
   "execution_count": null,
   "metadata": {},
   "outputs": [],
   "source": []
  },
  {
   "cell_type": "code",
   "execution_count": null,
   "metadata": {},
   "outputs": [],
   "source": []
  },
  {
   "cell_type": "code",
   "execution_count": null,
   "metadata": {},
   "outputs": [],
   "source": []
  }
 ],
 "metadata": {
  "kernelspec": {
   "display_name": "Python 3",
   "language": "python",
   "name": "python3"
  },
  "language_info": {
   "codemirror_mode": {
    "name": "ipython",
    "version": 3
   },
   "file_extension": ".py",
   "mimetype": "text/x-python",
   "name": "python",
   "nbconvert_exporter": "python",
   "pygments_lexer": "ipython3",
   "version": "3.7.4"
  }
 },
 "nbformat": 4,
 "nbformat_minor": 2
}
