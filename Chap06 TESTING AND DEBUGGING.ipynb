{
 "cells": [
  {
   "cell_type": "markdown",
   "metadata": {},
   "source": [
    "**Testing** là quy trình chạy một chương trình để thử và xác định xem nó có hoạt động như dự định hay không.\n",
    "<br>**Debugging** là quy trình cố sửa một chương trình mà bạn đã biết không hoạt động như dự định.\n",
    "<br>Testing và Debugging không phải là những quy trình mà bạn nên nghĩ sau khi chương trình đã được xây dựng. Người lập trình viên tốt sẽ thiết kế chương trình sao cho dễ test và debug. Thường thì người ta sẽ chia chương trình ra nhiều thành phần mà việc bổ sung, test, debug độc lập với các thành phần khác. Trong chương này, chúng ta chỉ thảo luận cơ chế duy nhất để module hóa chương trình đó là hàm. "
   ]
  },
  {
   "cell_type": "markdown",
   "metadata": {},
   "source": [
    "# 6.1 Testing"
   ]
  },
  {
   "cell_type": "markdown",
   "metadata": {},
   "source": [
    "The key to testing is finding a collection of inputs, called a **test suite**, that has a high likelihood of revealing bugs, yet does not take too long to run.\n",
    "<br>A **partition** of a set divides that set into a collection of subsets such that each element of the original set belongs to exactly one of the subsets.\n",
    "<br>Heuristics based on exploring paths through the _code fall into a class_ called **glass-box testing**.\n",
    "<br>Heuristics based on exploring paths through the _specification fall into a class_ called **black-box testing**.\n"
   ]
  },
  {
   "cell_type": "code",
   "execution_count": null,
   "metadata": {},
   "outputs": [],
   "source": []
  }
 ],
 "metadata": {
  "kernelspec": {
   "display_name": "Python 3",
   "language": "python",
   "name": "python3"
  },
  "language_info": {
   "codemirror_mode": {
    "name": "ipython",
    "version": 3
   },
   "file_extension": ".py",
   "mimetype": "text/x-python",
   "name": "python",
   "nbconvert_exporter": "python",
   "pygments_lexer": "ipython3",
   "version": "3.7.4"
  }
 },
 "nbformat": 4,
 "nbformat_minor": 2
}
