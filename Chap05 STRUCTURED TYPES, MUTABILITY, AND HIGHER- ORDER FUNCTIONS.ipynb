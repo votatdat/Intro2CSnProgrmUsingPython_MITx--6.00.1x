{
 "cells": [
  {
   "cell_type": "markdown",
   "metadata": {},
   "source": [
    "Cho tới nay chúng ta đã làm việc với 3 kiểu của đối tượng (3 types of objects): **_int, float, str_**. Kiểu số học int và float là kiểu vô hướng (scalar types), nghĩa là các kiểu này không có cấu trúc bên trong để chúng ta truy xuất. Ngược lại, kiểu str có thể được coi là kiểu có cấu trúc (hoặc không vô hướng). Chúng ta có thể sử dụng chỉ số (index) để truy xuất từng kí tự riêng lẻ trong chuỗi và xuất chuỗi con.\n",
    "Trong chương này, chúng ta sẽ có thêm 4 kiểu mới: **_tuple_** (tổng quát hóa của str), **_list_**, **_range_**, **_dict_**."
   ]
  },
  {
   "cell_type": "markdown",
   "metadata": {},
   "source": [
    "# 5.1 Tuples"
   ]
  },
  {
   "cell_type": "markdown",
   "metadata": {},
   "source": [
    "Giống string, **_tuples_** là kiểu gồm các phần tử được sắp xếp không thể thay đổi, điểm khác nhau là các phần tử của tuples không chỉ là kí tự (character). Các phần tử riêng lẻ có thể là bất cứ kiểu nào và không cần cùng kiểu với các phần tử khác."
   ]
  },
  {
   "cell_type": "code",
   "execution_count": 1,
   "metadata": {},
   "outputs": [
    {
     "name": "stdout",
     "output_type": "stream",
     "text": [
      "()\n",
      "(1, 'two', 3)\n"
     ]
    }
   ],
   "source": [
    "t1 = ()\n",
    "t2 = (1, 'two', 3)\n",
    "print(t1)\n",
    "print(t2)"
   ]
  },
  {
   "cell_type": "code",
   "execution_count": 1,
   "metadata": {
    "scrolled": true
   },
   "outputs": [
    {
     "name": "stdout",
     "output_type": "stream",
     "text": [
      "('a', 2, 'a', 2, 'a', 2)\n"
     ]
    }
   ],
   "source": [
    "t1=('a', 2)\n",
    "print(3*t1)"
   ]
  },
  {
   "cell_type": "markdown",
   "metadata": {},
   "source": [
    "Sự lặp lại (repetition) có thể được sử dụng ở tuple. Biểu thức 3\\*('a', 2) trở thành ('a', 2, 'a', 2, 'a', 2).\n",
    "<br/>Cũng giống như string, tuple có thể được **nối, lấy chỉ số và cắt lát (concatenated, indexed, and sliced)**."
   ]
  },
  {
   "cell_type": "code",
   "execution_count": 3,
   "metadata": {
    "scrolled": true
   },
   "outputs": [
    {
     "name": "stdout",
     "output_type": "stream",
     "text": [
      "((1, 'two', 5), 3.25)\n",
      "(1, 'two', 5, (1, 'two', 5), 3.25)\n",
      "(1, 'two', 5)\n",
      "(5, (1, 'two', 5), 3.25)\n"
     ]
    }
   ],
   "source": [
    "t1 = (1, 'two', 5)\n",
    "t2 = (t1, 3.25)\n",
    "print(t2)\n",
    "print(t1 + t2)\n",
    "print((t1 + t2)[3])\n",
    "print((t1 + t2)[2:5])"
   ]
  },
  {
   "cell_type": "markdown",
   "metadata": {},
   "source": [
    "Vòng lặp for có thể được dùng để kiểm tra hết các phần tử trong tuple. Đoạn code ở dưới trả về một tuple chứa các phần tử ở cả t1 và t2."
   ]
  },
  {
   "cell_type": "code",
   "execution_count": 8,
   "metadata": {},
   "outputs": [
    {
     "name": "stdout",
     "output_type": "stream",
     "text": [
      "(1, 'two', 5)\n"
     ]
    }
   ],
   "source": [
    "def intersect(t1, t2):\n",
    "    \"\"\"Assumes t1 and t2 are tuples\n",
    "        Return a tuple containing elements \n",
    "        that are in both t1 and t2\"\"\"\n",
    "    result = ()\n",
    "    for e in t1:\n",
    "        if e in t2:\n",
    "            result += (e,)\n",
    "    return result\n",
    "\n",
    "def testIntersect():\n",
    "    t1 = (1, 'two', 5)\n",
    "    t2 = (5, 'two', 1, 1, 5)\n",
    "    print(intersect(t1, t2))\n",
    "    \n",
    "testIntersect()"
   ]
  },
  {
   "cell_type": "markdown",
   "metadata": {},
   "source": [
    "## Chuỗi và gán theo chuỗi (Sequences and Multiple Assignment)"
   ]
  },
  {
   "cell_type": "markdown",
   "metadata": {},
   "source": [
    "Nếu bạn biết chiều dài của một chuỗi (ví dụ: tuple hoặc string) thì rất thuận tiện để sử dụng câu lệnh gán theo chuỗi của Python để trích xuất các phần tử riêng lẻ. Ví dụ: x, y = (3, 4) thì x = 3, y = 4 hoặc a, b,c = 'xyz' thì sẽ kết nối a với 'x', b với 'y' và c với 'z'. \n",
    "<br/>Cơ chế này rất thuận tiện khi được sử dụng để liên kết với hàm mà trả vễ một chuỗi có kích thước cố định. Xem ví dụ bên dưới:"
   ]
  },
  {
   "cell_type": "code",
   "execution_count": 11,
   "metadata": {},
   "outputs": [
    {
     "name": "stdout",
     "output_type": "stream",
     "text": [
      "3 9\n"
     ]
    }
   ],
   "source": [
    "def findExtremeDivisors(n1, n2):\n",
    "    \"\"\"Assumes that n1 and n2 are positive ints \n",
    "        Returns a tuple containing the smallest common divisor > 1\n",
    "        and the largest common divisor of n1 and n2. \n",
    "        If nocommon divisor, returns (None, None)\"\"\"\n",
    "    minVal, maxVal = None, None\n",
    "    for i in range(2, min(n1, n2) + 1):\n",
    "        if n1%i == 0 and n2%i == 0:\n",
    "            if minVal == None:\n",
    "                minVal = i\n",
    "            maxVal = i\n",
    "    return (minVal, maxVal)\n",
    "\n",
    "minDivisor, maxDivisor = findExtremeDivisors(9,18)\n",
    "print(minDivisor, maxDivisor)"
   ]
  },
  {
   "cell_type": "markdown",
   "metadata": {},
   "source": [
    "# 5.2 Ranges"
   ]
  },
  {
   "cell_type": "markdown",
   "metadata": {},
   "source": [
    "Cũng giống như string và tuple, các phần tử của range là không thể thay đổi **(immutable)**. *Hàm range* trả về một đối tượng có kiểu range. Hàm range lấy 3 đối số kiểu nguyên (integer argument): **start**, **stop** và **step** và trả về các phần tử ở vị trí start, start + step, start + 2\\*step.... \n",
    "<br>Nếu step là số dương, thì vị trí lớn nhất là start + i\\*step mà bé hơn stop, còn step âm thì phần tử cuối cùng là start + i\\*step mà lớn hơn stop. \n",
    "<br>Nếu chỉ có 2 argument được truyền, thì step = 1. \n",
    "<br/>Còn nếu chỉ 1 argument được truyền thì đó là stop, start mặc định là 0 và step mặc định là 1.\n",
    "<br>Tất cả các phép toán trên tuple đều có thể sử dụng cho range ngoại trừ nối chuỗi và lắp (concatenation and repetition). \n",
    "<br/>\n",
    "<br>Ví dụ: range(10)\\[2:6\\]\\[2\\] có giá trị là 4:\n",
    "- range(10): gồm 10 phần tử từ 0 đến 9 \\[0, 1, 2, 3, 4, 5, 6, 7, 8, 9\\].\n",
    "- rang(10)\\[2:6\\]: chỉ còn các phần tử từ 2 đến 5 của dãy trên, lúc này là \\[2, 3, 4, 5\\].\n",
    "- range(10)\\[2:6\\]\\[2\\]: là phần tử thứ 2 của dãy trên, nên nó là 4."
   ]
  },
  {
   "cell_type": "code",
   "execution_count": 16,
   "metadata": {},
   "outputs": [
    {
     "data": {
      "text/plain": [
       "4"
      ]
     },
     "execution_count": 16,
     "metadata": {},
     "output_type": "execute_result"
    }
   ],
   "source": [
    " range(10)[2:6][2]"
   ]
  },
  {
   "cell_type": "code",
   "execution_count": 17,
   "metadata": {},
   "outputs": [
    {
     "data": {
      "text/plain": [
       "True"
      ]
     },
     "execution_count": 17,
     "metadata": {},
     "output_type": "execute_result"
    }
   ],
   "source": [
    " range(0, 7, 2) == range(0, 8, 2)"
   ]
  },
  {
   "cell_type": "markdown",
   "metadata": {},
   "source": [
    "Điều này cho kết quả True vì các phần tử hoàn toàn bằng nhau."
   ]
  },
  {
   "cell_type": "code",
   "execution_count": 7,
   "metadata": {},
   "outputs": [
    {
     "data": {
      "text/plain": [
       "False"
      ]
     },
     "execution_count": 7,
     "metadata": {},
     "output_type": "execute_result"
    }
   ],
   "source": [
    "range(0, 7, 2) == range(6, -1,-2)"
   ]
  },
  {
   "cell_type": "markdown",
   "metadata": {},
   "source": [
    "Điều này cho kết quả False vì các phần tử giống nhau, nhưng thứ tự bị đảo chiều."
   ]
  },
  {
   "cell_type": "markdown",
   "metadata": {},
   "source": [
    "# 5.3 LIST và Mutability (tính có thể thay đổi)"
   ]
  },
  {
   "cell_type": "markdown",
   "metadata": {},
   "source": [
    "Giống như tuple, **list** gồm các phần tử có thứ tự được sắp xếp và mỗi giá trị được định dạng bởi một chỉ số (index). Cú pháp kiểu list cũng tương tự như tuple, điểm khác nhau là ta sử dụng ngoặc vuông \\[ \\] chứ không phải ngoặc đơn ( ), một list rỗng được ghi là \\[ \\]. Ví dụ:"
   ]
  },
  {
   "cell_type": "code",
   "execution_count": 18,
   "metadata": {},
   "outputs": [
    {
     "name": "stdout",
     "output_type": "stream",
     "text": [
      "I did it all\n",
      "4\n",
      "love\n"
     ]
    }
   ],
   "source": [
    "L = ['I did it all', 4, 'love']\n",
    "for i in range(len(L)):\n",
    "    print(L[i])"
   ]
  },
  {
   "cell_type": "markdown",
   "metadata": {},
   "source": [
    "Việc sử dụng ngoặc vuông có thể gây nhầm lẫn với chỉ số (index) và cắt (slice), ví dụ biểu thức [1,2,3,4][1:3][1] sẽ trả về giá trị 3."
   ]
  },
  {
   "cell_type": "code",
   "execution_count": 9,
   "metadata": {},
   "outputs": [
    {
     "data": {
      "text/plain": [
       "3"
      ]
     },
     "execution_count": 9,
     "metadata": {},
     "output_type": "execute_result"
    }
   ],
   "source": [
    "[1,2,3,4][1:3][1]"
   ]
  },
  {
   "cell_type": "markdown",
   "metadata": {},
   "source": [
    "List khác với tuple ở một điểm rất quan trọng: list có thể thay đổi (**mutable**) khác với tuple và string là không thể thay đổi (**immutable**). Có nhiều phép toán được sử dụng để tạo các đối tượng có kiểu mutable, nhưng không thể nào thay đổi các đối tưởng có kiểu immutable. Vậy nên, các đối tưởng có kiểu list có thể được thay đổi sau khi khởi tạo. "
   ]
  },
  {
   "cell_type": "markdown",
   "metadata": {},
   "source": [
    "Khi khai báo:\n",
    "<br>Techs = ['MIT', 'Caltech']\n",
    "<br>Ivys = ['Harvard', 'Yale', 'Brown']\n",
    "<br>thì trình biên dịch sẽ tạo 2 list mới và gán giá trị thích hợp (tham khảo hình bên dưới)."
   ]
  },
  {
   "cell_type": "markdown",
   "metadata": {},
   "source": [
    "![](F5.1.png)"
   ]
  },
  {
   "cell_type": "markdown",
   "metadata": {},
   "source": [
    "![](01.png)"
   ]
  },
  {
   "cell_type": "code",
   "execution_count": 10,
   "metadata": {},
   "outputs": [
    {
     "name": "stdout",
     "output_type": "stream",
     "text": [
      "Univs = [['MIT', 'Caltech'], ['Harvard', 'Yale', 'Brown']]\n",
      "Univs1 = [['MIT', 'Caltech'], ['Harvard', 'Yale', 'Brown']]\n",
      "True\n"
     ]
    }
   ],
   "source": [
    "Techs = ['MIT', 'Caltech']\n",
    "Ivys = ['Harvard', 'Yale', 'Brown']\n",
    "\n",
    "Univs = [Techs, Ivys]\n",
    "Univs1 = [['MIT', 'Caltech'], ['Harvard', 'Yale','Brown']]\n",
    "\n",
    "print('Univs =', Univs)\n",
    "print('Univs1 =', Univs1)\n",
    "print(Univs == Univs1)"
   ]
  },
  {
   "cell_type": "markdown",
   "metadata": {},
   "source": [
    "Mặc dù Univs và Univs1 được xuất hiện những giá trị giống nhau nhưng thực sự thì Univs và Univs1 được gán với những giá trị khác nhau."
   ]
  },
  {
   "cell_type": "markdown",
   "metadata": {},
   "source": [
    "![](F5.2.png)"
   ]
  },
  {
   "cell_type": "markdown",
   "metadata": {},
   "source": [
    "Univs và Univs1 được gán vào những object khác nhau có thể kiểm chứng bằng hàm xây dựng sẵn (built-in function) **id**, sẽ trả về định danh (identifier) duy nhất cho đối tượng, hàm này sẽ kiểm tra 2 đối tượng có tương đương hay không."
   ]
  },
  {
   "cell_type": "code",
   "execution_count": 11,
   "metadata": {},
   "outputs": [
    {
     "name": "stdout",
     "output_type": "stream",
     "text": [
      "True\n",
      "False\n",
      "Id of Univs = 2811973030216\n",
      "Id of Univs1 = 2811973265928\n"
     ]
    }
   ],
   "source": [
    "print(Univs == Univs1) #test value equality\n",
    "print(id(Univs) == id(Univs1)) #test object equality\n",
    "print('Id of Univs =', id(Univs))\n",
    "print('Id of Univs1 =', id(Univs1))"
   ]
  },
  {
   "cell_type": "code",
   "execution_count": 12,
   "metadata": {},
   "outputs": [
    {
     "name": "stdout",
     "output_type": "stream",
     "text": [
      "Ids of Univs[0] and Univs[1] 2811973276424 2811973266312\n",
      "Ids of Univs1[0] and Univs1[1] 2811973267016 2811955387080\n"
     ]
    }
   ],
   "source": [
    "print('Ids of Univs[0] and Univs[1]', id(Univs[0]),id(Univs[1])) \n",
    "print('Ids of Univs1[0] and Univs1[1]', id(Univs1[0]), id(Univs1[1]))"
   ]
  },
  {
   "cell_type": "markdown",
   "metadata": {},
   "source": [
    "Bởi vì list có thể thay đổi, nên giả sử ta thêm \"RPI\" vào Techs."
   ]
  },
  {
   "cell_type": "code",
   "execution_count": 13,
   "metadata": {},
   "outputs": [
    {
     "name": "stdout",
     "output_type": "stream",
     "text": [
      "Univs = [['MIT', 'Caltech', 'RPI'], ['Harvard', 'Yale', 'Brown']]\n",
      "Univs1 = [['MIT', 'Caltech'], ['Harvard', 'Yale', 'Brown']]\n"
     ]
    }
   ],
   "source": [
    "Techs.append('RPI')\n",
    "print('Univs =', Univs)\n",
    "print('Univs1 =', Univs1)"
   ]
  },
  {
   "cell_type": "markdown",
   "metadata": {},
   "source": [
    "Cũng như tuple, vòng lắp for được dùng để lấy các phần tử trong list."
   ]
  },
  {
   "cell_type": "code",
   "execution_count": 14,
   "metadata": {},
   "outputs": [
    {
     "name": "stdout",
     "output_type": "stream",
     "text": [
      "Univs contains ['MIT', 'Caltech', 'RPI']\n",
      " which contains\n",
      "  MIT\n",
      "  Caltech\n",
      "  RPI\n",
      "Univs contains ['Harvard', 'Yale', 'Brown']\n",
      " which contains\n",
      "  Harvard\n",
      "  Yale\n",
      "  Brown\n"
     ]
    }
   ],
   "source": [
    "for e in Univs:\n",
    "    print('Univs contains', e)\n",
    "    print(' which contains')\n",
    "    for u in e:\n",
    "        print(' ', u)"
   ]
  },
  {
   "cell_type": "markdown",
   "metadata": {},
   "source": [
    "![](F5.3.png)"
   ]
  },
  {
   "cell_type": "markdown",
   "metadata": {},
   "source": [
    "Chúng ta có thể nối 2 list thành list mới dùng '+', hàm extend hoặc append. Chú ý sự khác nhau của extend và append."
   ]
  },
  {
   "cell_type": "code",
   "execution_count": 15,
   "metadata": {},
   "outputs": [
    {
     "name": "stdout",
     "output_type": "stream",
     "text": [
      "L3 = [1, 2, 3, 4, 5, 6]\n",
      "L1 = [1, 2, 3, 4, 5, 6]\n",
      "L1 = [1, 2, 3, 4, 5, 6, [4, 5, 6]]\n"
     ]
    }
   ],
   "source": [
    "L1 = [1,2,3]\n",
    "L2 = [4,5,6]\n",
    "L3 = L1 + L2\n",
    "print('L3 =', L3)\n",
    "L1.extend(L2)\n",
    "print('L1 =', L1)\n",
    "L1.append(L2)\n",
    "print('L1 =', L1)"
   ]
  },
  {
   "cell_type": "markdown",
   "metadata": {},
   "source": [
    "Bên dưới là các hàm sử dụng với list."
   ]
  },
  {
   "cell_type": "markdown",
   "metadata": {},
   "source": [
    "**L.append(e)** nối e vào cuối L.\n",
    "<br>**L.count(e)** trả về số kí tự e xuất hiện trong L. \n",
    "<br>**L.insert(i, e)** chèn e vào L ở vị trí i. \n",
    "<br>**L.extend(L1)** thêm các phần tử của L1 vào cuối L.\n",
    "<br>**L.remove(e)** xóa kí tự e đầu tiên của L. \n",
    "<br>**L.index(e)** trả về chỉ số kí tự e xuất hiện đầu tiên trong L, nếu e không tồn tại trong L, hàm trả về exeption.\n",
    "<br>**L.pop(i)** xóa bỏ và trả về item có vị trí i trong L. Nếu không có i, thì i mặc định là -1 , xóa bỏ và trả về phần tử cuối cùng của L. \n",
    "<br>**L.sort()** sắp xếp các phần tử trong L theo thứ tự tăng dần. \n",
    "<br>**L.reverse()** đảo thứ tự các phần tử trong L. "
   ]
  },
  {
   "cell_type": "markdown",
   "metadata": {},
   "source": [
    "## 5.3.1 Cloning (nhân bản)"
   ]
  },
  {
   "cell_type": "markdown",
   "metadata": {},
   "source": [
    "Chúng ta hãy xem ví dụ dưới đây:"
   ]
  },
  {
   "cell_type": "code",
   "execution_count": 16,
   "metadata": {
    "scrolled": true
   },
   "outputs": [
    {
     "name": "stdout",
     "output_type": "stream",
     "text": [
      "L1 = [2, 3, 4]\n"
     ]
    }
   ],
   "source": [
    "def removeDups(L1, L2):\n",
    "    for e1 in L1:\n",
    "        if e1 in L2:\n",
    "            L1.remove(e1)\n",
    "        \n",
    "        \n",
    "L1 = [1,2,3,4]\n",
    "L2 = [1,2,5,6]\n",
    "removeDups(L1, L2)\n",
    "print('L1 =', L1)"
   ]
  },
  {
   "cell_type": "markdown",
   "metadata": {},
   "source": [
    "Kết quả không như mong đợi, giá trị 2 của L1 vẫn chưa bị xóa bỏ.\n",
    "Nguyên nhân là do ở vòng lặp đầu tiên của lệnh for, L1 có 4 phần tử nên chỉ số index sẽ từ 0 đến 3. Vòng lặp đầu tiên thì e1 = L1\\[0\\] nó có giá trị là 1, nó cũng có ở L2 nên nó bị xóa. Ở vòng lắp tiếp theo, vì L1 đã xóa phần tử đầu tiên nên chỉ còn 3 phần tử \\[2, 3, 4\\], lúc này e1 =  L1\\[1\\] có giá trị 3 (chứ không phải là 2) nên không bị remove, tương tự giá trị 4 cũng không bị remove nên L1 còn lại \\[2, 3, 4\\].\n",
    "Giả sử chúng ta gán:\n",
    "<br>newL1 = L1\n",
    "<br>for e1 in newL1:\n",
    "<br>thì hiện cũng không giải quyết được vấn đề, vì newL1 bị clone theo L1."
   ]
  },
  {
   "cell_type": "code",
   "execution_count": 17,
   "metadata": {},
   "outputs": [
    {
     "name": "stdout",
     "output_type": "stream",
     "text": [
      "newL1 = [2, 3, 4]\n",
      "L1 = [2, 3, 4]\n"
     ]
    }
   ],
   "source": [
    "def removeDups(L1, L2):\n",
    "    newL1 = L1\n",
    "    for e1 in newL1:\n",
    "        if e1 in L2:\n",
    "            L1.remove(e1)\n",
    "            print('newL1 =', newL1)\n",
    "        \n",
    "L1 = [1,2,3,4]\n",
    "L2 = [1,2,5,6]\n",
    "removeDups(L1, L2)\n",
    "print('L1 =', L1)"
   ]
  },
  {
   "cell_type": "markdown",
   "metadata": {},
   "source": [
    "Một cách giải quyết vấn đề này là sử dụng lát cắt (slicing) for e1 in L1\\[:\\]. (Chưa hiểu được nguyên nhân)"
   ]
  },
  {
   "cell_type": "code",
   "execution_count": 18,
   "metadata": {},
   "outputs": [
    {
     "name": "stdout",
     "output_type": "stream",
     "text": [
      "L1 = [3, 4]\n"
     ]
    }
   ],
   "source": [
    "def removeDups(L1, L2):\n",
    "    for e1 in L1[:]:\n",
    "        if e1 in L2:\n",
    "            L1.remove(e1)\n",
    "        \n",
    "        \n",
    "L1 = [1,2,3,4]\n",
    "L2 = [1,2,5,6]\n",
    "removeDups(L1, L2)\n",
    "print('L1 =', L1)"
   ]
  },
  {
   "cell_type": "markdown",
   "metadata": {},
   "source": [
    "## 5.3.2  List comprehension"
   ]
  },
  {
   "cell_type": "markdown",
   "metadata": {},
   "source": [
    "List comprehension cung cấp một phương thích chính xác để tính toán các giá trị trong 1 chuỗi. Xem ví dụ bên dưới."
   ]
  },
  {
   "cell_type": "code",
   "execution_count": 19,
   "metadata": {},
   "outputs": [
    {
     "name": "stdout",
     "output_type": "stream",
     "text": [
      "[1, 4, 9, 16, 25, 36]\n"
     ]
    }
   ],
   "source": [
    "L = [x**2 for x in range(1,7)]\n",
    "print(L)"
   ]
  },
  {
   "cell_type": "code",
   "execution_count": 20,
   "metadata": {},
   "outputs": [
    {
     "name": "stdout",
     "output_type": "stream",
     "text": [
      "[1, 4, 9]\n"
     ]
    }
   ],
   "source": [
    "mixed = [1, 2, 'a', 3, 4.0]\n",
    "print([x**2 for x in mixed if type(x) == int])"
   ]
  },
  {
   "cell_type": "markdown",
   "metadata": {},
   "source": [
    "# 5.4 Sử dụng hàm như một đối tượng (Functions as Objects)"
   ]
  },
  {
   "cell_type": "markdown",
   "metadata": {},
   "source": [
    "Trong Python, hàm được xem như đối tượng hạng nhất **(first-class objects)**, có nghĩa là nó có thể được đối xử nhưng là đối tượng của các kiểu khác như int hay list. Ví dụ: type(abs) sẽ có giá trị 'built-in_function_or_method'.\n"
   ]
  },
  {
   "cell_type": "code",
   "execution_count": 21,
   "metadata": {},
   "outputs": [
    {
     "data": {
      "text/plain": [
       "builtin_function_or_method"
      ]
     },
     "execution_count": 21,
     "metadata": {},
     "output_type": "execute_result"
    }
   ],
   "source": [
    "type(abs)"
   ]
  },
  {
   "cell_type": "markdown",
   "metadata": {},
   "source": [
    "Sử dụng hàm như một đối số cho phép một kiểu coding gọi là **higher-order programming**. Xem ví dụ ở dưới:"
   ]
  },
  {
   "cell_type": "code",
   "execution_count": 22,
   "metadata": {},
   "outputs": [
    {
     "name": "stdout",
     "output_type": "stream",
     "text": [
      "L = [1, -2, 3.33]\n",
      "Apply abs to each element of L.\n",
      "L = [1, 2, 3.33]\n",
      "Apply int to each element of [1, 2, 3.33]\n",
      "L = [1, 2, 3]\n",
      "Apply factorial to each element of [1, 2, 3]\n",
      "L = [1, 2, 6]\n",
      "Apply Fibonnaci to each element of [1, 2, 6]\n",
      "L = [1, 2, 13]\n"
     ]
    }
   ],
   "source": [
    "def factR(n): \n",
    "   \"\"\"Assumes that n is an int > 0 \n",
    "      Returns n!\"\"\" \n",
    "   if n == 1: \n",
    "      return n \n",
    "   else: \n",
    "       return n*factR(n - 1) \n",
    "\n",
    "def fib(n): \n",
    "    \"\"\"Assumes n an int >= 0 \n",
    "       Returns Fibonacci of n\"\"\" \n",
    "    if n == 0 or n == 1: \n",
    "        return 1 \n",
    "    else: \n",
    "        return fib(n-1) + fib(n-2) \n",
    "\n",
    "def applyToEach(L, f): \n",
    "   \"\"\"Assumes L is a list, f a function \n",
    "      Mutates L by replacing each element, e, of L by f(e)\"\"\" \n",
    "   for i in range(len(L)): \n",
    "      L[i] = f(L[i]) \n",
    "       \n",
    "L = [1, -2, 3.33] \n",
    "print ('L =', L)\n",
    "print ('Apply abs to each element of L.')\n",
    "applyToEach(L, abs) \n",
    "print ('L =', L) \n",
    "print ('Apply int to each element of', L)\n",
    "applyToEach(L, int) \n",
    "print ('L =', L) \n",
    "print ('Apply factorial to each element of', L) \n",
    "applyToEach(L, factR) \n",
    "print ('L =', L) \n",
    "print ('Apply Fibonnaci to each element of', L) \n",
    "applyToEach(L, fib) \n",
    "print ('L =', L )"
   ]
  },
  {
   "cell_type": "markdown",
   "metadata": {},
   "source": [
    "Hàm applyToEach được gọi là hàm bậc cao hơn **(higher-order)** bởi vì nó có đối số đầu vào là hàm. Mỗi lần nó đều gọi hàm và thay đổi dữ liệu. \n",
    "Python cũng có hàm bậc cao hơn được xây dựng sẵn, **map**, tương tự nhưng tổng quát hơn là hàm applyToEach ở trên. Xem ví dụ ở dưới:"
   ]
  },
  {
   "cell_type": "code",
   "execution_count": 23,
   "metadata": {},
   "outputs": [
    {
     "name": "stdout",
     "output_type": "stream",
     "text": [
      "2\n",
      "13\n",
      "5\n"
     ]
    }
   ],
   "source": [
    "for i in map(fib, [2, 6, 4]):\n",
    "    print(i)"
   ]
  },
  {
   "cell_type": "code",
   "execution_count": 24,
   "metadata": {},
   "outputs": [
    {
     "name": "stdout",
     "output_type": "stream",
     "text": [
      "1\n",
      "28\n",
      "9\n"
     ]
    }
   ],
   "source": [
    "L1 = [1, 28, 36]\n",
    "L2 = [2, 57, 9]\n",
    "for i in map(min, L1, L2):\n",
    "    print(i)"
   ]
  },
  {
   "cell_type": "markdown",
   "metadata": {},
   "source": [
    "Python cũng hỗ trợ việc tạo các hàm không tên (anonymous functions) gọi là **lambda**.\n",
    "Biểu thức tổng quát của *lambda expression* là: \n",
    "<br>**lambda \\[sequence of variable names\\]: \\[expression\\]**\n",
    "<br>**lambda \\[tên các biến trong chuỗi\\]: \\[biểu thức\\]**\n",
    "\n",
    "lambda x, y: x\\*y sẽ trả về một hàm mà hàm đó trả về tích của 2 đối số. Biểu thức lambda thường được dùng như đối số ở các hàm bậc cao hơn."
   ]
  },
  {
   "cell_type": "code",
   "execution_count": 25,
   "metadata": {},
   "outputs": [
    {
     "name": "stdout",
     "output_type": "stream",
     "text": [
      "[3, 4, 3, 0]\n"
     ]
    }
   ],
   "source": [
    "L = []\n",
    "for i in map(lambda x, y: x*y, [1 ,2 ,3, 4], [3, 2, 1, 0]): L.append(i)\n",
    "print(L)"
   ]
  },
  {
   "cell_type": "markdown",
   "metadata": {},
   "source": [
    "# 5.5 Strings, Tuples, Ranges và Lists"
   ]
  },
  {
   "cell_type": "markdown",
   "metadata": {},
   "source": [
    "Tới đây, chúng ta đã lướt qua 4 kiểu dữ liệu khác nhau: *str, tuple, range* và *list*. Bên dưới là các phép toán giống nhau cho 4 kiểu này."
   ]
  },
  {
   "cell_type": "markdown",
   "metadata": {},
   "source": [
    "**seq\\[i\\]** trả về phần tử thứ 9 của chuỗi. \n",
    "<br>**len(seq)** trả về độ dài của chuỗi. \n",
    "<br>**seq1 + seq2** trả về kết quả nối hai chuỗi. \n",
    "<br>**n * seq** trả về chuỗi mà seq được lặp lại n lần. \n",
    "<br>**seq\\[start:end\\]** trả về lát cắt (slice)/chuỗi con của chuỗi.\n",
    "<br>**e in seq** trả về True nếu có phần tử e nằm trong seq và trả về False nếu ngược lại. \n",
    "<br>**e not in seq** trả về True nếu không có phần tử e nằm trong seq và trả về False nếu ngược lại. \n",
    "<br>**for e in seq** vòng lặp for với e được gán với từng phần tử trong chuỗi. "
   ]
  },
  {
   "cell_type": "markdown",
   "metadata": {},
   "source": [
    "Bảng dưới là sự khác nhau:\n",
    "\n",
    "| Kiểu    | Kiểu của các phần tử | Ví dụ                     | Mutable |\n",
    "|:-------:| :------------------: | :-----------------------: | :-----: | \n",
    "| str     | characters           | '', 'a', 'abc'            |No       | \n",
    "| tuple   | any type             | (), (3,), ('abc', 4)      |No       |\n",
    "| range   | integers             | range(10), range(1,10,2)  |No       |\n",
    "| list    | any type             | \\[\\], \\[3\\], \\['abc', 4\\] |Yes      |"
   ]
  },
  {
   "cell_type": "markdown",
   "metadata": {},
   "source": [
    "Thông thường thì người lập trình Python sẽ dùng list hơn là tuple vì list có thể thay đổi nên người lập trình sẽ xây dựng lại list trong quá trình tính toán.Ví dụ như đoạn code ở dưới sẽ tạo ra 1 list toàn số chẵn từ một list khác."
   ]
  },
  {
   "cell_type": "code",
   "execution_count": 26,
   "metadata": {},
   "outputs": [
    {
     "name": "stdout",
     "output_type": "stream",
     "text": [
      "[2, 4, 6, 2, 6, 8]\n"
     ]
    }
   ],
   "source": [
    "L=[1,2,4,6,7,2,6,3,7,8]\n",
    "\n",
    "evenElems = []\n",
    "for e in L:\n",
    "    if e%2 == 0:\n",
    "        evenElems.append(e)\n",
    "        \n",
    "print(evenElems)"
   ]
  },
  {
   "cell_type": "markdown",
   "metadata": {},
   "source": [
    "Một điểm mạnh của tuple là do tuple không thể thay đổi nên không lo chuyện bị rối loạn **(aliasing)**. Một điểm mạnh khá là tuple có thể sử dụng như key ở dictionary (sẽ nói ở phần sau).\n",
    "Vì string chỉ chứa kí tự nên được xem là kém linh hoạt so với tuple hoặc list. Tuy nhiên, khi làm việc với chuỗi kí tự thì có nhiều phương thức (method) xây dựng sẵn làm mọi việc dễ dàng hơn. Một phương thức hữu ích đó là split, sẽ lấy 2 chuỗi như các đối số. Đối số thứ 2 sẽ chỉ định bộ chia dùng để chia đối số thứ nhất thành các chuỗi con."
   ]
  },
  {
   "cell_type": "code",
   "execution_count": 27,
   "metadata": {},
   "outputs": [
    {
     "name": "stdout",
     "output_type": "stream",
     "text": [
      "['My', 'favorite', 'professor--John', 'G.--rocks']\n",
      "['My favorite professor', '', 'John G.', '', 'rocks']\n",
      "['My favorite professor', 'JohnG.', 'rocks']\n"
     ]
    }
   ],
   "source": [
    "print('My favorite professor--John G.--rocks'.split()) \n",
    "print('My favorite professor--John G.--rocks'.split('-')) \n",
    "print('My favorite professor--JohnG.--rocks'.split('--'))"
   ]
  },
  {
   "cell_type": "markdown",
   "metadata": {},
   "source": [
    "Bảng dưới mô tả một vài phương thức cho string, nhớ là string là kiểu immutable nên những phương thức này trả về giá trị và không có thay đổi nào.\n",
    "<br>\n",
    "<br>**s.count(s1)** đếm xem có bao nhiêu chuỗi/kí tự s1 trong chuỗi s. \n",
    "<br>**s.find(s1)** trả về chỉ số đầu tiên của s1 nằm trong s, trả về -1 nếu không có s1 nào nằm trong s. \n",
    "<br>**s.rfind(s1)** cũng giống find ở trên nhưng bắt đầu từ cuối chuỗi s (kí tự “r” trong rfind là viết tắt của reverse). \n",
    "<br>**s.index(s1)** cũng giống find nhưng trả về exception nếu s1 không nằm trong s.\n",
    "<br>**s.rindex(s1)** giống index nhưng bắt đầu từ cuối của chuỗi s. \n",
    "<br>**s.lower()** chuyển toàn bộ chữ in hoa thành in thường. \n",
    "<br>**s.replace(old, new)** thay đổi toàn bộ chuỗi old thành chuỗi new trong chuỗi s. \n",
    "<br>**s.rstrip()** xóa bỏ khoảng trắng trong chuỗi s. //test thử ko chạy được trên python3\n",
    "<br>**s.split(d)** cắt chuỗi s, sử dụng d như bộ chia (xem ví dụ ở trên). \n"
   ]
  },
  {
   "cell_type": "markdown",
   "metadata": {},
   "source": [
    "# 5.6 Dictionaries"
   ]
  },
  {
   "cell_type": "markdown",
   "metadata": {},
   "source": [
    "Các đối tượng có kiểu **dict** (viết tắt của dictionary) cũng giống như list ngoại trừ rằng thay vì dùng chỉ số (index) chúng ta sử dụng **key**. Nghĩ về dict như một cặp **key/value**. Dữ liệu dict nằm trong dấu ngoặc nhọn {}, mỗi phần tử được viết bằng key, dấu 2 chấm rồi tới value. Xem ví dụ dưới:"
   ]
  },
  {
   "cell_type": "code",
   "execution_count": 28,
   "metadata": {},
   "outputs": [
    {
     "name": "stdout",
     "output_type": "stream",
     "text": [
      "The third month is Mar\n",
      "Apr and Jan are 3 months apart\n"
     ]
    }
   ],
   "source": [
    "monthNumbers = {'Jan':1, 'Feb':2, 'Mar':3, 'Apr':4,'May':5, 1:'Jan', 2:'Feb', 3:'Mar', 4:'Apr', 5:'May'}\n",
    "print('The third month is ' + monthNumbers[3]) \n",
    "dist = monthNumbers['Apr'] - monthNumbers['Jan']\n",
    "print('Apr and Jan are', dist, 'months apart')"
   ]
  },
  {
   "cell_type": "markdown",
   "metadata": {},
   "source": [
    "Tất cả các phần tử trong một dict không có thứ tự và không thể truy cập bằng chỉ số. \n",
    "Cũng giống list, dict là kiểu dữ liệu mutable, chúng ta có thể thay đổi như sau:\n",
    "monthNumbers\\['June'\\] = 6\n",
    "monthNumbers\\['May'\\] = 'V'\n",
    "\n",
    "Dictionary là một trong những ưu điểm của Python, chúng giảm đi sự khó khăn về việc viết chương trình. Ở ví dụ dưới, chúng ta sử dụng dictionary để viết một chương trình chuyển ngữ. "
   ]
  },
  {
   "cell_type": "code",
   "execution_count": 29,
   "metadata": {},
   "outputs": [
    {
     "name": "stdout",
     "output_type": "stream",
     "text": [
      "Je bois \"good\" rouge vin, et mange pain. \n",
      "I drink of wine red. \n"
     ]
    }
   ],
   "source": [
    "EtoF = {'bread':'pain', 'wine':'vin', 'with':'avec', 'I':'Je', 'eat':'mange', \\\n",
    "        'drink':'bois', 'John':'Jean', 'friends':'amis', 'and': 'et', 'of':'du','red':'rouge'} \n",
    "FtoE = {'pain':'bread', 'vin':'wine', 'avec':'with', 'Je':'I', 'mange':'eat', \\\n",
    "        'bois':'drink', 'Jean':'John', 'amis':'friends', 'et':'and', 'du':'of', 'rouge':'red'} \n",
    "dicts = {'English to French':EtoF, 'French to English':FtoE} \n",
    " \n",
    "def translateWord(word, dictionary): \n",
    "    if word in dictionary.keys(): \n",
    "        return dictionary[word] \n",
    "    elif word != '': \n",
    "        return '\"' + word + '\"' \n",
    "    return word \n",
    "     \n",
    "def translate(phrase, dicts, direction): \n",
    "    UCLetters = 'ABCDEFGHIJKLMNOPQRSTUVWXYZ' \n",
    "    LCLetters = 'abcdefghijklmnopqrstuvwxyz' \n",
    "    letters = UCLetters + LCLetters \n",
    "    dictionary = dicts[direction] \n",
    "    translation = '' \n",
    "    word = '' \n",
    "    for c in phrase: \n",
    "        if c in letters: \n",
    "            word = word + c \n",
    "        else: \n",
    "            translation = translation + translateWord(word, dictionary) + c \n",
    "            word = '' \n",
    "    return translation + ' ' + translateWord(word, dictionary) \n",
    " \n",
    "print (translate('I drink good red wine, and eat bread.', dicts,'English to French') )\n",
    "print (translate('Je bois du vin rouge.', dicts, 'French to English') )"
   ]
  },
  {
   "cell_type": "markdown",
   "metadata": {},
   "source": [
    "Chú ý rằng dictionary là mutable, nên phải cẩn thận các lệnh gán. Ví dụ:"
   ]
  },
  {
   "cell_type": "code",
   "execution_count": 30,
   "metadata": {},
   "outputs": [
    {
     "name": "stdout",
     "output_type": "stream",
     "text": [
      "I wood of wine red. \n"
     ]
    }
   ],
   "source": [
    "FtoE['bois'] = 'wood'\n",
    "print(translate('Je bois du vin rouge.', dicts,'French to English'))"
   ]
  },
  {
   "cell_type": "markdown",
   "metadata": {},
   "source": [
    "Không phải mọi đối tượng đều có thể sử dụng như key. Một key phải là đối tượng của kiểu băm **(hashable type)**. Một kiểu được coi là hashable nếu:\n",
    "1. Một phương pháp \\_\\_hash\\_\\_ ánh xạ đối tượng của kiểu sang kiểu int, và với mỗi đối tượng giá trị được trả bởi \\_\\_hash\\_\\_ sẽ không thay đổi suốt thời gian tồn tại của đối tượng.\n",
    "2. Một phương pháp \\_\\_eq\\_\\_ sẽ được sử dụng để đánh giá sự bình đẳng (equality).\n",
    "\n",
    "<br>Tất cả các kiểu dữ liệu xây dựng sẵn immutable của Python đều là hashable và không có kiểu mutable nào là hashable, nên thường dùng tuple như key. "
   ]
  },
  {
   "cell_type": "markdown",
   "metadata": {},
   "source": [
    "Bên dưới là một vài phép toán giành cho dict:\n",
    "<br>**len(d)** trả về số lượng phần từ trong d. \n",
    "<br>**d.keys()** trả về list chưa các key trong d.\n",
    "<br>**d.values()** trả về list chưa các value trong d.\n",
    "<br>**k in d** trả về True nếu key k có trong d.\n",
    "<br>**d\\[k\\]** trả về value trong d tương ứng với key k.\n",
    "<br>**d.get(k, v)** trả về d\\[k\\] nếu k có trong d, và trả về v trong trường hợp khác.\n",
    "<br>**d\\[k\\] = v** gán giá trị key k bằng value v, nếu đã có value tương ứng với key k tồn tại thì giá trị của nó bị thay thế.\n",
    "<br>**del d\\[k\\]** xóa key k khỏi d.\n",
    "<br>**for k in d** vòng lặp chạy hết các key trong d. "
   ]
  },
  {
   "cell_type": "code",
   "execution_count": null,
   "metadata": {},
   "outputs": [],
   "source": []
  }
 ],
 "metadata": {
  "kernelspec": {
   "display_name": "Python 3",
   "language": "python",
   "name": "python3"
  },
  "language_info": {
   "codemirror_mode": {
    "name": "ipython",
    "version": 3
   },
   "file_extension": ".py",
   "mimetype": "text/x-python",
   "name": "python",
   "nbconvert_exporter": "python",
   "pygments_lexer": "ipython3",
   "version": "3.7.5"
  }
 },
 "nbformat": 4,
 "nbformat_minor": 2
}
