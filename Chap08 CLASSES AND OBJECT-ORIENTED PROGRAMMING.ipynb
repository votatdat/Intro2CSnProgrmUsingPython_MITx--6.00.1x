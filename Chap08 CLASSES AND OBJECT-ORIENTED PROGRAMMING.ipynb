{
 "cells": [
  {
   "cell_type": "markdown",
   "metadata": {},
   "source": [
    "Bây giờ chúng ta chuyển sự chú ý đến chủ đề chính cuối cùng liên quan đến lập trình bằng Python: sử dụng các lớp **(Class)** để tổ chức các chương trình xung quanh các module và trừu tượng dữ liệu.\n",
    "<br>Các lớp có thể được sử dụng theo nhiều cách khác nhau. Trong cuốn sách này, chúng tôi nhấn mạnh việc sử dụng chúng trong bối cảnh lập trình hướng đối tượng **(object-oriented programming)**. Chìa khóa để lập trình hướng đối tượng là suy nghĩ về các đối tượng như các tập của cả dữ liệu và các phương thức hoạt động trên dữ liệu đó."
   ]
  },
  {
   "cell_type": "markdown",
   "metadata": {},
   "source": [
    "# 8.1 Kiểu dữ liệu trừu tượng và lớp (Abstract Data Types  (ADT) and Classes)"
   ]
  },
  {
   "cell_type": "markdown",
   "metadata": {},
   "source": [
    "Khái niệm về kiểu dữ liệu trừu tượng khá đơn giản. Một kiểu dữ liệu trừu tượng (**abstract data type**) là một tập hợp các đối tượng và các hoạt động trên các đối tượng đó. Chúng được gắn kết với nhau để người ta có thể truyền một đối tượng từ một phần của chương trình này sang chương trình khác, và làm như vậy không chỉ cung cấp quyền truy cập vào các thuộc tính dữ liệu của đối tượng mà còn cho phép thao tác dễ dàng với dữ liệu đó."
   ]
  },
  {
   "cell_type": "markdown",
   "metadata": {},
   "source": [
    "Chức năng của các hoạt động đó định nghĩa một giao diện (**interface**) giữa các kiểu dữ liệu trừu tượng và phần còn lại của chương trình. Giao diện xác định hành vi của các hoạt động - những gì chúng làm, chứ không phải chúng làm điều đó như thế nào. Do đó, giao diện cung cấp một rào cản trừu tượng (**abstraction barrier**) để cô lập phần còn lại của chương trình từ các cấu trúc dữ liệu, các thuật toán và mã liên quan đến việc cung cấp một sự trừu tượng hóa kiểu trừu tượng."
   ]
  },
  {
   "cell_type": "markdown",
   "metadata": {},
   "source": [
    "Lập trình là về quản lý sự phức tạp theo cách tạo điều kiện cho sự thay đổi. Có hai cơ chế mạnh mẽ có sẵn để hoàn thành điều này: **decomposition  and  abstraction**.\n",
    "<br>decomposition tạo cấu trúc trong một chương trình và abstraction triệt tiêu chi tiết. Điều quan trọng là để ngăn chặn các chi tiết thích hợp. Đây là nơi dữ liệu trừu tượng chạm thành công. Người ta có thể tạo các type cụ thể để cung cấp một sự trừu tượng thuận tiện. Lý tưởng nhất, các loại này nắm bắt các khái niệm sẽ có liên quan trong suốt thời gian tồn tại của một chương trình. Nếu người ta bắt đầu quá trình lập trình bằng cách nghĩ ra các loại sẽ là tháng liên quan và thậm chí nhiều thập kỷ sau đó, người ta có một cú nhấc chân tuyệt vời trong việc duy trì phần mềm đó."
   ]
  },
  {
   "cell_type": "markdown",
   "metadata": {},
   "source": [
    "Trong Python, người ta thực hiện trừu tượng hóa dữ liệu bằng cách sử dụng các lớp (**class**). Đoạn code bên dưới chứa một định nghĩa lớp (**class definition**) thực hiện đơn giản trừu tượng hóa của một tập hợp các số nguyên được gọi là *IntSet*."
   ]
  },
  {
   "cell_type": "code",
   "execution_count": 4,
   "metadata": {},
   "outputs": [],
   "source": [
    "class IntSet(object):\n",
    "    \"\"\"An intSet is a set of integers\"\"\"\n",
    "    #Information about the implementation (not the abstraction)\n",
    "    #Value of the set is represented by a list of ints, self.vals\n",
    "    #Each int in the set occurs in self.vals exactly once.\n",
    "    \n",
    "    def __init__(self):\n",
    "        \"\"\"Create an empty set of integers\"\"\"\n",
    "        self.vals=[]\n",
    "        \n",
    "    def insert(self, e):\n",
    "        \"\"\"Assumes e is an integer and inserts e into self\"\"\"\n",
    "        if e not in self.vals:\n",
    "            self.vals.append(e)\n",
    "    \n",
    "    def member(self, e):\n",
    "        \"\"\"Assumes e is an integer\n",
    "           Returns True if e is in itself, and False otherwise\"\"\"\n",
    "        return e in self.vals\n",
    "    \n",
    "    def remove(self, e):\n",
    "        \"\"\"Assumes e is an integer and removes e from self\n",
    "           Raises ValueError if e is not in self\"\"\"\n",
    "        try: \n",
    "            self.vals.remove(e)\n",
    "        except:\n",
    "            raise ValueError(str(e) + 'not found')\n",
    "            \n",
    "    def getMembers(self):\n",
    "        \"\"\"Returns a list containing the elements of self\n",
    "           Nothing can be assumed about the order of the elements\"\"\"\n",
    "        return self.vals[:]\n",
    "    \n",
    "    def __str__(self):\n",
    "        \"\"\"Returns a string representation of self\"\"\"\n",
    "        self.vals.sort()\n",
    "        result = ''\n",
    "        for e in self.vals:\n",
    "            result = result + str(e) + ','\n",
    "        return '{' + result[:-1] + '}' #-1 omits trailing comma  "
   ]
  },
  {
   "cell_type": "code",
   "execution_count": 5,
   "metadata": {},
   "outputs": [
    {
     "name": "stdout",
     "output_type": "stream",
     "text": [
      "<class 'type'> <class 'function'>\n"
     ]
    }
   ],
   "source": [
    "print(type(IntSet), type(IntSet.insert))"
   ]
  },
  {
   "cell_type": "markdown",
   "metadata": {},
   "source": [
    "Khi một hàm được định nghĩa trong một lớp, thì hàm được định nghĩa đó gọi là phương thức **(method)** và được gắn liền với lớp. Những phương thức này đôi khi được gọi là thuộc tính phương thức **(method attributes)** của lớp."
   ]
  },
  {
   "cell_type": "markdown",
   "metadata": {},
   "source": [
    "<br> Lớp hỗ trợ hai loại hoạt động:\n",
    "* Khởi tạo **(Instantiation)** được sử dụng để tạo giá trị ban đầu **(instance)** cho lớp. Ví dụ: biểu thức s = IntSet() sẽ tạo một đối tượng mới có kiểu IntSet. Đối tượng này được gọi là khởi tạo (**instance**) của lớp.\n",
    "* Tham chiếu thuộc tính **(Attribute references)** sử dụng dấu chấm (.) để truy xuất các thuộc tính của lớp. Ví dụ s.member sẽ tham chiếu tới phương thức _member_ được liên kết với instance s của kiểu IntSet."
   ]
  },
  {
   "cell_type": "markdown",
   "metadata": {},
   "source": [
    "Mỗi lớp được định nghĩa đều bắt đầu với từ khóa class, theo sau đó là tên lớp và vài thông tin liên quan tới lớp khác. Trong trường hợp này, dòng đầu tiên ám chỉ rằng IntSet là một lớp con (subclass) của _object_. "
   ]
  },
  {
   "cell_type": "markdown",
   "metadata": {},
   "source": [
    "Như chúng ta thấy, Python có vài phương thức đặc biệt có tên bắt đầu và kết thúc bằng hai dấu gạch dưới, chẳng hạn \\_\\_init\\_\\_. Bất cứ khi nào một lớp được khởi tạo, phương thức \\_\\_init\\_\\_ trong lớp sẽ được gọi. Khi dòng lệnh s = IntSet() được thực thi, biên dịch sẽ tạo một khởi tạo mới có kiểu IntSet và sau đó IntSet.\\_\\_init\\_\\_ với đối tượng được tạo mới như là một tham số thực được gắn kết vào thông số self. Khi được gọi, IntSet.\\_\\_init\\_\\_ sẽ tạo _vals_, một đối tượng có kiểu dữ liệu list, sẽ trở thành một phần của khởi tạo mới kiểu IntSet. Đây được gọi là thuộc tính dữ liệu **(data attribute)** của IntSet. Chú ý rằng mỗi đối tượng kiểu IntSet sẽ có vals khác nhau."
   ]
  },
  {
   "cell_type": "markdown",
   "metadata": {},
   "source": [
    "Phương thức liên kết với một lớp có thể được gọi sử dụng dấu chấm (.). Xem ví dụ ở dưới, câu lệnh sẽ khởi tạo IntSet, chèn số nguyên 3 vào trong IntSet nên lệnh print member(3) in ra có kết quả True, print member(4) thì ra False."
   ]
  },
  {
   "cell_type": "code",
   "execution_count": 6,
   "metadata": {},
   "outputs": [
    {
     "name": "stdout",
     "output_type": "stream",
     "text": [
      "True\n",
      "False\n"
     ]
    }
   ],
   "source": [
    "s = IntSet() \n",
    "s.insert(3)\n",
    "print(s.member(3))\n",
    "print(s.member(4))"
   ]
  },
  {
   "cell_type": "markdown",
   "metadata": {},
   "source": [
    "Ở đây, chúng ta thấy *member* có 2 đối số nhưng chúng ta gọi member chỉ với 1 đối số. Đó là một tạo tác của dấu chấm, đối tượng được liên kết với biểu thức trước dấu chấm được truyền ngầm làm tham số đầu tiên cho phương thức."
   ]
  },
  {
   "cell_type": "markdown",
   "metadata": {},
   "source": [
    "Chúng ta không nên nhầm lẫn một lớp với khởi tạo của lớp đó, giống như không nên nhầm lẫn một đối tượng có kiểu list với kiểu list. Các thuộc tính có thể được liên kết với chính lớp đó hoặc với khởi tạo của một lớp:\n",
    "* Thuộc tính phương thức (gọi tắt là phương thức) được định nghĩa trong định nghĩa của lớp, ví dụ IntSet.member là một thuộc tính của lớp InSet. Khi một lớp được khởi tạo, ví dụ câu lệnh s = IntSet(), thì thuộc tính khởi tạo, chẳng hạn s.member, sẽ được tạo. Luôn luôn nhớ rằng IntSet.member và s.member là hai đối tượng khác nhau. Khi s.member được khởi tạo ràng buộc với phương thức member được định nghĩa ở lớp IntSet, thì ràng buộc này vẫn có thể thay đổi trong quá trình tính toán. Ví dụ, chúng ta có thể (nhưng tuyệt đối không nên) viết: \n",
    "```Python \n",
    "s.member = IntSet.insert ```\n",
    "* Khi thuộc tính dữ liệu (gọi tắt là dữ liệu) được liên kết với một lớp, ta gọi đó là biến của lớp **(class variables)**. Khi dữ liệu được liên kết với một khởi tạo, tao gọi đó là biến khởi tạo **(instance variables)**. Ví dụ, vals là biến khởi tạo vì mỗi khi khởi tạo lớp IntSet, vals được ràng buộc với list khác nhau. Ở ví dụ trên không có biến của lớp."
   ]
  },
  {
   "cell_type": "markdown",
   "metadata": {},
   "source": [
    "Data abstraction achieves representation-independence. Think of the implementation of an abstract type as having several components:\n",
    "* Implementations of the methods of the type,\n",
    "* Data structures that together encode values of the type, and\n",
    "* Conventions about how the implementations of the methods are to use the data structures. A key convention is captured by therepresentation invariant."
   ]
  },
  {
   "cell_type": "markdown",
   "metadata": {},
   "source": []
  },
  {
   "cell_type": "code",
   "execution_count": 1,
   "metadata": {},
   "outputs": [
    {
     "name": "stdout",
     "output_type": "stream",
     "text": [
      "Obama\n",
      "Barack Hussein Obama is 20752 days old\n"
     ]
    }
   ],
   "source": [
    "import datetime\n",
    "\n",
    "class Person:\n",
    "    def __init__(self, name):\n",
    "        '''Create a person'''\n",
    "        self.name = name\n",
    "        try:\n",
    "            lastBlank = name.rindex(' ')\n",
    "            self.lastName = name[lastBlank+1:]\n",
    "        except:\n",
    "            self.lastName = name\n",
    "        self.birthday = None\n",
    "    \n",
    "    def getName(self):\n",
    "        '''Returns self's full name'''\n",
    "        return self.name\n",
    "    \n",
    "    def getLastName(self):\n",
    "        '''Returns self's last name'''\n",
    "        return self.lastName\n",
    "    \n",
    "    def setBirthday(self, birthdate):\n",
    "        '''Assumes birthday is of type datetime.date\n",
    "        Sets self's birthday to birthday'''\n",
    "        self.birthday = birthdate\n",
    "        \n",
    "    def getAge(self):\n",
    "        '''Returns self's current age in days'''\n",
    "        if self.birthday == None:\n",
    "            raise ValueError\n",
    "        return (datetime.date.today() - self.birthday).days\n",
    "    \n",
    "    def __lt__ (self, other):\n",
    "        '''Returns True if self precedes other in alphabetical order, and False oterwise.\n",
    "        Comparison is based on last names, but if these are the same full names are compares.'''\n",
    "        if self.lastName == other.lastName:\n",
    "            return self.name < other.name\n",
    "        return self.lastName < other.lastName\n",
    "    \n",
    "    def __str__(self):\n",
    "        '''Returns self's name'''\n",
    "        return self.name\n",
    "\n",
    "me = Person('Michael Guttag') \n",
    "him = Person('Barack Hussein Obama') \n",
    "her = Person('Madonna')\n",
    "print(him.getLastName())\n",
    "him.setBirthday(datetime.date(1961, 8, 4))\n",
    "her.setBirthday(datetime.date(1958, 8, 16))\n",
    "print(him.getName(), 'is', him.getAge(), 'days old')"
   ]
  },
  {
   "cell_type": "code",
   "execution_count": 2,
   "metadata": {},
   "outputs": [
    {
     "name": "stdout",
     "output_type": "stream",
     "text": [
      "Michael Guttag\n",
      "Barack Hussein Obama\n",
      "Madonna\n",
      "Michael Guttag\n",
      "Madonna\n",
      "Barack Hussein Obama\n"
     ]
    }
   ],
   "source": [
    "pList = [me, him, her]\n",
    "for p in pList: \n",
    "    print(p) \n",
    "pList.sort() \n",
    "for p in pList:\n",
    "    print(p)"
   ]
  },
  {
   "cell_type": "markdown",
   "metadata": {},
   "source": [
    "zzzzzzz\n",
    "<br>zzzzzzz\n",
    "<br>zzzzzzz"
   ]
  },
  {
   "cell_type": "code",
   "execution_count": 3,
   "metadata": {},
   "outputs": [],
   "source": [
    "class MITPerson(Person):\n",
    "    nextIdNum = 0 #identification number\n",
    "    \n",
    "    def __init__ (self, name):\n",
    "        Person.__init__(self, name)\n",
    "        self.idNum = MITPerson.nextIdNum\n",
    "        MITPerson.nextIdNum += 1\n",
    "        \n",
    "    def getIdNum(self):\n",
    "        return self.idNum\n",
    "    \n",
    "    def __lt__ (self, other):\n",
    "        return self.idNum < other.idNum\n",
    "    \n",
    "    def isStudent(self):\n",
    "        return isinstance(self, Student)"
   ]
  },
  {
   "cell_type": "markdown",
   "metadata": {},
   "source": [
    "zzzzzzz\n",
    "<br>zzzzzzz\n",
    "<br>zzzzzzz"
   ]
  },
  {
   "cell_type": "code",
   "execution_count": 4,
   "metadata": {},
   "outputs": [],
   "source": [
    "class Student(MITPerson):\n",
    "    pass\n",
    "\n",
    "class UG(Student):\n",
    "    def __init__(self, name, classYear):\n",
    "        MITPerson.__init__(self, name)\n",
    "        self.year = classYear\n",
    "        \n",
    "    def getClass(self):\n",
    "        return self.year\n",
    "\n",
    "class Grad(Student):\n",
    "    pass"
   ]
  },
  {
   "cell_type": "code",
   "execution_count": 5,
   "metadata": {},
   "outputs": [
    {
     "name": "stdout",
     "output_type": "stream",
     "text": [
      "Barbara Beaver's id number is 0\n"
     ]
    }
   ],
   "source": [
    "p1 = MITPerson('Barbara Beaver') \n",
    "print (str(p1) + '\\'s id number is ' + str(p1.getIdNum()) )"
   ]
  },
  {
   "cell_type": "code",
   "execution_count": 6,
   "metadata": {},
   "outputs": [
    {
     "name": "stdout",
     "output_type": "stream",
     "text": [
      "Mark Guttag's id number is 1\n",
      "Billy Bob Beaver's id number is 2\n"
     ]
    }
   ],
   "source": [
    "p1 = MITPerson('Mark Guttag') \n",
    "p2 = MITPerson('Billy Bob Beaver') \n",
    "p3 = MITPerson('Billy Bob Beaver') \n",
    "p4 = Person('Billy Bob Beaver')\n",
    "\n",
    "print (str(p1) + '\\'s id number is ' + str(p1.getIdNum()) )\n",
    "print (str(p2) + '\\'s id number is ' + str(p2.getIdNum()) )"
   ]
  },
  {
   "cell_type": "code",
   "execution_count": 7,
   "metadata": {},
   "outputs": [
    {
     "name": "stdout",
     "output_type": "stream",
     "text": [
      "Buzz Aldrin is a graduate student is True\n",
      "Buzz Aldrin is an undergraduate student is False\n"
     ]
    }
   ],
   "source": [
    "p5 = Grad('Buzz Aldrin') \n",
    "p6 = UG('Billy Beaver', 1984) \n",
    "print (p5, 'is a graduate student is', type(p5) == Grad) \n",
    "print (p5, 'is an undergraduate student is', type(p5) == UG )"
   ]
  },
  {
   "cell_type": "code",
   "execution_count": 8,
   "metadata": {},
   "outputs": [
    {
     "name": "stdout",
     "output_type": "stream",
     "text": [
      "Buzz Aldrin is a student is True\n",
      "Billy Bob Beaver is a student is False\n"
     ]
    }
   ],
   "source": [
    "print (p5,'is a student is', p5.isStudent() )\n",
    "print (p3, 'is a student is', p3.isStudent() )"
   ]
  },
  {
   "cell_type": "markdown",
   "metadata": {},
   "source": [
    "zzzzzzz\n",
    "<br>zzzzzzz\n",
    "<br>zzzzzzz"
   ]
  },
  {
   "cell_type": "code",
   "execution_count": 9,
   "metadata": {},
   "outputs": [],
   "source": [
    "class Grades(object):\n",
    "    '''A mapping from students to a list of grades'''\n",
    "    def __init__(self):\n",
    "        '''Create empty grade book'''\n",
    "        self.students = []\n",
    "        self.grades = {}\n",
    "        self.isSorted = True\n",
    "        \n",
    "    def addStudent(self, student):\n",
    "        '''Assumes: student is of type Student\n",
    "           Add student to the grade book'''\n",
    "        if student in self.students:\n",
    "            raise ValueError('Duplicate student')\n",
    "        self.students.append(student)\n",
    "        self.grades[student.getIdNum()] = []\n",
    "        self.isSorted = False\n",
    "        \n",
    "    def addGrade(self, student, grade):\n",
    "        '''Assumes: grade is a float\n",
    "           Add grade to the list of grades for student'''\n",
    "        try:\n",
    "            self.grades[student.getIdNum()].append(grade)\n",
    "        except:\n",
    "            raise ValueError('Student not in mapping')\n",
    "            \n",
    "    def getGrades(self, student):\n",
    "        '''Return a list of grades for student'''\n",
    "        try: #return copy of student's grades\n",
    "            return self.grades[student.getIdNum()][:]\n",
    "        except:\n",
    "            raise ValueError('Student not in mapping')\n",
    "            \n",
    "    def getStudents(self):\n",
    "        '''Return a list of the students in the grade book'''\n",
    "        if not self.isSorted:\n",
    "            self.students.sort()\n",
    "            self.students.sort()\n",
    "            self.isSorted = True\n",
    "        return self.students[:] #return copy of list of students"
   ]
  },
  {
   "cell_type": "code",
   "execution_count": 10,
   "metadata": {},
   "outputs": [
    {
     "name": "stdout",
     "output_type": "stream",
     "text": [
      "\n",
      "Jane Doe's mean grade is 75.0\n",
      "John Doe's mean grade is 75.0\n",
      "David Henry has no grades\n",
      "Billy Buckner's mean grade is 50.0\n",
      "Bucky F. Dent's mean grade is 87.5\n"
     ]
    }
   ],
   "source": [
    "def gradeReport(course):\n",
    "    '''Assumes course is of type Grades'''\n",
    "    report = ''\n",
    "    for s in course.getStudents():\n",
    "        tot = 0.0\n",
    "        numGrades = 0\n",
    "        for g in course.getGrades(s):\n",
    "            tot += g\n",
    "            numGrades += 1\n",
    "        try:\n",
    "            average = tot/numGrades\n",
    "            report = report + '\\n' + str(s) +  '\\'s mean grade is ' + str(average)\n",
    "        except ZeroDivisionError:\n",
    "            report = report + '\\n' + str(s) + ' has no grades'\n",
    "    return report\n",
    "\n",
    "ug1 = UG('Jane Doe', 2014) \n",
    "ug2 = UG('John Doe', 2015) \n",
    "ug3 = UG('David Henry', 2003) \n",
    "g1 = Grad('Billy Buckner') \n",
    "g2 = Grad('Bucky F. Dent') \n",
    "\n",
    "sixHundred = Grades() \n",
    "sixHundred.addStudent(ug1) \n",
    "sixHundred.addStudent(ug2) \n",
    "sixHundred.addStudent(g1) \n",
    "sixHundred.addStudent(g2) \n",
    "\n",
    "for s in sixHundred.getStudents(): \n",
    "    sixHundred.addGrade(s, 75)\n",
    "    \n",
    "sixHundred.addGrade(g1, 25) \n",
    "sixHundred.addGrade(g2, 100) \n",
    "sixHundred.addStudent(ug3) \n",
    "print (gradeReport(sixHundred))"
   ]
  },
  {
   "cell_type": "code",
   "execution_count": null,
   "metadata": {},
   "outputs": [],
   "source": []
  },
  {
   "cell_type": "code",
   "execution_count": null,
   "metadata": {},
   "outputs": [],
   "source": []
  },
  {
   "cell_type": "code",
   "execution_count": null,
   "metadata": {},
   "outputs": [],
   "source": []
  }
 ],
 "metadata": {
  "kernelspec": {
   "display_name": "Python 3",
   "language": "python",
   "name": "python3"
  },
  "language_info": {
   "codemirror_mode": {
    "name": "ipython",
    "version": 3
   },
   "file_extension": ".py",
   "mimetype": "text/x-python",
   "name": "python",
   "nbconvert_exporter": "python",
   "pygments_lexer": "ipython3",
   "version": "3.7.5"
  }
 },
 "nbformat": 4,
 "nbformat_minor": 2
}
